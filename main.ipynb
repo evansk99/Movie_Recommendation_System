{
  "metadata": {
    "kernelspec": {
      "name": "python",
      "display_name": "Python (Pyodide)",
      "language": "python"
    },
    "language_info": {
      "codemirror_mode": {
        "name": "python",
        "version": 3
      },
      "file_extension": ".py",
      "mimetype": "text/x-python",
      "name": "python",
      "nbconvert_exporter": "python",
      "pygments_lexer": "ipython3",
      "version": "3.8"
    }
  },
  "nbformat_minor": 4,
  "nbformat": 4,
  "cells": [
    {
      "cell_type": "code",
      "source": "import pandas as pd\nimport numpy as np\nimport copy\nimport random\nfrom sklearn.metrics.pairwise import cosine_similarity",
      "metadata": {
        "trusted": true
      },
      "outputs": [],
      "execution_count": 504
    },
    {
      "cell_type": "code",
      "source": "pd.set_option('display.max_rows', None)\npd.set_option('display.max_columns', None)",
      "metadata": {
        "trusted": true
      },
      "outputs": [],
      "execution_count": 505
    },
    {
      "cell_type": "code",
      "source": "#Load Dataset and Create a Backup (df2)\ndf = pd.read_csv('IMDb_Data_final.csv')\ndf2=copy.deepcopy(df)\ndf2.head(5) #Show Data",
      "metadata": {
        "trusted": true
      },
      "outputs": [
        {
          "execution_count": 506,
          "output_type": "execute_result",
          "data": {
            "text/plain": "                               Title            Director  \\\n0                  Top Gun: Maverick      JosephKosinski   \n1  Everything Everywhere All at Once            DanKwan,   \n2                         The Batman          MattReeves   \n3                      Jurassic Park     StevenSpielberg   \n4                      The Godfather  FrancisFordCoppola   \n\n                                               Stars  IMDb-Rating  \\\n0  TomCruise, JenniferConnelly, MilesTeller, ValK...          8.6   \n1  , MichelleYeoh, StephanieHsu, KeHuyQuan, James...          8.3   \n2  RobertPattinson, ZoëKravitz, JeffreyWright, Co...          7.9   \n3  SamNeill, LauraDern, JeffGoldblum, RichardAtte...          8.2   \n4     MarlonBrando, AlPacino, JamesCaan, DianeKeaton          9.2   \n\n                  Category Duration Censor-board-rating  ReleaseYear  \n0             Action,Drama   130min                  UA         2022  \n1  Action,Adventure,Comedy   139min                   R         2022  \n2       Action,Crime,Drama   176min                  UA         2022  \n3  Action,Adventure,Sci-Fi   127min                  UA         1993  \n4              Crime,Drama   175min                   A         1972  ",
            "text/html": "<div>\n<style scoped>\n    .dataframe tbody tr th:only-of-type {\n        vertical-align: middle;\n    }\n\n    .dataframe tbody tr th {\n        vertical-align: top;\n    }\n\n    .dataframe thead th {\n        text-align: right;\n    }\n</style>\n<table border=\"1\" class=\"dataframe\">\n  <thead>\n    <tr style=\"text-align: right;\">\n      <th></th>\n      <th>Title</th>\n      <th>Director</th>\n      <th>Stars</th>\n      <th>IMDb-Rating</th>\n      <th>Category</th>\n      <th>Duration</th>\n      <th>Censor-board-rating</th>\n      <th>ReleaseYear</th>\n    </tr>\n  </thead>\n  <tbody>\n    <tr>\n      <th>0</th>\n      <td>Top Gun: Maverick</td>\n      <td>JosephKosinski</td>\n      <td>TomCruise, JenniferConnelly, MilesTeller, ValK...</td>\n      <td>8.6</td>\n      <td>Action,Drama</td>\n      <td>130min</td>\n      <td>UA</td>\n      <td>2022</td>\n    </tr>\n    <tr>\n      <th>1</th>\n      <td>Everything Everywhere All at Once</td>\n      <td>DanKwan,</td>\n      <td>, MichelleYeoh, StephanieHsu, KeHuyQuan, James...</td>\n      <td>8.3</td>\n      <td>Action,Adventure,Comedy</td>\n      <td>139min</td>\n      <td>R</td>\n      <td>2022</td>\n    </tr>\n    <tr>\n      <th>2</th>\n      <td>The Batman</td>\n      <td>MattReeves</td>\n      <td>RobertPattinson, ZoëKravitz, JeffreyWright, Co...</td>\n      <td>7.9</td>\n      <td>Action,Crime,Drama</td>\n      <td>176min</td>\n      <td>UA</td>\n      <td>2022</td>\n    </tr>\n    <tr>\n      <th>3</th>\n      <td>Jurassic Park</td>\n      <td>StevenSpielberg</td>\n      <td>SamNeill, LauraDern, JeffGoldblum, RichardAtte...</td>\n      <td>8.2</td>\n      <td>Action,Adventure,Sci-Fi</td>\n      <td>127min</td>\n      <td>UA</td>\n      <td>1993</td>\n    </tr>\n    <tr>\n      <th>4</th>\n      <td>The Godfather</td>\n      <td>FrancisFordCoppola</td>\n      <td>MarlonBrando, AlPacino, JamesCaan, DianeKeaton</td>\n      <td>9.2</td>\n      <td>Crime,Drama</td>\n      <td>175min</td>\n      <td>A</td>\n      <td>1972</td>\n    </tr>\n  </tbody>\n</table>\n</div>"
          },
          "metadata": {}
        }
      ],
      "execution_count": 506
    },
    {
      "cell_type": "code",
      "source": "### Data Inspection and Preprocessing ###",
      "metadata": {
        "trusted": true
      },
      "outputs": [],
      "execution_count": 507
    },
    {
      "cell_type": "code",
      "source": "#Title Inspection\n#df2['Title'].value_counts(dropna=False) \n#Check Title Duplicates (Drishyam, Scarface 2 times)\n#title_counts=df2['Title'].value_counts()>1 #Check for duplicates",
      "metadata": {
        "trusted": true
      },
      "outputs": [],
      "execution_count": 508
    },
    {
      "cell_type": "code",
      "source": "#After inspection these are the original Malayalam version of 2013 and the Hindi remake of 2015 so both are valid\ndf2[df2['Title']=='Drishyam']",
      "metadata": {
        "trusted": true
      },
      "outputs": [
        {
          "execution_count": 509,
          "output_type": "execute_result",
          "data": {
            "text/plain": "        Title        Director                                      Stars  \\\n779  Drishyam  NishikantKamat  AjayDevgn, ShriyaSaran, Tabu, RajatKapoor   \n967  Drishyam    JeethuJoseph       Mohanlal, Meena, AshaSharath, Ansiba   \n\n     IMDb-Rating              Category Duration Censor-board-rating  \\\n779          8.2   Crime,Drama,Mystery   163min                  UA   \n967          8.3  Crime,Drama,Thriller   160min                   U   \n\n     ReleaseYear  \n779         2015  \n967         2013  ",
            "text/html": "<div>\n<style scoped>\n    .dataframe tbody tr th:only-of-type {\n        vertical-align: middle;\n    }\n\n    .dataframe tbody tr th {\n        vertical-align: top;\n    }\n\n    .dataframe thead th {\n        text-align: right;\n    }\n</style>\n<table border=\"1\" class=\"dataframe\">\n  <thead>\n    <tr style=\"text-align: right;\">\n      <th></th>\n      <th>Title</th>\n      <th>Director</th>\n      <th>Stars</th>\n      <th>IMDb-Rating</th>\n      <th>Category</th>\n      <th>Duration</th>\n      <th>Censor-board-rating</th>\n      <th>ReleaseYear</th>\n    </tr>\n  </thead>\n  <tbody>\n    <tr>\n      <th>779</th>\n      <td>Drishyam</td>\n      <td>NishikantKamat</td>\n      <td>AjayDevgn, ShriyaSaran, Tabu, RajatKapoor</td>\n      <td>8.2</td>\n      <td>Crime,Drama,Mystery</td>\n      <td>163min</td>\n      <td>UA</td>\n      <td>2015</td>\n    </tr>\n    <tr>\n      <th>967</th>\n      <td>Drishyam</td>\n      <td>JeethuJoseph</td>\n      <td>Mohanlal, Meena, AshaSharath, Ansiba</td>\n      <td>8.3</td>\n      <td>Crime,Drama,Thriller</td>\n      <td>160min</td>\n      <td>U</td>\n      <td>2013</td>\n    </tr>\n  </tbody>\n</table>\n</div>"
          },
          "metadata": {}
        }
      ],
      "execution_count": 509
    },
    {
      "cell_type": "code",
      "source": "df2[df2['Title']=='Scarface']\n#After inspection these are the original Scarface version of 1932 and the famous remake of 1983 so both are valid",
      "metadata": {
        "trusted": true
      },
      "outputs": [
        {
          "execution_count": 510,
          "output_type": "execute_result",
          "data": {
            "text/plain": "        Title      Director  \\\n96   Scarface  BrianDePalma   \n837  Scarface  HowardHawks,   \n\n                                                 Stars  IMDb-Rating  \\\n96   AlPacino, MichellePfeiffer, StevenBauer, MaryE...          8.3   \n837  , PaulMuni, AnnDvorak, KarenMorley, OsgoodPerkins          7.7   \n\n               Category Duration Censor-board-rating  ReleaseYear  \n96          Crime,Drama   170min                   A         1983  \n837  Action,Crime,Drama    93min                 NaN         1932  ",
            "text/html": "<div>\n<style scoped>\n    .dataframe tbody tr th:only-of-type {\n        vertical-align: middle;\n    }\n\n    .dataframe tbody tr th {\n        vertical-align: top;\n    }\n\n    .dataframe thead th {\n        text-align: right;\n    }\n</style>\n<table border=\"1\" class=\"dataframe\">\n  <thead>\n    <tr style=\"text-align: right;\">\n      <th></th>\n      <th>Title</th>\n      <th>Director</th>\n      <th>Stars</th>\n      <th>IMDb-Rating</th>\n      <th>Category</th>\n      <th>Duration</th>\n      <th>Censor-board-rating</th>\n      <th>ReleaseYear</th>\n    </tr>\n  </thead>\n  <tbody>\n    <tr>\n      <th>96</th>\n      <td>Scarface</td>\n      <td>BrianDePalma</td>\n      <td>AlPacino, MichellePfeiffer, StevenBauer, MaryE...</td>\n      <td>8.3</td>\n      <td>Crime,Drama</td>\n      <td>170min</td>\n      <td>A</td>\n      <td>1983</td>\n    </tr>\n    <tr>\n      <th>837</th>\n      <td>Scarface</td>\n      <td>HowardHawks,</td>\n      <td>, PaulMuni, AnnDvorak, KarenMorley, OsgoodPerkins</td>\n      <td>7.7</td>\n      <td>Action,Crime,Drama</td>\n      <td>93min</td>\n      <td>NaN</td>\n      <td>1932</td>\n    </tr>\n  </tbody>\n</table>\n</div>"
          },
          "metadata": {}
        }
      ],
      "execution_count": 510
    },
    {
      "cell_type": "code",
      "source": "#Creation of Processed Dataframe\nTitles=df2['Title'] #Correct Titles (no changes needed)\nMovie_ID = pd.Series(df2.index) #Creating a Movie_ID that corresponds to the row number\n#Movie_ID.head(5)\nProcessed_Dataframe=pd.concat([Movie_ID, Titles],axis=1)\nProcessed_Dataframe.rename(columns={0:'Movie_ID'},inplace=True)\nProcessed_Dataframe.head(5)",
      "metadata": {
        "trusted": true
      },
      "outputs": [
        {
          "execution_count": 511,
          "output_type": "execute_result",
          "data": {
            "text/plain": "   Movie_ID                              Title\n0         0                  Top Gun: Maverick\n1         1  Everything Everywhere All at Once\n2         2                         The Batman\n3         3                      Jurassic Park\n4         4                      The Godfather",
            "text/html": "<div>\n<style scoped>\n    .dataframe tbody tr th:only-of-type {\n        vertical-align: middle;\n    }\n\n    .dataframe tbody tr th {\n        vertical-align: top;\n    }\n\n    .dataframe thead th {\n        text-align: right;\n    }\n</style>\n<table border=\"1\" class=\"dataframe\">\n  <thead>\n    <tr style=\"text-align: right;\">\n      <th></th>\n      <th>Movie_ID</th>\n      <th>Title</th>\n    </tr>\n  </thead>\n  <tbody>\n    <tr>\n      <th>0</th>\n      <td>0</td>\n      <td>Top Gun: Maverick</td>\n    </tr>\n    <tr>\n      <th>1</th>\n      <td>1</td>\n      <td>Everything Everywhere All at Once</td>\n    </tr>\n    <tr>\n      <th>2</th>\n      <td>2</td>\n      <td>The Batman</td>\n    </tr>\n    <tr>\n      <th>3</th>\n      <td>3</td>\n      <td>Jurassic Park</td>\n    </tr>\n    <tr>\n      <th>4</th>\n      <td>4</td>\n      <td>The Godfather</td>\n    </tr>\n  </tbody>\n</table>\n</div>"
          },
          "metadata": {}
        }
      ],
      "execution_count": 511
    },
    {
      "cell_type": "code",
      "source": "#Director Inspection\n#df2['Director'].value_counts(dropna=False) \n#Multiple Directors with more than one entry but entries are correct",
      "metadata": {
        "trusted": true
      },
      "outputs": [],
      "execution_count": 512
    },
    {
      "cell_type": "code",
      "source": "#Stars Inspection\ndf2['Stars'].head(10) #Movie Stars are in lists and are numerous",
      "metadata": {
        "trusted": true
      },
      "outputs": [
        {
          "execution_count": 514,
          "output_type": "execute_result",
          "data": {
            "text/plain": "0    TomCruise, JenniferConnelly, MilesTeller, ValK...\n1    , MichelleYeoh, StephanieHsu, KeHuyQuan, James...\n2    RobertPattinson, ZoëKravitz, JeffreyWright, Co...\n3    SamNeill, LauraDern, JeffGoldblum, RichardAtte...\n4       MarlonBrando, AlPacino, JamesCaan, DianeKeaton\n5    TomHolland, Zendaya, BenedictCumberbatch, Jaco...\n6      N.T.RamaRaoJr., RamCharan, AjayDevgn, AliaBhatt\n7    JohnnyDepp, GeoffreyRush, OrlandoBloom, KeiraK...\n8    TimothéeChalamet, RebeccaFerguson, Zendaya, Os...\n9    RobertDeNiro, RayLiotta, JoePesci, LorraineBracco\nName: Stars, dtype: object"
          },
          "metadata": {}
        }
      ],
      "execution_count": 514
    },
    {
      "cell_type": "code",
      "source": "#People are probably interested in the leading actors so we keep the 2 protagonists and discard the rest\nLead_Actors=df2['Stars'].str.split(',', n=3).str[:3]\nfor Actor in range(len(Lead_Actors)): \n    Lead_Actors[Actor]=Lead_Actors[Actor][0:2] if Lead_Actors[Actor][0]!='' else Lead_Actors[Actor][1:3] #Some lists' first entry is blank so we skip it ",
      "metadata": {
        "trusted": true
      },
      "outputs": [],
      "execution_count": 515
    },
    {
      "cell_type": "code",
      "source": "Lead_Actors.head(5)",
      "metadata": {
        "trusted": true
      },
      "outputs": [
        {
          "execution_count": 516,
          "output_type": "execute_result",
          "data": {
            "text/plain": "0    [TomCruise,  JenniferConnelly]\n1    [ MichelleYeoh,  StephanieHsu]\n2    [RobertPattinson,  ZoëKravitz]\n3            [SamNeill,  LauraDern]\n4         [MarlonBrando,  AlPacino]\nName: Stars, dtype: object"
          },
          "metadata": {}
        }
      ],
      "execution_count": 516
    },
    {
      "cell_type": "code",
      "source": "Lead_Actors[0][0]",
      "metadata": {
        "trusted": true
      },
      "outputs": [
        {
          "execution_count": 517,
          "output_type": "execute_result",
          "data": {
            "text/plain": "'TomCruise'"
          },
          "metadata": {}
        }
      ],
      "execution_count": 517
    },
    {
      "cell_type": "code",
      "source": "Processed_Dataframe=pd.concat([Processed_Dataframe,df2['Director'],Lead_Actors],axis=1)\nProcessed_Dataframe.head(5)",
      "metadata": {
        "trusted": true
      },
      "outputs": [
        {
          "execution_count": 518,
          "output_type": "execute_result",
          "data": {
            "text/plain": "   Movie_ID                              Title            Director  \\\n0         0                  Top Gun: Maverick      JosephKosinski   \n1         1  Everything Everywhere All at Once            DanKwan,   \n2         2                         The Batman          MattReeves   \n3         3                      Jurassic Park     StevenSpielberg   \n4         4                      The Godfather  FrancisFordCoppola   \n\n                            Stars  \n0  [TomCruise,  JenniferConnelly]  \n1  [ MichelleYeoh,  StephanieHsu]  \n2  [RobertPattinson,  ZoëKravitz]  \n3          [SamNeill,  LauraDern]  \n4       [MarlonBrando,  AlPacino]  ",
            "text/html": "<div>\n<style scoped>\n    .dataframe tbody tr th:only-of-type {\n        vertical-align: middle;\n    }\n\n    .dataframe tbody tr th {\n        vertical-align: top;\n    }\n\n    .dataframe thead th {\n        text-align: right;\n    }\n</style>\n<table border=\"1\" class=\"dataframe\">\n  <thead>\n    <tr style=\"text-align: right;\">\n      <th></th>\n      <th>Movie_ID</th>\n      <th>Title</th>\n      <th>Director</th>\n      <th>Stars</th>\n    </tr>\n  </thead>\n  <tbody>\n    <tr>\n      <th>0</th>\n      <td>0</td>\n      <td>Top Gun: Maverick</td>\n      <td>JosephKosinski</td>\n      <td>[TomCruise,  JenniferConnelly]</td>\n    </tr>\n    <tr>\n      <th>1</th>\n      <td>1</td>\n      <td>Everything Everywhere All at Once</td>\n      <td>DanKwan,</td>\n      <td>[ MichelleYeoh,  StephanieHsu]</td>\n    </tr>\n    <tr>\n      <th>2</th>\n      <td>2</td>\n      <td>The Batman</td>\n      <td>MattReeves</td>\n      <td>[RobertPattinson,  ZoëKravitz]</td>\n    </tr>\n    <tr>\n      <th>3</th>\n      <td>3</td>\n      <td>Jurassic Park</td>\n      <td>StevenSpielberg</td>\n      <td>[SamNeill,  LauraDern]</td>\n    </tr>\n    <tr>\n      <th>4</th>\n      <td>4</td>\n      <td>The Godfather</td>\n      <td>FrancisFordCoppola</td>\n      <td>[MarlonBrando,  AlPacino]</td>\n    </tr>\n  </tbody>\n</table>\n</div>"
          },
          "metadata": {}
        }
      ],
      "execution_count": 518
    },
    {
      "cell_type": "code",
      "source": "#Check how many movies Tom Cruise has stared in...\nfor i in range(len(Lead_Actors)):\n    if('TomCruise' in Lead_Actors[i]):\n        print(Processed_Dataframe.iloc[i])",
      "metadata": {
        "trusted": true
      },
      "outputs": [
        {
          "name": "stdout",
          "text": "Movie_ID                                 0\nTitle                    Top Gun: Maverick\nDirector                    JosephKosinski\nStars       [TomCruise,  JenniferConnelly]\nName: 0, dtype: object\nMovie_ID                               29\nTitle       Mission: Impossible - Fallout\nDirector             ChristopherMcQuarrie\nStars           [TomCruise,  HenryCavill]\nName: 29, dtype: object\nMovie_ID                             93\nTitle                    A Few Good Men\nDirector                      RobReiner\nStars       [TomCruise,  JackNicholson]\nName: 93, dtype: object\nMovie_ID                         111\nTitle               Edge of Tomorrow\nDirector                   DougLiman\nStars       [TomCruise,  EmilyBlunt]\nName: 111, dtype: object\nMovie_ID                          174\nTitle                The Last Samurai\nDirector                  EdwardZwick\nStars       [TomCruise,  KenWatanabe]\nName: 174, dtype: object\nMovie_ID                           201\nTitle                  Minority Report\nDirector               StevenSpielberg\nStars       [TomCruise,  ColinFarrell]\nName: 201, dtype: object\nMovie_ID                           232\nTitle                         Magnolia\nDirector            PaulThomasAnderson\nStars       [TomCruise,  JasonRobards]\nName: 232, dtype: object\n",
          "output_type": "stream"
        }
      ],
      "execution_count": 519
    },
    {
      "cell_type": "code",
      "source": "#Category Inspection\ndf2['Category'].head(10) #List of genres",
      "metadata": {
        "trusted": true
      },
      "outputs": [
        {
          "execution_count": 520,
          "output_type": "execute_result",
          "data": {
            "text/plain": "0                Action,Drama\n1     Action,Adventure,Comedy\n2          Action,Crime,Drama\n3     Action,Adventure,Sci-Fi\n4                 Crime,Drama\n5    Action,Adventure,Fantasy\n6                Action,Drama\n7    Action,Adventure,Fantasy\n8      Action,Adventure,Drama\n9       Biography,Crime,Drama\nName: Category, dtype: object"
          },
          "metadata": {}
        }
      ],
      "execution_count": 520
    },
    {
      "cell_type": "code",
      "source": "df2['Category'].value_counts(dropna=False) #NaN value noted",
      "metadata": {
        "trusted": true
      },
      "outputs": [],
      "execution_count": null
    },
    {
      "cell_type": "code",
      "source": "#Number of distinct categories in movies\nCategories=df2['Category'].str.split(',')\ngenres=[]\nfor movie in range(len(Categories)):\n    if(isinstance(Categories[movie], float)):\n        #print(Categories[movie])\n        continue\n    else:\n        for genre in Categories[movie]:\n            if(genre not in genres):\n                genres.append(genre)\ngenres=sorted(genres)",
      "metadata": {
        "trusted": true
      },
      "outputs": [],
      "execution_count": 521
    },
    {
      "cell_type": "code",
      "source": "#A nan value is included in categories so the movie is not categorised in terms of genre\nCategories[639]",
      "metadata": {
        "trusted": true
      },
      "outputs": [
        {
          "execution_count": 522,
          "output_type": "execute_result",
          "data": {
            "text/plain": "nan"
          },
          "metadata": {}
        }
      ],
      "execution_count": 522
    },
    {
      "cell_type": "code",
      "source": "genres\n#len(genres)",
      "metadata": {
        "trusted": true
      },
      "outputs": [
        {
          "execution_count": 523,
          "output_type": "execute_result",
          "data": {
            "text/plain": "['Action',\n 'Adventure',\n 'Animation',\n 'Biography',\n 'Comedy',\n 'Crime',\n 'Drama',\n 'Family',\n 'Fantasy',\n 'Film-Noir',\n 'History',\n 'Horror',\n 'Music',\n 'Musical',\n 'Mystery',\n 'Romance',\n 'Sci-Fi',\n 'Sport',\n 'Thriller',\n 'War',\n 'Western']"
          },
          "metadata": {}
        }
      ],
      "execution_count": 523
    },
    {
      "cell_type": "code",
      "source": "#One hot-Encoding Movie Categories \nCategories_Encoded = pd.DataFrame(hard_coded, columns=categories)\nCategories_Encoded=Categories_Encoded.astype(int)",
      "metadata": {
        "trusted": true
      },
      "outputs": [],
      "execution_count": 524
    },
    {
      "cell_type": "code",
      "source": "Categories_Encoded.head(10)",
      "metadata": {
        "trusted": true
      },
      "outputs": [
        {
          "execution_count": 525,
          "output_type": "execute_result",
          "data": {
            "text/plain": "   Action  Adventure  Animation  Biography  Comedy  Crime  Drama  Family  \\\n0       1          0          0          0       0      0      1       0   \n1       1          1          0          0       1      0      0       0   \n2       1          0          0          0       0      1      1       0   \n3       1          1          0          0       0      0      0       0   \n4       0          0          0          0       0      1      1       0   \n5       1          1          0          0       0      0      0       0   \n6       1          0          0          0       0      0      1       0   \n7       1          1          0          0       0      0      0       0   \n8       1          1          0          0       0      0      1       0   \n9       0          0          0          1       0      1      1       0   \n\n   Fantasy  Film-Noir  History  Horror  Music  Musical  Mystery  Romance  \\\n0        0          0        0       0      0        0        0        0   \n1        0          0        0       0      0        0        0        0   \n2        0          0        0       0      0        0        0        0   \n3        0          0        0       0      0        0        0        0   \n4        0          0        0       0      0        0        0        0   \n5        1          0        0       0      0        0        0        0   \n6        0          0        0       0      0        0        0        0   \n7        1          0        0       0      0        0        0        0   \n8        0          0        0       0      0        0        0        0   \n9        0          0        0       0      0        0        0        0   \n\n   Sci-Fi  Sport  Thriller  War  Western  \n0       0      0         0    0        0  \n1       0      0         0    0        0  \n2       0      0         0    0        0  \n3       1      0         0    0        0  \n4       0      0         0    0        0  \n5       0      0         0    0        0  \n6       0      0         0    0        0  \n7       0      0         0    0        0  \n8       0      0         0    0        0  \n9       0      0         0    0        0  ",
            "text/html": "<div>\n<style scoped>\n    .dataframe tbody tr th:only-of-type {\n        vertical-align: middle;\n    }\n\n    .dataframe tbody tr th {\n        vertical-align: top;\n    }\n\n    .dataframe thead th {\n        text-align: right;\n    }\n</style>\n<table border=\"1\" class=\"dataframe\">\n  <thead>\n    <tr style=\"text-align: right;\">\n      <th></th>\n      <th>Action</th>\n      <th>Adventure</th>\n      <th>Animation</th>\n      <th>Biography</th>\n      <th>Comedy</th>\n      <th>Crime</th>\n      <th>Drama</th>\n      <th>Family</th>\n      <th>Fantasy</th>\n      <th>Film-Noir</th>\n      <th>History</th>\n      <th>Horror</th>\n      <th>Music</th>\n      <th>Musical</th>\n      <th>Mystery</th>\n      <th>Romance</th>\n      <th>Sci-Fi</th>\n      <th>Sport</th>\n      <th>Thriller</th>\n      <th>War</th>\n      <th>Western</th>\n    </tr>\n  </thead>\n  <tbody>\n    <tr>\n      <th>0</th>\n      <td>1</td>\n      <td>0</td>\n      <td>0</td>\n      <td>0</td>\n      <td>0</td>\n      <td>0</td>\n      <td>1</td>\n      <td>0</td>\n      <td>0</td>\n      <td>0</td>\n      <td>0</td>\n      <td>0</td>\n      <td>0</td>\n      <td>0</td>\n      <td>0</td>\n      <td>0</td>\n      <td>0</td>\n      <td>0</td>\n      <td>0</td>\n      <td>0</td>\n      <td>0</td>\n    </tr>\n    <tr>\n      <th>1</th>\n      <td>1</td>\n      <td>1</td>\n      <td>0</td>\n      <td>0</td>\n      <td>1</td>\n      <td>0</td>\n      <td>0</td>\n      <td>0</td>\n      <td>0</td>\n      <td>0</td>\n      <td>0</td>\n      <td>0</td>\n      <td>0</td>\n      <td>0</td>\n      <td>0</td>\n      <td>0</td>\n      <td>0</td>\n      <td>0</td>\n      <td>0</td>\n      <td>0</td>\n      <td>0</td>\n    </tr>\n    <tr>\n      <th>2</th>\n      <td>1</td>\n      <td>0</td>\n      <td>0</td>\n      <td>0</td>\n      <td>0</td>\n      <td>1</td>\n      <td>1</td>\n      <td>0</td>\n      <td>0</td>\n      <td>0</td>\n      <td>0</td>\n      <td>0</td>\n      <td>0</td>\n      <td>0</td>\n      <td>0</td>\n      <td>0</td>\n      <td>0</td>\n      <td>0</td>\n      <td>0</td>\n      <td>0</td>\n      <td>0</td>\n    </tr>\n    <tr>\n      <th>3</th>\n      <td>1</td>\n      <td>1</td>\n      <td>0</td>\n      <td>0</td>\n      <td>0</td>\n      <td>0</td>\n      <td>0</td>\n      <td>0</td>\n      <td>0</td>\n      <td>0</td>\n      <td>0</td>\n      <td>0</td>\n      <td>0</td>\n      <td>0</td>\n      <td>0</td>\n      <td>0</td>\n      <td>1</td>\n      <td>0</td>\n      <td>0</td>\n      <td>0</td>\n      <td>0</td>\n    </tr>\n    <tr>\n      <th>4</th>\n      <td>0</td>\n      <td>0</td>\n      <td>0</td>\n      <td>0</td>\n      <td>0</td>\n      <td>1</td>\n      <td>1</td>\n      <td>0</td>\n      <td>0</td>\n      <td>0</td>\n      <td>0</td>\n      <td>0</td>\n      <td>0</td>\n      <td>0</td>\n      <td>0</td>\n      <td>0</td>\n      <td>0</td>\n      <td>0</td>\n      <td>0</td>\n      <td>0</td>\n      <td>0</td>\n    </tr>\n    <tr>\n      <th>5</th>\n      <td>1</td>\n      <td>1</td>\n      <td>0</td>\n      <td>0</td>\n      <td>0</td>\n      <td>0</td>\n      <td>0</td>\n      <td>0</td>\n      <td>1</td>\n      <td>0</td>\n      <td>0</td>\n      <td>0</td>\n      <td>0</td>\n      <td>0</td>\n      <td>0</td>\n      <td>0</td>\n      <td>0</td>\n      <td>0</td>\n      <td>0</td>\n      <td>0</td>\n      <td>0</td>\n    </tr>\n    <tr>\n      <th>6</th>\n      <td>1</td>\n      <td>0</td>\n      <td>0</td>\n      <td>0</td>\n      <td>0</td>\n      <td>0</td>\n      <td>1</td>\n      <td>0</td>\n      <td>0</td>\n      <td>0</td>\n      <td>0</td>\n      <td>0</td>\n      <td>0</td>\n      <td>0</td>\n      <td>0</td>\n      <td>0</td>\n      <td>0</td>\n      <td>0</td>\n      <td>0</td>\n      <td>0</td>\n      <td>0</td>\n    </tr>\n    <tr>\n      <th>7</th>\n      <td>1</td>\n      <td>1</td>\n      <td>0</td>\n      <td>0</td>\n      <td>0</td>\n      <td>0</td>\n      <td>0</td>\n      <td>0</td>\n      <td>1</td>\n      <td>0</td>\n      <td>0</td>\n      <td>0</td>\n      <td>0</td>\n      <td>0</td>\n      <td>0</td>\n      <td>0</td>\n      <td>0</td>\n      <td>0</td>\n      <td>0</td>\n      <td>0</td>\n      <td>0</td>\n    </tr>\n    <tr>\n      <th>8</th>\n      <td>1</td>\n      <td>1</td>\n      <td>0</td>\n      <td>0</td>\n      <td>0</td>\n      <td>0</td>\n      <td>1</td>\n      <td>0</td>\n      <td>0</td>\n      <td>0</td>\n      <td>0</td>\n      <td>0</td>\n      <td>0</td>\n      <td>0</td>\n      <td>0</td>\n      <td>0</td>\n      <td>0</td>\n      <td>0</td>\n      <td>0</td>\n      <td>0</td>\n      <td>0</td>\n    </tr>\n    <tr>\n      <th>9</th>\n      <td>0</td>\n      <td>0</td>\n      <td>0</td>\n      <td>1</td>\n      <td>0</td>\n      <td>1</td>\n      <td>1</td>\n      <td>0</td>\n      <td>0</td>\n      <td>0</td>\n      <td>0</td>\n      <td>0</td>\n      <td>0</td>\n      <td>0</td>\n      <td>0</td>\n      <td>0</td>\n      <td>0</td>\n      <td>0</td>\n      <td>0</td>\n      <td>0</td>\n      <td>0</td>\n    </tr>\n  </tbody>\n</table>\n</div>"
          },
          "metadata": {}
        }
      ],
      "execution_count": 525
    },
    {
      "cell_type": "code",
      "source": "#Locating where the NaN value is in the original dataset\nidx=df2[df2['Category'].isna()].index #RowNumber of NaN value\nCategories_Encoded.iloc[idx]=0 #Setting all genre values to 0 for that movie",
      "metadata": {
        "trusted": true
      },
      "outputs": [],
      "execution_count": 526
    },
    {
      "cell_type": "code",
      "source": "Categories_Encoded.iloc[639] #Check Nan Values has been taken care of",
      "metadata": {
        "trusted": true
      },
      "outputs": [
        {
          "execution_count": 527,
          "output_type": "execute_result",
          "data": {
            "text/plain": "Action       0\nAdventure    0\nAnimation    0\nBiography    0\nComedy       0\nCrime        0\nDrama        0\nFamily       0\nFantasy      0\nFilm-Noir    0\nHistory      0\nHorror       0\nMusic        0\nMusical      0\nMystery      0\nRomance      0\nSci-Fi       0\nSport        0\nThriller     0\nWar          0\nWestern      0\nName: 639, dtype: int32"
          },
          "metadata": {}
        }
      ],
      "execution_count": 527
    },
    {
      "cell_type": "code",
      "source": "Processed_Dataframe=pd.concat([Processed_Dataframe,Categories_Encoded],axis=1)\nProcessed_Dataframe.head(5)",
      "metadata": {
        "trusted": true
      },
      "outputs": [
        {
          "execution_count": 528,
          "output_type": "execute_result",
          "data": {
            "text/plain": "   Movie_ID                              Title            Director  \\\n0         0                  Top Gun: Maverick      JosephKosinski   \n1         1  Everything Everywhere All at Once            DanKwan,   \n2         2                         The Batman          MattReeves   \n3         3                      Jurassic Park     StevenSpielberg   \n4         4                      The Godfather  FrancisFordCoppola   \n\n                            Stars  Action  Adventure  Animation  Biography  \\\n0  [TomCruise,  JenniferConnelly]       1          0          0          0   \n1  [ MichelleYeoh,  StephanieHsu]       1          1          0          0   \n2  [RobertPattinson,  ZoëKravitz]       1          0          0          0   \n3          [SamNeill,  LauraDern]       1          1          0          0   \n4       [MarlonBrando,  AlPacino]       0          0          0          0   \n\n   Comedy  Crime  Drama  Family  Fantasy  Film-Noir  History  Horror  Music  \\\n0       0      0      1       0        0          0        0       0      0   \n1       1      0      0       0        0          0        0       0      0   \n2       0      1      1       0        0          0        0       0      0   \n3       0      0      0       0        0          0        0       0      0   \n4       0      1      1       0        0          0        0       0      0   \n\n   Musical  Mystery  Romance  Sci-Fi  Sport  Thriller  War  Western  \n0        0        0        0       0      0         0    0        0  \n1        0        0        0       0      0         0    0        0  \n2        0        0        0       0      0         0    0        0  \n3        0        0        0       1      0         0    0        0  \n4        0        0        0       0      0         0    0        0  ",
            "text/html": "<div>\n<style scoped>\n    .dataframe tbody tr th:only-of-type {\n        vertical-align: middle;\n    }\n\n    .dataframe tbody tr th {\n        vertical-align: top;\n    }\n\n    .dataframe thead th {\n        text-align: right;\n    }\n</style>\n<table border=\"1\" class=\"dataframe\">\n  <thead>\n    <tr style=\"text-align: right;\">\n      <th></th>\n      <th>Movie_ID</th>\n      <th>Title</th>\n      <th>Director</th>\n      <th>Stars</th>\n      <th>Action</th>\n      <th>Adventure</th>\n      <th>Animation</th>\n      <th>Biography</th>\n      <th>Comedy</th>\n      <th>Crime</th>\n      <th>Drama</th>\n      <th>Family</th>\n      <th>Fantasy</th>\n      <th>Film-Noir</th>\n      <th>History</th>\n      <th>Horror</th>\n      <th>Music</th>\n      <th>Musical</th>\n      <th>Mystery</th>\n      <th>Romance</th>\n      <th>Sci-Fi</th>\n      <th>Sport</th>\n      <th>Thriller</th>\n      <th>War</th>\n      <th>Western</th>\n    </tr>\n  </thead>\n  <tbody>\n    <tr>\n      <th>0</th>\n      <td>0</td>\n      <td>Top Gun: Maverick</td>\n      <td>JosephKosinski</td>\n      <td>[TomCruise,  JenniferConnelly]</td>\n      <td>1</td>\n      <td>0</td>\n      <td>0</td>\n      <td>0</td>\n      <td>0</td>\n      <td>0</td>\n      <td>1</td>\n      <td>0</td>\n      <td>0</td>\n      <td>0</td>\n      <td>0</td>\n      <td>0</td>\n      <td>0</td>\n      <td>0</td>\n      <td>0</td>\n      <td>0</td>\n      <td>0</td>\n      <td>0</td>\n      <td>0</td>\n      <td>0</td>\n      <td>0</td>\n    </tr>\n    <tr>\n      <th>1</th>\n      <td>1</td>\n      <td>Everything Everywhere All at Once</td>\n      <td>DanKwan,</td>\n      <td>[ MichelleYeoh,  StephanieHsu]</td>\n      <td>1</td>\n      <td>1</td>\n      <td>0</td>\n      <td>0</td>\n      <td>1</td>\n      <td>0</td>\n      <td>0</td>\n      <td>0</td>\n      <td>0</td>\n      <td>0</td>\n      <td>0</td>\n      <td>0</td>\n      <td>0</td>\n      <td>0</td>\n      <td>0</td>\n      <td>0</td>\n      <td>0</td>\n      <td>0</td>\n      <td>0</td>\n      <td>0</td>\n      <td>0</td>\n    </tr>\n    <tr>\n      <th>2</th>\n      <td>2</td>\n      <td>The Batman</td>\n      <td>MattReeves</td>\n      <td>[RobertPattinson,  ZoëKravitz]</td>\n      <td>1</td>\n      <td>0</td>\n      <td>0</td>\n      <td>0</td>\n      <td>0</td>\n      <td>1</td>\n      <td>1</td>\n      <td>0</td>\n      <td>0</td>\n      <td>0</td>\n      <td>0</td>\n      <td>0</td>\n      <td>0</td>\n      <td>0</td>\n      <td>0</td>\n      <td>0</td>\n      <td>0</td>\n      <td>0</td>\n      <td>0</td>\n      <td>0</td>\n      <td>0</td>\n    </tr>\n    <tr>\n      <th>3</th>\n      <td>3</td>\n      <td>Jurassic Park</td>\n      <td>StevenSpielberg</td>\n      <td>[SamNeill,  LauraDern]</td>\n      <td>1</td>\n      <td>1</td>\n      <td>0</td>\n      <td>0</td>\n      <td>0</td>\n      <td>0</td>\n      <td>0</td>\n      <td>0</td>\n      <td>0</td>\n      <td>0</td>\n      <td>0</td>\n      <td>0</td>\n      <td>0</td>\n      <td>0</td>\n      <td>0</td>\n      <td>0</td>\n      <td>1</td>\n      <td>0</td>\n      <td>0</td>\n      <td>0</td>\n      <td>0</td>\n    </tr>\n    <tr>\n      <th>4</th>\n      <td>4</td>\n      <td>The Godfather</td>\n      <td>FrancisFordCoppola</td>\n      <td>[MarlonBrando,  AlPacino]</td>\n      <td>0</td>\n      <td>0</td>\n      <td>0</td>\n      <td>0</td>\n      <td>0</td>\n      <td>1</td>\n      <td>1</td>\n      <td>0</td>\n      <td>0</td>\n      <td>0</td>\n      <td>0</td>\n      <td>0</td>\n      <td>0</td>\n      <td>0</td>\n      <td>0</td>\n      <td>0</td>\n      <td>0</td>\n      <td>0</td>\n      <td>0</td>\n      <td>0</td>\n      <td>0</td>\n    </tr>\n  </tbody>\n</table>\n</div>"
          },
          "metadata": {}
        }
      ],
      "execution_count": 528
    },
    {
      "cell_type": "code",
      "source": "#Duration Inspection\ndf2['Duration'].head(10)\n#df2['Duration'].value_counts(dropna=False) \n#1 NaN value and 1 Drama,Romance Value wrongly set \n#while the rest are durations in minutes followed by the ending mins which can be omitted",
      "metadata": {
        "trusted": true
      },
      "outputs": [
        {
          "execution_count": 397,
          "output_type": "execute_result",
          "data": {
            "text/plain": "Index([785], dtype='int64')"
          },
          "metadata": {}
        }
      ],
      "execution_count": 397
    },
    {
      "cell_type": "code",
      "source": "#Censor Rating Inspection \n#df2['Censor-board-rating'].value_counts(dropna=False) \n#df2['Censor-board-rating'].unique()\n\n#and Category inspection \n#df2['Category'].value_counts(dropna=False)\n\n#through these inspections and some internet search regarding the entries in lines 639 and 785 it was found that the data\n#were correct but were inserted in the wrong order in columns 'Category','Duration' and 'Censor-board-rating'",
      "metadata": {
        "trusted": true
      },
      "outputs": [],
      "execution_count": null
    },
    {
      "cell_type": "code",
      "source": "#Fixing data in rows 639 and 785 in the copy of the original dataframe\n#The two invalid entries have information that are misalligned\n#df2[639:640] #Initially\ndf2.loc[639,'Category']=df2.loc[639,'Duration']\ndf2.loc[639,'Duration']=df2.loc[639,'Censor-board-rating']\ndf2.loc[639,'Censor-board-rating']='Unrated'\n#df2[639:640] #check results\n\n#df2[785:786] #Initially\ndf2.loc[785,'Duration']=df2.loc[785,'Censor-board-rating']\ndf2.loc[785,'Censor-board-rating']='Unrated'\ndf2[785:786] #Check results",
      "metadata": {
        "trusted": true
      },
      "outputs": [
        {
          "execution_count": 529,
          "output_type": "execute_result",
          "data": {
            "text/plain": "                         Title   Director  \\\n785  Ayla: The Daughter of War  CanUlkay,   \n\n                                                 Stars  IMDb-Rating  \\\n785  , ÇetinTekindor, IsmailHacioglu, Kyung-jinLee,...          8.3   \n\n                    Category Duration Censor-board-rating  ReleaseYear  \n785  Biography,Drama,History   125min             Unrated         2017  ",
            "text/html": "<div>\n<style scoped>\n    .dataframe tbody tr th:only-of-type {\n        vertical-align: middle;\n    }\n\n    .dataframe tbody tr th {\n        vertical-align: top;\n    }\n\n    .dataframe thead th {\n        text-align: right;\n    }\n</style>\n<table border=\"1\" class=\"dataframe\">\n  <thead>\n    <tr style=\"text-align: right;\">\n      <th></th>\n      <th>Title</th>\n      <th>Director</th>\n      <th>Stars</th>\n      <th>IMDb-Rating</th>\n      <th>Category</th>\n      <th>Duration</th>\n      <th>Censor-board-rating</th>\n      <th>ReleaseYear</th>\n    </tr>\n  </thead>\n  <tbody>\n    <tr>\n      <th>785</th>\n      <td>Ayla: The Daughter of War</td>\n      <td>CanUlkay,</td>\n      <td>, ÇetinTekindor, IsmailHacioglu, Kyung-jinLee,...</td>\n      <td>8.3</td>\n      <td>Biography,Drama,History</td>\n      <td>125min</td>\n      <td>Unrated</td>\n      <td>2017</td>\n    </tr>\n  </tbody>\n</table>\n</div>"
          },
          "metadata": {}
        }
      ],
      "execution_count": 529
    },
    {
      "cell_type": "code",
      "source": "# Remove 'min' from all entries in the 'duration' column\ndf2['Duration'] = df2['Duration'].str.replace('min', '')\ndf2['Duration'].head(5)",
      "metadata": {
        "trusted": true
      },
      "outputs": [
        {
          "execution_count": 530,
          "output_type": "execute_result",
          "data": {
            "text/plain": "0    130\n1    139\n2    176\n3    127\n4    175\nName: Duration, dtype: object"
          },
          "metadata": {}
        }
      ],
      "execution_count": 530
    },
    {
      "cell_type": "code",
      "source": "#Now that the data have been correctly inserted\nDuration=df2['Duration']\n#Duration.head(5)",
      "metadata": {
        "trusted": true
      },
      "outputs": [],
      "execution_count": 531
    },
    {
      "cell_type": "code",
      "source": "Processed_Dataframe=pd.concat([Processed_Dataframe,Duration],axis=1)\n#Processed_Dataframe.head(5)",
      "metadata": {
        "trusted": true
      },
      "outputs": [],
      "execution_count": 532
    },
    {
      "cell_type": "code",
      "source": "df2['Censor-board-rating'].head(10) #NEED ENCODING",
      "metadata": {
        "trusted": true
      },
      "outputs": [
        {
          "execution_count": 406,
          "output_type": "execute_result",
          "data": {
            "text/plain": "0    UA\n1     R\n2    UA\n3    UA\n4     A\n5    UA\n6    UA\n7    UA\n8    UA\n9     A\nName: Censor-board-rating, dtype: object"
          },
          "metadata": {}
        }
      ],
      "execution_count": 406
    },
    {
      "cell_type": "code",
      "source": "#df2['Censor-board-rating'].any() #Check if there are NaN values\n#df2['Censor-board-rating'].unique() #Proof\n#df2['Censor-board-rating'].value_counts(dropna=False) #How many NaN values (154)",
      "metadata": {
        "trusted": true
      },
      "outputs": [],
      "execution_count": 533
    },
    {
      "cell_type": "code",
      "source": "#Set NaN values to Unrated because that is what not having a censorhip rating practically means\nCensor_Rating=df2['Censor-board-rating']\nCensor_Rating=Censor_Rating.fillna('Unrated')\nCensor_Rating.value_counts(dropna=False) #Check Results",
      "metadata": {
        "trusted": true
      },
      "outputs": [
        {
          "execution_count": 534,
          "output_type": "execute_result",
          "data": {
            "text/plain": "Censor-board-rating\nU           270\nA           215\nUA          197\nUnrated     158\nR            76\nPG-13        20\n18           13\nNotRated     11\nPG           10\n16            8\n13            6\n7             5\nG             2\nU/A           2\n15+           2\nUA13+         1\n12+           1\nAll           1\n(Banned)      1\nM/PG          1\nName: count, dtype: int64"
          },
          "metadata": {}
        }
      ],
      "execution_count": 534
    },
    {
      "cell_type": "code",
      "source": "#Encoding Censor Ratings\nCensor_rating_full=pd.get_dummies(Censor_Rating)\nCensor_rating_full=Censor_rating_full.astype(int)\nCensor_rating_full.head(5)",
      "metadata": {
        "trusted": true
      },
      "outputs": [
        {
          "execution_count": 535,
          "output_type": "execute_result",
          "data": {
            "text/plain": "   (Banned)  12+  13  15+  16  18  7  A  All  G  M/PG  NotRated  PG  PG-13  R  \\\n0         0    0   0    0   0   0  0  0    0  0     0         0   0      0  0   \n1         0    0   0    0   0   0  0  0    0  0     0         0   0      0  1   \n2         0    0   0    0   0   0  0  0    0  0     0         0   0      0  0   \n3         0    0   0    0   0   0  0  0    0  0     0         0   0      0  0   \n4         0    0   0    0   0   0  0  1    0  0     0         0   0      0  0   \n\n   U  U/A  UA  UA13+  Unrated  \n0  0    0   1      0        0  \n1  0    0   0      0        0  \n2  0    0   1      0        0  \n3  0    0   1      0        0  \n4  0    0   0      0        0  ",
            "text/html": "<div>\n<style scoped>\n    .dataframe tbody tr th:only-of-type {\n        vertical-align: middle;\n    }\n\n    .dataframe tbody tr th {\n        vertical-align: top;\n    }\n\n    .dataframe thead th {\n        text-align: right;\n    }\n</style>\n<table border=\"1\" class=\"dataframe\">\n  <thead>\n    <tr style=\"text-align: right;\">\n      <th></th>\n      <th>(Banned)</th>\n      <th>12+</th>\n      <th>13</th>\n      <th>15+</th>\n      <th>16</th>\n      <th>18</th>\n      <th>7</th>\n      <th>A</th>\n      <th>All</th>\n      <th>G</th>\n      <th>M/PG</th>\n      <th>NotRated</th>\n      <th>PG</th>\n      <th>PG-13</th>\n      <th>R</th>\n      <th>U</th>\n      <th>U/A</th>\n      <th>UA</th>\n      <th>UA13+</th>\n      <th>Unrated</th>\n    </tr>\n  </thead>\n  <tbody>\n    <tr>\n      <th>0</th>\n      <td>0</td>\n      <td>0</td>\n      <td>0</td>\n      <td>0</td>\n      <td>0</td>\n      <td>0</td>\n      <td>0</td>\n      <td>0</td>\n      <td>0</td>\n      <td>0</td>\n      <td>0</td>\n      <td>0</td>\n      <td>0</td>\n      <td>0</td>\n      <td>0</td>\n      <td>0</td>\n      <td>0</td>\n      <td>1</td>\n      <td>0</td>\n      <td>0</td>\n    </tr>\n    <tr>\n      <th>1</th>\n      <td>0</td>\n      <td>0</td>\n      <td>0</td>\n      <td>0</td>\n      <td>0</td>\n      <td>0</td>\n      <td>0</td>\n      <td>0</td>\n      <td>0</td>\n      <td>0</td>\n      <td>0</td>\n      <td>0</td>\n      <td>0</td>\n      <td>0</td>\n      <td>1</td>\n      <td>0</td>\n      <td>0</td>\n      <td>0</td>\n      <td>0</td>\n      <td>0</td>\n    </tr>\n    <tr>\n      <th>2</th>\n      <td>0</td>\n      <td>0</td>\n      <td>0</td>\n      <td>0</td>\n      <td>0</td>\n      <td>0</td>\n      <td>0</td>\n      <td>0</td>\n      <td>0</td>\n      <td>0</td>\n      <td>0</td>\n      <td>0</td>\n      <td>0</td>\n      <td>0</td>\n      <td>0</td>\n      <td>0</td>\n      <td>0</td>\n      <td>1</td>\n      <td>0</td>\n      <td>0</td>\n    </tr>\n    <tr>\n      <th>3</th>\n      <td>0</td>\n      <td>0</td>\n      <td>0</td>\n      <td>0</td>\n      <td>0</td>\n      <td>0</td>\n      <td>0</td>\n      <td>0</td>\n      <td>0</td>\n      <td>0</td>\n      <td>0</td>\n      <td>0</td>\n      <td>0</td>\n      <td>0</td>\n      <td>0</td>\n      <td>0</td>\n      <td>0</td>\n      <td>1</td>\n      <td>0</td>\n      <td>0</td>\n    </tr>\n    <tr>\n      <th>4</th>\n      <td>0</td>\n      <td>0</td>\n      <td>0</td>\n      <td>0</td>\n      <td>0</td>\n      <td>0</td>\n      <td>0</td>\n      <td>1</td>\n      <td>0</td>\n      <td>0</td>\n      <td>0</td>\n      <td>0</td>\n      <td>0</td>\n      <td>0</td>\n      <td>0</td>\n      <td>0</td>\n      <td>0</td>\n      <td>0</td>\n      <td>0</td>\n      <td>0</td>\n    </tr>\n  </tbody>\n</table>\n</div>"
          },
          "metadata": {}
        }
      ],
      "execution_count": 535
    },
    {
      "cell_type": "code",
      "source": "#Check Results\n#Censor_rating_full['Check']=censor_rating_full.sum(axis=1) #Sum needs to be 1 for each row because each movie has a single rating\n#Censor_rating_full=censor_rating_full.drop(axis=1,columns=['Check'])\n#Censor_rating_full.head(5)",
      "metadata": {
        "trusted": true
      },
      "outputs": [],
      "execution_count": 536
    },
    {
      "cell_type": "code",
      "source": "#Grouping Ratings into 4 main categories\nCensor_rating_full['Everyone']=Censor_rating_full.loc[:,['G','U','All','7']].max(axis=1)\nCensor_rating_full['PG/13+']=Censor_rating_full.loc[:,['M/PG','PG','13','PG-13','12+','UA13+','UA']].max(axis=1)\nCensor_rating_full['Over15']=Censor_rating_full.loc[:,['15+','16','18','A','M/PG','R','(Banned)']].max(axis=1)\nCensor_rating_full['NO_RATING']=Censor_rating_full.loc[:,['Unrated','NotRated']].max(axis=1)\nCensor_rating_full.head(5)",
      "metadata": {
        "trusted": true
      },
      "outputs": [
        {
          "execution_count": 537,
          "output_type": "execute_result",
          "data": {
            "text/plain": "   (Banned)  12+  13  15+  16  18  7  A  All  G  M/PG  NotRated  PG  PG-13  R  \\\n0         0    0   0    0   0   0  0  0    0  0     0         0   0      0  0   \n1         0    0   0    0   0   0  0  0    0  0     0         0   0      0  1   \n2         0    0   0    0   0   0  0  0    0  0     0         0   0      0  0   \n3         0    0   0    0   0   0  0  0    0  0     0         0   0      0  0   \n4         0    0   0    0   0   0  0  1    0  0     0         0   0      0  0   \n\n   U  U/A  UA  UA13+  Unrated  Everyone  PG/13+  Over15  NO_RATING  \n0  0    0   1      0        0         0       1       0          0  \n1  0    0   0      0        0         0       0       1          0  \n2  0    0   1      0        0         0       1       0          0  \n3  0    0   1      0        0         0       1       0          0  \n4  0    0   0      0        0         0       0       1          0  ",
            "text/html": "<div>\n<style scoped>\n    .dataframe tbody tr th:only-of-type {\n        vertical-align: middle;\n    }\n\n    .dataframe tbody tr th {\n        vertical-align: top;\n    }\n\n    .dataframe thead th {\n        text-align: right;\n    }\n</style>\n<table border=\"1\" class=\"dataframe\">\n  <thead>\n    <tr style=\"text-align: right;\">\n      <th></th>\n      <th>(Banned)</th>\n      <th>12+</th>\n      <th>13</th>\n      <th>15+</th>\n      <th>16</th>\n      <th>18</th>\n      <th>7</th>\n      <th>A</th>\n      <th>All</th>\n      <th>G</th>\n      <th>M/PG</th>\n      <th>NotRated</th>\n      <th>PG</th>\n      <th>PG-13</th>\n      <th>R</th>\n      <th>U</th>\n      <th>U/A</th>\n      <th>UA</th>\n      <th>UA13+</th>\n      <th>Unrated</th>\n      <th>Everyone</th>\n      <th>PG/13+</th>\n      <th>Over15</th>\n      <th>NO_RATING</th>\n    </tr>\n  </thead>\n  <tbody>\n    <tr>\n      <th>0</th>\n      <td>0</td>\n      <td>0</td>\n      <td>0</td>\n      <td>0</td>\n      <td>0</td>\n      <td>0</td>\n      <td>0</td>\n      <td>0</td>\n      <td>0</td>\n      <td>0</td>\n      <td>0</td>\n      <td>0</td>\n      <td>0</td>\n      <td>0</td>\n      <td>0</td>\n      <td>0</td>\n      <td>0</td>\n      <td>1</td>\n      <td>0</td>\n      <td>0</td>\n      <td>0</td>\n      <td>1</td>\n      <td>0</td>\n      <td>0</td>\n    </tr>\n    <tr>\n      <th>1</th>\n      <td>0</td>\n      <td>0</td>\n      <td>0</td>\n      <td>0</td>\n      <td>0</td>\n      <td>0</td>\n      <td>0</td>\n      <td>0</td>\n      <td>0</td>\n      <td>0</td>\n      <td>0</td>\n      <td>0</td>\n      <td>0</td>\n      <td>0</td>\n      <td>1</td>\n      <td>0</td>\n      <td>0</td>\n      <td>0</td>\n      <td>0</td>\n      <td>0</td>\n      <td>0</td>\n      <td>0</td>\n      <td>1</td>\n      <td>0</td>\n    </tr>\n    <tr>\n      <th>2</th>\n      <td>0</td>\n      <td>0</td>\n      <td>0</td>\n      <td>0</td>\n      <td>0</td>\n      <td>0</td>\n      <td>0</td>\n      <td>0</td>\n      <td>0</td>\n      <td>0</td>\n      <td>0</td>\n      <td>0</td>\n      <td>0</td>\n      <td>0</td>\n      <td>0</td>\n      <td>0</td>\n      <td>0</td>\n      <td>1</td>\n      <td>0</td>\n      <td>0</td>\n      <td>0</td>\n      <td>1</td>\n      <td>0</td>\n      <td>0</td>\n    </tr>\n    <tr>\n      <th>3</th>\n      <td>0</td>\n      <td>0</td>\n      <td>0</td>\n      <td>0</td>\n      <td>0</td>\n      <td>0</td>\n      <td>0</td>\n      <td>0</td>\n      <td>0</td>\n      <td>0</td>\n      <td>0</td>\n      <td>0</td>\n      <td>0</td>\n      <td>0</td>\n      <td>0</td>\n      <td>0</td>\n      <td>0</td>\n      <td>1</td>\n      <td>0</td>\n      <td>0</td>\n      <td>0</td>\n      <td>1</td>\n      <td>0</td>\n      <td>0</td>\n    </tr>\n    <tr>\n      <th>4</th>\n      <td>0</td>\n      <td>0</td>\n      <td>0</td>\n      <td>0</td>\n      <td>0</td>\n      <td>0</td>\n      <td>0</td>\n      <td>1</td>\n      <td>0</td>\n      <td>0</td>\n      <td>0</td>\n      <td>0</td>\n      <td>0</td>\n      <td>0</td>\n      <td>0</td>\n      <td>0</td>\n      <td>0</td>\n      <td>0</td>\n      <td>0</td>\n      <td>0</td>\n      <td>0</td>\n      <td>0</td>\n      <td>1</td>\n      <td>0</td>\n    </tr>\n  </tbody>\n</table>\n</div>"
          },
          "metadata": {}
        }
      ],
      "execution_count": 537
    },
    {
      "cell_type": "code",
      "source": "Processed_Dataframe=pd.concat([Processed_Dataframe,Censor_rating_full['Everyone'],Censor_rating_full['PG/13+'],Censor_rating_full['Over15'],Censor_rating_full['NO_RATING']],axis=1)\nProcessed_Dataframe.head(5)",
      "metadata": {
        "trusted": true
      },
      "outputs": [
        {
          "execution_count": 538,
          "output_type": "execute_result",
          "data": {
            "text/plain": "   Movie_ID                              Title            Director  \\\n0         0                  Top Gun: Maverick      JosephKosinski   \n1         1  Everything Everywhere All at Once            DanKwan,   \n2         2                         The Batman          MattReeves   \n3         3                      Jurassic Park     StevenSpielberg   \n4         4                      The Godfather  FrancisFordCoppola   \n\n                            Stars  Action  Adventure  Animation  Biography  \\\n0  [TomCruise,  JenniferConnelly]       1          0          0          0   \n1  [ MichelleYeoh,  StephanieHsu]       1          1          0          0   \n2  [RobertPattinson,  ZoëKravitz]       1          0          0          0   \n3          [SamNeill,  LauraDern]       1          1          0          0   \n4       [MarlonBrando,  AlPacino]       0          0          0          0   \n\n   Comedy  Crime  Drama  Family  Fantasy  Film-Noir  History  Horror  Music  \\\n0       0      0      1       0        0          0        0       0      0   \n1       1      0      0       0        0          0        0       0      0   \n2       0      1      1       0        0          0        0       0      0   \n3       0      0      0       0        0          0        0       0      0   \n4       0      1      1       0        0          0        0       0      0   \n\n   Musical  Mystery  Romance  Sci-Fi  Sport  Thriller  War  Western Duration  \\\n0        0        0        0       0      0         0    0        0      130   \n1        0        0        0       0      0         0    0        0      139   \n2        0        0        0       0      0         0    0        0      176   \n3        0        0        0       1      0         0    0        0      127   \n4        0        0        0       0      0         0    0        0      175   \n\n   Everyone  PG/13+  Over15  NO_RATING  \n0         0       1       0          0  \n1         0       0       1          0  \n2         0       1       0          0  \n3         0       1       0          0  \n4         0       0       1          0  ",
            "text/html": "<div>\n<style scoped>\n    .dataframe tbody tr th:only-of-type {\n        vertical-align: middle;\n    }\n\n    .dataframe tbody tr th {\n        vertical-align: top;\n    }\n\n    .dataframe thead th {\n        text-align: right;\n    }\n</style>\n<table border=\"1\" class=\"dataframe\">\n  <thead>\n    <tr style=\"text-align: right;\">\n      <th></th>\n      <th>Movie_ID</th>\n      <th>Title</th>\n      <th>Director</th>\n      <th>Stars</th>\n      <th>Action</th>\n      <th>Adventure</th>\n      <th>Animation</th>\n      <th>Biography</th>\n      <th>Comedy</th>\n      <th>Crime</th>\n      <th>Drama</th>\n      <th>Family</th>\n      <th>Fantasy</th>\n      <th>Film-Noir</th>\n      <th>History</th>\n      <th>Horror</th>\n      <th>Music</th>\n      <th>Musical</th>\n      <th>Mystery</th>\n      <th>Romance</th>\n      <th>Sci-Fi</th>\n      <th>Sport</th>\n      <th>Thriller</th>\n      <th>War</th>\n      <th>Western</th>\n      <th>Duration</th>\n      <th>Everyone</th>\n      <th>PG/13+</th>\n      <th>Over15</th>\n      <th>NO_RATING</th>\n    </tr>\n  </thead>\n  <tbody>\n    <tr>\n      <th>0</th>\n      <td>0</td>\n      <td>Top Gun: Maverick</td>\n      <td>JosephKosinski</td>\n      <td>[TomCruise,  JenniferConnelly]</td>\n      <td>1</td>\n      <td>0</td>\n      <td>0</td>\n      <td>0</td>\n      <td>0</td>\n      <td>0</td>\n      <td>1</td>\n      <td>0</td>\n      <td>0</td>\n      <td>0</td>\n      <td>0</td>\n      <td>0</td>\n      <td>0</td>\n      <td>0</td>\n      <td>0</td>\n      <td>0</td>\n      <td>0</td>\n      <td>0</td>\n      <td>0</td>\n      <td>0</td>\n      <td>0</td>\n      <td>130</td>\n      <td>0</td>\n      <td>1</td>\n      <td>0</td>\n      <td>0</td>\n    </tr>\n    <tr>\n      <th>1</th>\n      <td>1</td>\n      <td>Everything Everywhere All at Once</td>\n      <td>DanKwan,</td>\n      <td>[ MichelleYeoh,  StephanieHsu]</td>\n      <td>1</td>\n      <td>1</td>\n      <td>0</td>\n      <td>0</td>\n      <td>1</td>\n      <td>0</td>\n      <td>0</td>\n      <td>0</td>\n      <td>0</td>\n      <td>0</td>\n      <td>0</td>\n      <td>0</td>\n      <td>0</td>\n      <td>0</td>\n      <td>0</td>\n      <td>0</td>\n      <td>0</td>\n      <td>0</td>\n      <td>0</td>\n      <td>0</td>\n      <td>0</td>\n      <td>139</td>\n      <td>0</td>\n      <td>0</td>\n      <td>1</td>\n      <td>0</td>\n    </tr>\n    <tr>\n      <th>2</th>\n      <td>2</td>\n      <td>The Batman</td>\n      <td>MattReeves</td>\n      <td>[RobertPattinson,  ZoëKravitz]</td>\n      <td>1</td>\n      <td>0</td>\n      <td>0</td>\n      <td>0</td>\n      <td>0</td>\n      <td>1</td>\n      <td>1</td>\n      <td>0</td>\n      <td>0</td>\n      <td>0</td>\n      <td>0</td>\n      <td>0</td>\n      <td>0</td>\n      <td>0</td>\n      <td>0</td>\n      <td>0</td>\n      <td>0</td>\n      <td>0</td>\n      <td>0</td>\n      <td>0</td>\n      <td>0</td>\n      <td>176</td>\n      <td>0</td>\n      <td>1</td>\n      <td>0</td>\n      <td>0</td>\n    </tr>\n    <tr>\n      <th>3</th>\n      <td>3</td>\n      <td>Jurassic Park</td>\n      <td>StevenSpielberg</td>\n      <td>[SamNeill,  LauraDern]</td>\n      <td>1</td>\n      <td>1</td>\n      <td>0</td>\n      <td>0</td>\n      <td>0</td>\n      <td>0</td>\n      <td>0</td>\n      <td>0</td>\n      <td>0</td>\n      <td>0</td>\n      <td>0</td>\n      <td>0</td>\n      <td>0</td>\n      <td>0</td>\n      <td>0</td>\n      <td>0</td>\n      <td>1</td>\n      <td>0</td>\n      <td>0</td>\n      <td>0</td>\n      <td>0</td>\n      <td>127</td>\n      <td>0</td>\n      <td>1</td>\n      <td>0</td>\n      <td>0</td>\n    </tr>\n    <tr>\n      <th>4</th>\n      <td>4</td>\n      <td>The Godfather</td>\n      <td>FrancisFordCoppola</td>\n      <td>[MarlonBrando,  AlPacino]</td>\n      <td>0</td>\n      <td>0</td>\n      <td>0</td>\n      <td>0</td>\n      <td>0</td>\n      <td>1</td>\n      <td>1</td>\n      <td>0</td>\n      <td>0</td>\n      <td>0</td>\n      <td>0</td>\n      <td>0</td>\n      <td>0</td>\n      <td>0</td>\n      <td>0</td>\n      <td>0</td>\n      <td>0</td>\n      <td>0</td>\n      <td>0</td>\n      <td>0</td>\n      <td>0</td>\n      <td>175</td>\n      <td>0</td>\n      <td>0</td>\n      <td>1</td>\n      <td>0</td>\n    </tr>\n  </tbody>\n</table>\n</div>"
          },
          "metadata": {}
        }
      ],
      "execution_count": 538
    },
    {
      "cell_type": "code",
      "source": "#ReleaseYear Inspection\n#df2['ReleaseYear'].value_counts(dropna=False).head(10)\n#df2['ReleaseYear'].unique()\n#The movies are going to be split into eras\n#Each era is going to have a similar amount of movies (circa 200)",
      "metadata": {
        "trusted": true
      },
      "outputs": [],
      "execution_count": 539
    },
    {
      "cell_type": "code",
      "source": "len(df2[df2['ReleaseYear']<=1950]) #Count movie released until 1950",
      "metadata": {
        "trusted": true
      },
      "outputs": [
        {
          "execution_count": 540,
          "output_type": "execute_result",
          "data": {
            "text/plain": "81"
          },
          "metadata": {}
        }
      ],
      "execution_count": 540
    },
    {
      "cell_type": "code",
      "source": "len(df2[(df2['ReleaseYear']>2000) & (df2['ReleaseYear']<=2010)]) #Count movie released after 2000 until 2010",
      "metadata": {
        "trusted": true
      },
      "outputs": [
        {
          "execution_count": 541,
          "output_type": "execute_result",
          "data": {
            "text/plain": "232"
          },
          "metadata": {}
        }
      ],
      "execution_count": 541
    },
    {
      "cell_type": "code",
      "source": "#Era 1:1960 or earlier\ndf2['Till60']=(df2['ReleaseYear']<=1960).astype(int) \ndf2['Till60'].head(5)",
      "metadata": {
        "trusted": true
      },
      "outputs": [
        {
          "execution_count": 542,
          "output_type": "execute_result",
          "data": {
            "text/plain": "0    0\n1    0\n2    0\n3    0\n4    0\nName: Till60, dtype: int32"
          },
          "metadata": {}
        }
      ],
      "execution_count": 542
    },
    {
      "cell_type": "code",
      "source": "#Era 2:After 1960 till 1980 \ndf2['Till80']=((df2['ReleaseYear']>1960) & (df2['ReleaseYear']<=1980)).astype(int)",
      "metadata": {
        "trusted": true
      },
      "outputs": [],
      "execution_count": 543
    },
    {
      "cell_type": "code",
      "source": "#Era 3:After 1980 till 2000 \ndf2['Till00']=((df2['ReleaseYear']>1980) & (df2['ReleaseYear']<=2000)).astype(int)",
      "metadata": {
        "trusted": true
      },
      "outputs": [],
      "execution_count": 544
    },
    {
      "cell_type": "code",
      "source": "#Era 4:After 2000 till 2010 \ndf2['Till10']=((df2['ReleaseYear']>2000) & (df2['ReleaseYear']<=2010)).astype(int)",
      "metadata": {
        "trusted": true
      },
      "outputs": [],
      "execution_count": 545
    },
    {
      "cell_type": "code",
      "source": "#Era 5:After 2010 till today\ndf2['Till20']=(df2['ReleaseYear']>2010).astype(int)",
      "metadata": {
        "trusted": true
      },
      "outputs": [],
      "execution_count": 546
    },
    {
      "cell_type": "code",
      "source": "ReleaseYears=df2.loc[:,'Till60':'Till20']\nReleaseYears.head(5)",
      "metadata": {
        "trusted": true
      },
      "outputs": [
        {
          "execution_count": 547,
          "output_type": "execute_result",
          "data": {
            "text/plain": "   Till60  Till80  Till00  Till10  Till20\n0       0       0       0       0       1\n1       0       0       0       0       1\n2       0       0       0       0       1\n3       0       0       1       0       0\n4       0       1       0       0       0",
            "text/html": "<div>\n<style scoped>\n    .dataframe tbody tr th:only-of-type {\n        vertical-align: middle;\n    }\n\n    .dataframe tbody tr th {\n        vertical-align: top;\n    }\n\n    .dataframe thead th {\n        text-align: right;\n    }\n</style>\n<table border=\"1\" class=\"dataframe\">\n  <thead>\n    <tr style=\"text-align: right;\">\n      <th></th>\n      <th>Till60</th>\n      <th>Till80</th>\n      <th>Till00</th>\n      <th>Till10</th>\n      <th>Till20</th>\n    </tr>\n  </thead>\n  <tbody>\n    <tr>\n      <th>0</th>\n      <td>0</td>\n      <td>0</td>\n      <td>0</td>\n      <td>0</td>\n      <td>1</td>\n    </tr>\n    <tr>\n      <th>1</th>\n      <td>0</td>\n      <td>0</td>\n      <td>0</td>\n      <td>0</td>\n      <td>1</td>\n    </tr>\n    <tr>\n      <th>2</th>\n      <td>0</td>\n      <td>0</td>\n      <td>0</td>\n      <td>0</td>\n      <td>1</td>\n    </tr>\n    <tr>\n      <th>3</th>\n      <td>0</td>\n      <td>0</td>\n      <td>1</td>\n      <td>0</td>\n      <td>0</td>\n    </tr>\n    <tr>\n      <th>4</th>\n      <td>0</td>\n      <td>1</td>\n      <td>0</td>\n      <td>0</td>\n      <td>0</td>\n    </tr>\n  </tbody>\n</table>\n</div>"
          },
          "metadata": {}
        }
      ],
      "execution_count": 547
    },
    {
      "cell_type": "code",
      "source": "df2.head(5)",
      "metadata": {
        "trusted": true
      },
      "outputs": [
        {
          "execution_count": 548,
          "output_type": "execute_result",
          "data": {
            "text/plain": "                               Title            Director  \\\n0                  Top Gun: Maverick      JosephKosinski   \n1  Everything Everywhere All at Once            DanKwan,   \n2                         The Batman          MattReeves   \n3                      Jurassic Park     StevenSpielberg   \n4                      The Godfather  FrancisFordCoppola   \n\n                                               Stars  IMDb-Rating  \\\n0  TomCruise, JenniferConnelly, MilesTeller, ValK...          8.6   \n1  , MichelleYeoh, StephanieHsu, KeHuyQuan, James...          8.3   \n2  RobertPattinson, ZoëKravitz, JeffreyWright, Co...          7.9   \n3  SamNeill, LauraDern, JeffGoldblum, RichardAtte...          8.2   \n4     MarlonBrando, AlPacino, JamesCaan, DianeKeaton          9.2   \n\n                  Category Duration Censor-board-rating  ReleaseYear  Till60  \\\n0             Action,Drama      130                  UA         2022       0   \n1  Action,Adventure,Comedy      139                   R         2022       0   \n2       Action,Crime,Drama      176                  UA         2022       0   \n3  Action,Adventure,Sci-Fi      127                  UA         1993       0   \n4              Crime,Drama      175                   A         1972       0   \n\n   Till80  Till00  Till10  Till20  \n0       0       0       0       1  \n1       0       0       0       1  \n2       0       0       0       1  \n3       0       1       0       0  \n4       1       0       0       0  ",
            "text/html": "<div>\n<style scoped>\n    .dataframe tbody tr th:only-of-type {\n        vertical-align: middle;\n    }\n\n    .dataframe tbody tr th {\n        vertical-align: top;\n    }\n\n    .dataframe thead th {\n        text-align: right;\n    }\n</style>\n<table border=\"1\" class=\"dataframe\">\n  <thead>\n    <tr style=\"text-align: right;\">\n      <th></th>\n      <th>Title</th>\n      <th>Director</th>\n      <th>Stars</th>\n      <th>IMDb-Rating</th>\n      <th>Category</th>\n      <th>Duration</th>\n      <th>Censor-board-rating</th>\n      <th>ReleaseYear</th>\n      <th>Till60</th>\n      <th>Till80</th>\n      <th>Till00</th>\n      <th>Till10</th>\n      <th>Till20</th>\n    </tr>\n  </thead>\n  <tbody>\n    <tr>\n      <th>0</th>\n      <td>Top Gun: Maverick</td>\n      <td>JosephKosinski</td>\n      <td>TomCruise, JenniferConnelly, MilesTeller, ValK...</td>\n      <td>8.6</td>\n      <td>Action,Drama</td>\n      <td>130</td>\n      <td>UA</td>\n      <td>2022</td>\n      <td>0</td>\n      <td>0</td>\n      <td>0</td>\n      <td>0</td>\n      <td>1</td>\n    </tr>\n    <tr>\n      <th>1</th>\n      <td>Everything Everywhere All at Once</td>\n      <td>DanKwan,</td>\n      <td>, MichelleYeoh, StephanieHsu, KeHuyQuan, James...</td>\n      <td>8.3</td>\n      <td>Action,Adventure,Comedy</td>\n      <td>139</td>\n      <td>R</td>\n      <td>2022</td>\n      <td>0</td>\n      <td>0</td>\n      <td>0</td>\n      <td>0</td>\n      <td>1</td>\n    </tr>\n    <tr>\n      <th>2</th>\n      <td>The Batman</td>\n      <td>MattReeves</td>\n      <td>RobertPattinson, ZoëKravitz, JeffreyWright, Co...</td>\n      <td>7.9</td>\n      <td>Action,Crime,Drama</td>\n      <td>176</td>\n      <td>UA</td>\n      <td>2022</td>\n      <td>0</td>\n      <td>0</td>\n      <td>0</td>\n      <td>0</td>\n      <td>1</td>\n    </tr>\n    <tr>\n      <th>3</th>\n      <td>Jurassic Park</td>\n      <td>StevenSpielberg</td>\n      <td>SamNeill, LauraDern, JeffGoldblum, RichardAtte...</td>\n      <td>8.2</td>\n      <td>Action,Adventure,Sci-Fi</td>\n      <td>127</td>\n      <td>UA</td>\n      <td>1993</td>\n      <td>0</td>\n      <td>0</td>\n      <td>1</td>\n      <td>0</td>\n      <td>0</td>\n    </tr>\n    <tr>\n      <th>4</th>\n      <td>The Godfather</td>\n      <td>FrancisFordCoppola</td>\n      <td>MarlonBrando, AlPacino, JamesCaan, DianeKeaton</td>\n      <td>9.2</td>\n      <td>Crime,Drama</td>\n      <td>175</td>\n      <td>A</td>\n      <td>1972</td>\n      <td>0</td>\n      <td>1</td>\n      <td>0</td>\n      <td>0</td>\n      <td>0</td>\n    </tr>\n  </tbody>\n</table>\n</div>"
          },
          "metadata": {}
        }
      ],
      "execution_count": 548
    },
    {
      "cell_type": "code",
      "source": "#Final Table with Ratings Included\nProcessed_Dataframe=pd.concat([Processed_Dataframe,ReleaseYears,df2['IMDb-Rating']],axis=1)\nProcessed_Dataframe.head(5)",
      "metadata": {
        "trusted": true
      },
      "outputs": [
        {
          "execution_count": 549,
          "output_type": "execute_result",
          "data": {
            "text/plain": "   Movie_ID                              Title            Director  \\\n0         0                  Top Gun: Maverick      JosephKosinski   \n1         1  Everything Everywhere All at Once            DanKwan,   \n2         2                         The Batman          MattReeves   \n3         3                      Jurassic Park     StevenSpielberg   \n4         4                      The Godfather  FrancisFordCoppola   \n\n                            Stars  Action  Adventure  Animation  Biography  \\\n0  [TomCruise,  JenniferConnelly]       1          0          0          0   \n1  [ MichelleYeoh,  StephanieHsu]       1          1          0          0   \n2  [RobertPattinson,  ZoëKravitz]       1          0          0          0   \n3          [SamNeill,  LauraDern]       1          1          0          0   \n4       [MarlonBrando,  AlPacino]       0          0          0          0   \n\n   Comedy  Crime  Drama  Family  Fantasy  Film-Noir  History  Horror  Music  \\\n0       0      0      1       0        0          0        0       0      0   \n1       1      0      0       0        0          0        0       0      0   \n2       0      1      1       0        0          0        0       0      0   \n3       0      0      0       0        0          0        0       0      0   \n4       0      1      1       0        0          0        0       0      0   \n\n   Musical  Mystery  Romance  Sci-Fi  Sport  Thriller  War  Western Duration  \\\n0        0        0        0       0      0         0    0        0      130   \n1        0        0        0       0      0         0    0        0      139   \n2        0        0        0       0      0         0    0        0      176   \n3        0        0        0       1      0         0    0        0      127   \n4        0        0        0       0      0         0    0        0      175   \n\n   Everyone  PG/13+  Over15  NO_RATING  Till60  Till80  Till00  Till10  \\\n0         0       1       0          0       0       0       0       0   \n1         0       0       1          0       0       0       0       0   \n2         0       1       0          0       0       0       0       0   \n3         0       1       0          0       0       0       1       0   \n4         0       0       1          0       0       1       0       0   \n\n   Till20  IMDb-Rating  \n0       1          8.6  \n1       1          8.3  \n2       1          7.9  \n3       0          8.2  \n4       0          9.2  ",
            "text/html": "<div>\n<style scoped>\n    .dataframe tbody tr th:only-of-type {\n        vertical-align: middle;\n    }\n\n    .dataframe tbody tr th {\n        vertical-align: top;\n    }\n\n    .dataframe thead th {\n        text-align: right;\n    }\n</style>\n<table border=\"1\" class=\"dataframe\">\n  <thead>\n    <tr style=\"text-align: right;\">\n      <th></th>\n      <th>Movie_ID</th>\n      <th>Title</th>\n      <th>Director</th>\n      <th>Stars</th>\n      <th>Action</th>\n      <th>Adventure</th>\n      <th>Animation</th>\n      <th>Biography</th>\n      <th>Comedy</th>\n      <th>Crime</th>\n      <th>Drama</th>\n      <th>Family</th>\n      <th>Fantasy</th>\n      <th>Film-Noir</th>\n      <th>History</th>\n      <th>Horror</th>\n      <th>Music</th>\n      <th>Musical</th>\n      <th>Mystery</th>\n      <th>Romance</th>\n      <th>Sci-Fi</th>\n      <th>Sport</th>\n      <th>Thriller</th>\n      <th>War</th>\n      <th>Western</th>\n      <th>Duration</th>\n      <th>Everyone</th>\n      <th>PG/13+</th>\n      <th>Over15</th>\n      <th>NO_RATING</th>\n      <th>Till60</th>\n      <th>Till80</th>\n      <th>Till00</th>\n      <th>Till10</th>\n      <th>Till20</th>\n      <th>IMDb-Rating</th>\n    </tr>\n  </thead>\n  <tbody>\n    <tr>\n      <th>0</th>\n      <td>0</td>\n      <td>Top Gun: Maverick</td>\n      <td>JosephKosinski</td>\n      <td>[TomCruise,  JenniferConnelly]</td>\n      <td>1</td>\n      <td>0</td>\n      <td>0</td>\n      <td>0</td>\n      <td>0</td>\n      <td>0</td>\n      <td>1</td>\n      <td>0</td>\n      <td>0</td>\n      <td>0</td>\n      <td>0</td>\n      <td>0</td>\n      <td>0</td>\n      <td>0</td>\n      <td>0</td>\n      <td>0</td>\n      <td>0</td>\n      <td>0</td>\n      <td>0</td>\n      <td>0</td>\n      <td>0</td>\n      <td>130</td>\n      <td>0</td>\n      <td>1</td>\n      <td>0</td>\n      <td>0</td>\n      <td>0</td>\n      <td>0</td>\n      <td>0</td>\n      <td>0</td>\n      <td>1</td>\n      <td>8.6</td>\n    </tr>\n    <tr>\n      <th>1</th>\n      <td>1</td>\n      <td>Everything Everywhere All at Once</td>\n      <td>DanKwan,</td>\n      <td>[ MichelleYeoh,  StephanieHsu]</td>\n      <td>1</td>\n      <td>1</td>\n      <td>0</td>\n      <td>0</td>\n      <td>1</td>\n      <td>0</td>\n      <td>0</td>\n      <td>0</td>\n      <td>0</td>\n      <td>0</td>\n      <td>0</td>\n      <td>0</td>\n      <td>0</td>\n      <td>0</td>\n      <td>0</td>\n      <td>0</td>\n      <td>0</td>\n      <td>0</td>\n      <td>0</td>\n      <td>0</td>\n      <td>0</td>\n      <td>139</td>\n      <td>0</td>\n      <td>0</td>\n      <td>1</td>\n      <td>0</td>\n      <td>0</td>\n      <td>0</td>\n      <td>0</td>\n      <td>0</td>\n      <td>1</td>\n      <td>8.3</td>\n    </tr>\n    <tr>\n      <th>2</th>\n      <td>2</td>\n      <td>The Batman</td>\n      <td>MattReeves</td>\n      <td>[RobertPattinson,  ZoëKravitz]</td>\n      <td>1</td>\n      <td>0</td>\n      <td>0</td>\n      <td>0</td>\n      <td>0</td>\n      <td>1</td>\n      <td>1</td>\n      <td>0</td>\n      <td>0</td>\n      <td>0</td>\n      <td>0</td>\n      <td>0</td>\n      <td>0</td>\n      <td>0</td>\n      <td>0</td>\n      <td>0</td>\n      <td>0</td>\n      <td>0</td>\n      <td>0</td>\n      <td>0</td>\n      <td>0</td>\n      <td>176</td>\n      <td>0</td>\n      <td>1</td>\n      <td>0</td>\n      <td>0</td>\n      <td>0</td>\n      <td>0</td>\n      <td>0</td>\n      <td>0</td>\n      <td>1</td>\n      <td>7.9</td>\n    </tr>\n    <tr>\n      <th>3</th>\n      <td>3</td>\n      <td>Jurassic Park</td>\n      <td>StevenSpielberg</td>\n      <td>[SamNeill,  LauraDern]</td>\n      <td>1</td>\n      <td>1</td>\n      <td>0</td>\n      <td>0</td>\n      <td>0</td>\n      <td>0</td>\n      <td>0</td>\n      <td>0</td>\n      <td>0</td>\n      <td>0</td>\n      <td>0</td>\n      <td>0</td>\n      <td>0</td>\n      <td>0</td>\n      <td>0</td>\n      <td>0</td>\n      <td>1</td>\n      <td>0</td>\n      <td>0</td>\n      <td>0</td>\n      <td>0</td>\n      <td>127</td>\n      <td>0</td>\n      <td>1</td>\n      <td>0</td>\n      <td>0</td>\n      <td>0</td>\n      <td>0</td>\n      <td>1</td>\n      <td>0</td>\n      <td>0</td>\n      <td>8.2</td>\n    </tr>\n    <tr>\n      <th>4</th>\n      <td>4</td>\n      <td>The Godfather</td>\n      <td>FrancisFordCoppola</td>\n      <td>[MarlonBrando,  AlPacino]</td>\n      <td>0</td>\n      <td>0</td>\n      <td>0</td>\n      <td>0</td>\n      <td>0</td>\n      <td>1</td>\n      <td>1</td>\n      <td>0</td>\n      <td>0</td>\n      <td>0</td>\n      <td>0</td>\n      <td>0</td>\n      <td>0</td>\n      <td>0</td>\n      <td>0</td>\n      <td>0</td>\n      <td>0</td>\n      <td>0</td>\n      <td>0</td>\n      <td>0</td>\n      <td>0</td>\n      <td>175</td>\n      <td>0</td>\n      <td>0</td>\n      <td>1</td>\n      <td>0</td>\n      <td>0</td>\n      <td>1</td>\n      <td>0</td>\n      <td>0</td>\n      <td>0</td>\n      <td>9.2</td>\n    </tr>\n  </tbody>\n</table>\n</div>"
          },
          "metadata": {}
        }
      ],
      "execution_count": 549
    },
    {
      "cell_type": "code",
      "source": "#Non-encoded Data\nTitleTable=dataframe.iloc[:,0:4]\nTitleTable=pd.concat([TitleTable,df2['Category'],df2['Duration'],df2['Censor-board-rating'],df2['ReleaseYear'],df2['IMDb-Rating']],axis=1)\nTitleTable.head(5)",
      "metadata": {
        "trusted": true
      },
      "outputs": [
        {
          "execution_count": 557,
          "output_type": "execute_result",
          "data": {
            "text/plain": "   Movie_ID                              Title            Director  \\\n0         1                  Top Gun: Maverick      JosephKosinski   \n1         2  Everything Everywhere All at Once            DanKwan,   \n2         3                         The Batman          MattReeves   \n3         4                      Jurassic Park     StevenSpielberg   \n4         5                      The Godfather  FrancisFordCoppola   \n\n                            Stars                 Category Duration  \\\n0  [TomCruise,  JenniferConnelly]             Action,Drama      130   \n1  [ MichelleYeoh,  StephanieHsu]  Action,Adventure,Comedy      139   \n2  [RobertPattinson,  ZoëKravitz]       Action,Crime,Drama      176   \n3          [SamNeill,  LauraDern]  Action,Adventure,Sci-Fi      127   \n4       [MarlonBrando,  AlPacino]              Crime,Drama      175   \n\n  Censor-board-rating  ReleaseYear  IMDb-Rating  \n0                  UA         2022          8.6  \n1                   R         2022          8.3  \n2                  UA         2022          7.9  \n3                  UA         1993          8.2  \n4                   A         1972          9.2  ",
            "text/html": "<div>\n<style scoped>\n    .dataframe tbody tr th:only-of-type {\n        vertical-align: middle;\n    }\n\n    .dataframe tbody tr th {\n        vertical-align: top;\n    }\n\n    .dataframe thead th {\n        text-align: right;\n    }\n</style>\n<table border=\"1\" class=\"dataframe\">\n  <thead>\n    <tr style=\"text-align: right;\">\n      <th></th>\n      <th>Movie_ID</th>\n      <th>Title</th>\n      <th>Director</th>\n      <th>Stars</th>\n      <th>Category</th>\n      <th>Duration</th>\n      <th>Censor-board-rating</th>\n      <th>ReleaseYear</th>\n      <th>IMDb-Rating</th>\n    </tr>\n  </thead>\n  <tbody>\n    <tr>\n      <th>0</th>\n      <td>1</td>\n      <td>Top Gun: Maverick</td>\n      <td>JosephKosinski</td>\n      <td>[TomCruise,  JenniferConnelly]</td>\n      <td>Action,Drama</td>\n      <td>130</td>\n      <td>UA</td>\n      <td>2022</td>\n      <td>8.6</td>\n    </tr>\n    <tr>\n      <th>1</th>\n      <td>2</td>\n      <td>Everything Everywhere All at Once</td>\n      <td>DanKwan,</td>\n      <td>[ MichelleYeoh,  StephanieHsu]</td>\n      <td>Action,Adventure,Comedy</td>\n      <td>139</td>\n      <td>R</td>\n      <td>2022</td>\n      <td>8.3</td>\n    </tr>\n    <tr>\n      <th>2</th>\n      <td>3</td>\n      <td>The Batman</td>\n      <td>MattReeves</td>\n      <td>[RobertPattinson,  ZoëKravitz]</td>\n      <td>Action,Crime,Drama</td>\n      <td>176</td>\n      <td>UA</td>\n      <td>2022</td>\n      <td>7.9</td>\n    </tr>\n    <tr>\n      <th>3</th>\n      <td>4</td>\n      <td>Jurassic Park</td>\n      <td>StevenSpielberg</td>\n      <td>[SamNeill,  LauraDern]</td>\n      <td>Action,Adventure,Sci-Fi</td>\n      <td>127</td>\n      <td>UA</td>\n      <td>1993</td>\n      <td>8.2</td>\n    </tr>\n    <tr>\n      <th>4</th>\n      <td>5</td>\n      <td>The Godfather</td>\n      <td>FrancisFordCoppola</td>\n      <td>[MarlonBrando,  AlPacino]</td>\n      <td>Crime,Drama</td>\n      <td>175</td>\n      <td>A</td>\n      <td>1972</td>\n      <td>9.2</td>\n    </tr>\n  </tbody>\n</table>\n</div>"
          },
          "metadata": {}
        }
      ],
      "execution_count": 557
    },
    {
      "cell_type": "code",
      "source": "#Encoded Data that will be used to make recommendations to users \n#Containg 'Genre','Censor-board-rating' and 'ReleaseYear' \nEncoded_Data=dataframe.iloc[:,4:]\nEncoded_Data=Encoded_Data.drop(['Duration'],axis=1)\nEncoded_Data.head(5)",
      "metadata": {
        "trusted": true
      },
      "outputs": [
        {
          "execution_count": 552,
          "output_type": "execute_result",
          "data": {
            "text/plain": "   Action  Adventure  Animation  Biography  Comedy  Crime  Drama  Family  \\\n0       1          0          0          0       0      0      1       0   \n1       1          1          0          0       1      0      0       0   \n2       1          0          0          0       0      1      1       0   \n3       1          1          0          0       0      0      0       0   \n4       0          0          0          0       0      1      1       0   \n\n   Fantasy  Film-Noir  History  Horror  Music  Musical  Mystery  Romance  \\\n0        0          0        0       0      0        0        0        0   \n1        0          0        0       0      0        0        0        0   \n2        0          0        0       0      0        0        0        0   \n3        0          0        0       0      0        0        0        0   \n4        0          0        0       0      0        0        0        0   \n\n   Sci-Fi  Sport  Thriller  War  Western  Everyone  PG/13+  Over15  NO_RATING  \\\n0       0      0         0    0        0         0       1       0          0   \n1       0      0         0    0        0         0       0       1          0   \n2       0      0         0    0        0         0       1       0          0   \n3       1      0         0    0        0         0       1       0          0   \n4       0      0         0    0        0         0       0       1          0   \n\n   Till60  Till80s  Till00s  Till10s  Till20s  \n0       0        0        0        0        1  \n1       0        0        0        0        1  \n2       0        0        0        0        1  \n3       0        0        1        0        0  \n4       0        1        0        0        0  ",
            "text/html": "<div>\n<style scoped>\n    .dataframe tbody tr th:only-of-type {\n        vertical-align: middle;\n    }\n\n    .dataframe tbody tr th {\n        vertical-align: top;\n    }\n\n    .dataframe thead th {\n        text-align: right;\n    }\n</style>\n<table border=\"1\" class=\"dataframe\">\n  <thead>\n    <tr style=\"text-align: right;\">\n      <th></th>\n      <th>Action</th>\n      <th>Adventure</th>\n      <th>Animation</th>\n      <th>Biography</th>\n      <th>Comedy</th>\n      <th>Crime</th>\n      <th>Drama</th>\n      <th>Family</th>\n      <th>Fantasy</th>\n      <th>Film-Noir</th>\n      <th>History</th>\n      <th>Horror</th>\n      <th>Music</th>\n      <th>Musical</th>\n      <th>Mystery</th>\n      <th>Romance</th>\n      <th>Sci-Fi</th>\n      <th>Sport</th>\n      <th>Thriller</th>\n      <th>War</th>\n      <th>Western</th>\n      <th>Everyone</th>\n      <th>PG/13+</th>\n      <th>Over15</th>\n      <th>NO_RATING</th>\n      <th>Till60</th>\n      <th>Till80s</th>\n      <th>Till00s</th>\n      <th>Till10s</th>\n      <th>Till20s</th>\n    </tr>\n  </thead>\n  <tbody>\n    <tr>\n      <th>0</th>\n      <td>1</td>\n      <td>0</td>\n      <td>0</td>\n      <td>0</td>\n      <td>0</td>\n      <td>0</td>\n      <td>1</td>\n      <td>0</td>\n      <td>0</td>\n      <td>0</td>\n      <td>0</td>\n      <td>0</td>\n      <td>0</td>\n      <td>0</td>\n      <td>0</td>\n      <td>0</td>\n      <td>0</td>\n      <td>0</td>\n      <td>0</td>\n      <td>0</td>\n      <td>0</td>\n      <td>0</td>\n      <td>1</td>\n      <td>0</td>\n      <td>0</td>\n      <td>0</td>\n      <td>0</td>\n      <td>0</td>\n      <td>0</td>\n      <td>1</td>\n    </tr>\n    <tr>\n      <th>1</th>\n      <td>1</td>\n      <td>1</td>\n      <td>0</td>\n      <td>0</td>\n      <td>1</td>\n      <td>0</td>\n      <td>0</td>\n      <td>0</td>\n      <td>0</td>\n      <td>0</td>\n      <td>0</td>\n      <td>0</td>\n      <td>0</td>\n      <td>0</td>\n      <td>0</td>\n      <td>0</td>\n      <td>0</td>\n      <td>0</td>\n      <td>0</td>\n      <td>0</td>\n      <td>0</td>\n      <td>0</td>\n      <td>0</td>\n      <td>1</td>\n      <td>0</td>\n      <td>0</td>\n      <td>0</td>\n      <td>0</td>\n      <td>0</td>\n      <td>1</td>\n    </tr>\n    <tr>\n      <th>2</th>\n      <td>1</td>\n      <td>0</td>\n      <td>0</td>\n      <td>0</td>\n      <td>0</td>\n      <td>1</td>\n      <td>1</td>\n      <td>0</td>\n      <td>0</td>\n      <td>0</td>\n      <td>0</td>\n      <td>0</td>\n      <td>0</td>\n      <td>0</td>\n      <td>0</td>\n      <td>0</td>\n      <td>0</td>\n      <td>0</td>\n      <td>0</td>\n      <td>0</td>\n      <td>0</td>\n      <td>0</td>\n      <td>1</td>\n      <td>0</td>\n      <td>0</td>\n      <td>0</td>\n      <td>0</td>\n      <td>0</td>\n      <td>0</td>\n      <td>1</td>\n    </tr>\n    <tr>\n      <th>3</th>\n      <td>1</td>\n      <td>1</td>\n      <td>0</td>\n      <td>0</td>\n      <td>0</td>\n      <td>0</td>\n      <td>0</td>\n      <td>0</td>\n      <td>0</td>\n      <td>0</td>\n      <td>0</td>\n      <td>0</td>\n      <td>0</td>\n      <td>0</td>\n      <td>0</td>\n      <td>0</td>\n      <td>1</td>\n      <td>0</td>\n      <td>0</td>\n      <td>0</td>\n      <td>0</td>\n      <td>0</td>\n      <td>1</td>\n      <td>0</td>\n      <td>0</td>\n      <td>0</td>\n      <td>0</td>\n      <td>1</td>\n      <td>0</td>\n      <td>0</td>\n    </tr>\n    <tr>\n      <th>4</th>\n      <td>0</td>\n      <td>0</td>\n      <td>0</td>\n      <td>0</td>\n      <td>0</td>\n      <td>1</td>\n      <td>1</td>\n      <td>0</td>\n      <td>0</td>\n      <td>0</td>\n      <td>0</td>\n      <td>0</td>\n      <td>0</td>\n      <td>0</td>\n      <td>0</td>\n      <td>0</td>\n      <td>0</td>\n      <td>0</td>\n      <td>0</td>\n      <td>0</td>\n      <td>0</td>\n      <td>0</td>\n      <td>0</td>\n      <td>1</td>\n      <td>0</td>\n      <td>0</td>\n      <td>1</td>\n      <td>0</td>\n      <td>0</td>\n      <td>0</td>\n    </tr>\n  </tbody>\n</table>\n</div>"
          },
          "metadata": {}
        }
      ],
      "execution_count": 552
    },
    {
      "cell_type": "code",
      "source": "### END OF: Data Inspection and Preprocessing ###",
      "metadata": {
        "trusted": true
      },
      "outputs": [],
      "execution_count": 553
    },
    {
      "cell_type": "code",
      "source": "### RECOMMENDATION SYSTEMS ###",
      "metadata": {
        "trusted": true
      },
      "outputs": [],
      "execution_count": 554
    },
    {
      "cell_type": "code",
      "source": "## RECOMMENDATION METHOD 1: MOVIE SIMILARITY ##",
      "metadata": {
        "trusted": true
      },
      "outputs": [],
      "execution_count": 555
    },
    {
      "cell_type": "code",
      "source": "#Use Cosine Similarity Metric to compare the one-hot encoded movie of interest with the rest of the movies of the dataset\n#and find the top 5 most similar movies based on 'Genre','Censor-board-rating','ReleaseYear' and order them by their'IMDb-Rating'\n\n#Choose a random movie based on its Movie_ID\nMovieID=random.randint(0,999) #0 to 999 inclusive\n#print(MovieID)\n\n#Cosine Similarity as defined in sklearn.metrics.pairwise library\nsimilarities=cosine_similarity(Encoded_Data)\nMain_Movie=similarities[MovieID:MovieID+1,:] #Movie of interest\n\n# Finding the indices of the 6 most similar movies\nindices = np.argsort(Main_Movie, axis=1)\ntop6_indices = indices[0,-6:]\n#print(top6_indices)\n\nremove_list=[MovieID]    #Check if the Main Movie is in the list of most similar movies and remove it if that is the case\ntop5_Movies = [idx for idx in top6_indices if idx not in remove_list]    \ntop5_Movies=top5_Movies[-6:-1] if len(top5_Movies)>5 else top5_Movies #keep 5 movies\n#print(top5_Movies)\n\n## Top 5 most similar movies with highest rating\nResults=TitleTable.iloc[top5_Movies,:]\nResults.sort_values(by='IMDb-Rating',ascending=False)",
      "metadata": {
        "trusted": true
      },
      "outputs": [
        {
          "execution_count": 561,
          "output_type": "execute_result",
          "data": {
            "text/plain": "     Movie_ID                         Title        Director  \\\n307       308                      3 Idiots  RajkumarHirani   \n901       902  Les triplettes de Belleville   SylvainChomet   \n637       638                       Flipped       RobReiner   \n289       290          (500) Days of Summer        MarcWebb   \n377       378           Lost in Translation    SofiaCoppola   \n\n                                      Stars                Category Duration  \\\n307                  [AamirKhan,  Madhavan]            Comedy,Drama      170   \n901  [MichèleCaucheteux,  Jean-ClaudeDonda]  Animation,Comedy,Drama       80   \n637     [MadelineCarroll,  CallanMcAuliffe]    Comedy,Drama,Romance       90   \n289  [ZooeyDeschanel,  JosephGordon-Levitt]    Comedy,Drama,Romance       95   \n377        [BillMurray,  ScarlettJohansson]            Comedy,Drama      102   \n\n    Censor-board-rating  ReleaseYear  IMDb-Rating  \n307                  UA         2009          8.4  \n901               PG-13         2003          7.7  \n637                  PG         2010          7.7  \n289                  UA         2009          7.7  \n377                  UA         2003          7.7  ",
            "text/html": "<div>\n<style scoped>\n    .dataframe tbody tr th:only-of-type {\n        vertical-align: middle;\n    }\n\n    .dataframe tbody tr th {\n        vertical-align: top;\n    }\n\n    .dataframe thead th {\n        text-align: right;\n    }\n</style>\n<table border=\"1\" class=\"dataframe\">\n  <thead>\n    <tr style=\"text-align: right;\">\n      <th></th>\n      <th>Movie_ID</th>\n      <th>Title</th>\n      <th>Director</th>\n      <th>Stars</th>\n      <th>Category</th>\n      <th>Duration</th>\n      <th>Censor-board-rating</th>\n      <th>ReleaseYear</th>\n      <th>IMDb-Rating</th>\n    </tr>\n  </thead>\n  <tbody>\n    <tr>\n      <th>307</th>\n      <td>308</td>\n      <td>3 Idiots</td>\n      <td>RajkumarHirani</td>\n      <td>[AamirKhan,  Madhavan]</td>\n      <td>Comedy,Drama</td>\n      <td>170</td>\n      <td>UA</td>\n      <td>2009</td>\n      <td>8.4</td>\n    </tr>\n    <tr>\n      <th>901</th>\n      <td>902</td>\n      <td>Les triplettes de Belleville</td>\n      <td>SylvainChomet</td>\n      <td>[MichèleCaucheteux,  Jean-ClaudeDonda]</td>\n      <td>Animation,Comedy,Drama</td>\n      <td>80</td>\n      <td>PG-13</td>\n      <td>2003</td>\n      <td>7.7</td>\n    </tr>\n    <tr>\n      <th>637</th>\n      <td>638</td>\n      <td>Flipped</td>\n      <td>RobReiner</td>\n      <td>[MadelineCarroll,  CallanMcAuliffe]</td>\n      <td>Comedy,Drama,Romance</td>\n      <td>90</td>\n      <td>PG</td>\n      <td>2010</td>\n      <td>7.7</td>\n    </tr>\n    <tr>\n      <th>289</th>\n      <td>290</td>\n      <td>(500) Days of Summer</td>\n      <td>MarcWebb</td>\n      <td>[ZooeyDeschanel,  JosephGordon-Levitt]</td>\n      <td>Comedy,Drama,Romance</td>\n      <td>95</td>\n      <td>UA</td>\n      <td>2009</td>\n      <td>7.7</td>\n    </tr>\n    <tr>\n      <th>377</th>\n      <td>378</td>\n      <td>Lost in Translation</td>\n      <td>SofiaCoppola</td>\n      <td>[BillMurray,  ScarlettJohansson]</td>\n      <td>Comedy,Drama</td>\n      <td>102</td>\n      <td>UA</td>\n      <td>2003</td>\n      <td>7.7</td>\n    </tr>\n  </tbody>\n</table>\n</div>"
          },
          "metadata": {}
        }
      ],
      "execution_count": 561
    },
    {
      "cell_type": "code",
      "source": "#Movie of interest\nTitleTable.iloc[MovieID,:]",
      "metadata": {
        "trusted": true
      },
      "outputs": [
        {
          "execution_count": 484,
          "output_type": "execute_result",
          "data": {
            "text/plain": "Movie_ID                                        665\nTitle                            The Maltese Falcon\nDirector                                 JohnHuston\nStars                  [HumphreyBogart,  MaryAstor]\nCategory                    Crime,Film-Noir,Mystery\nDuration                                        100\nCensor-board-rating                             NaN\nIMDb-Rating                                     8.0\nName: 664, dtype: object"
          },
          "metadata": {}
        }
      ],
      "execution_count": 484
    },
    {
      "cell_type": "code",
      "source": "#Find the most similar movie to the last watched based on a custom Function of similarity (point-based)\n#3 points if the GENRE is exactly the same\n#2 points if 2 GENRE are the same\n#1 point if only a single GENRE is the same\n#1 point if the ERA of movie is the same\n#1 point if Censor-board-rating --> Full Rating is a 5 star rating\n\n#Choose random movie based on MovieID\nMovieID=random.randint(0,999)\n#print(MovieID)\n\ndef most_similar_movie(MovieID,Encoded_Data):\n    ed=Encoded_Data.to_numpy() #convert to NumPy\n    Last_Watched=ed[MovieID:MovieID+1] #Movie of interest\n    scoring_criteria=[] #Keep only positions of 1s from the encoded data (sparse matrix)\n    for i in range(Last_Watched.shape[1]):\n        if(Last_Watched[0,i]==1):\n            scoring_criteria.append(i)    \n    Last_Watched_Movie_categories=0 #Number of genres of the last watched movie \n    for criterion in scoring_criteria:\n        if(criterion<21): #If criterion is a genre\n            Last_Watched_Movie_categories=Last_Watched_Movie_categories+1\n\n    best_score=0\n    num_movies = ed.shape[0] #Total movies in database to compare\n    best_rating=0\n    for movie in range(num_movies):\n        score=0\n        common_genres=0 #Add one if the last watched movie and the one that is being inspected belong to a similar \n        count_extra=0 #Add one if movie has a similar censoring level or was filmed in the same era (as defined in the encoded matrix)\n        if movie==MovieID:\n            continue\n        else:\n            for criterion in scoring_criteria: \n                if(criterion<21):\n                    if(Last_Watched[0][criterion]==ed[movie][criterion]):\n                        common_genres=common_genres+1\n                elif(criterion>=21 and Last_Watched[0][criterion]==ed[movie][criterion]):\n                    count_extra=count_extra+1\n        if(Last_Watched_Movie_categories==1 and common_genres==1):\n            score=3+count_extra\n        elif(Last_Watched_Movie_categories>1 and common_genres==Last_Watched_Movie_categories-1):\n            score=2+count_extra\n        elif(Last_Watched_Movie_categories>1 and common_genres==Last_Watched_Movie_categories):\n            score=3+count_extra\n        if score>best_score:\n            best_score=score\n            best_movie=movie\n            best_rating=ed[movie][-1]\n        elif score==best_score and ed[movie][-1]>best_rating:\n            best_score=score\n            best_movie=movie\n            best_rating=ed[movie][-1]\n    return best_movie,best_score\n\nbest_movie,best_score=most_similar_movie(MovieID,Encoded_Data)\nprint(\"The recommended movie based on your last movie is...\",TitleTable.loc[best_movie,'Title'])\nprint(\"With a similarity score of \"+ str(best_score) + \"/5!\") #How similar is this movie to the last watched\n\n#Full Details of recommended movie\nTitleTable.iloc[best_movie:best_movie+1,:]",
      "metadata": {
        "trusted": true
      },
      "outputs": [
        {
          "name": "stdout",
          "text": "132\nThe recommended movie based on your last movie is... Toy Story 2\nWith a similarity score of 5/5!\n",
          "output_type": "stream"
        },
        {
          "execution_count": 498,
          "output_type": "execute_result",
          "data": {
            "text/plain": "     Movie_ID        Title       Director            Stars  \\\n288       289  Toy Story 2  JohnLasseter,  [LeeUnkrich,  ]   \n\n                       Category Duration Censor-board-rating  ReleaseYear  \\\n288  Animation,Adventure,Comedy       92                   U         1999   \n\n     IMDb-Rating  \n288          7.9  ",
            "text/html": "<div>\n<style scoped>\n    .dataframe tbody tr th:only-of-type {\n        vertical-align: middle;\n    }\n\n    .dataframe tbody tr th {\n        vertical-align: top;\n    }\n\n    .dataframe thead th {\n        text-align: right;\n    }\n</style>\n<table border=\"1\" class=\"dataframe\">\n  <thead>\n    <tr style=\"text-align: right;\">\n      <th></th>\n      <th>Movie_ID</th>\n      <th>Title</th>\n      <th>Director</th>\n      <th>Stars</th>\n      <th>Category</th>\n      <th>Duration</th>\n      <th>Censor-board-rating</th>\n      <th>ReleaseYear</th>\n      <th>IMDb-Rating</th>\n    </tr>\n  </thead>\n  <tbody>\n    <tr>\n      <th>288</th>\n      <td>289</td>\n      <td>Toy Story 2</td>\n      <td>JohnLasseter,</td>\n      <td>[LeeUnkrich,  ]</td>\n      <td>Animation,Adventure,Comedy</td>\n      <td>92</td>\n      <td>U</td>\n      <td>1999</td>\n      <td>7.9</td>\n    </tr>\n  </tbody>\n</table>\n</div>"
          },
          "metadata": {}
        }
      ],
      "execution_count": 498
    },
    {
      "cell_type": "code",
      "source": "#Full Details of last watched movie\nTitleTable.iloc[MovieID:MovieID+1,:]",
      "metadata": {
        "trusted": true
      },
      "outputs": [
        {
          "execution_count": 499,
          "output_type": "execute_result",
          "data": {
            "text/plain": "     Movie_ID      Title      Director                  Stars  \\\n132       133  Toy Story  JohnLasseter  [TomHanks,  TimAllen]   \n\n                       Category Duration Censor-board-rating  ReleaseYear  \\\n132  Animation,Adventure,Comedy       81                   U         1995   \n\n     IMDb-Rating  \n132          8.3  ",
            "text/html": "<div>\n<style scoped>\n    .dataframe tbody tr th:only-of-type {\n        vertical-align: middle;\n    }\n\n    .dataframe tbody tr th {\n        vertical-align: top;\n    }\n\n    .dataframe thead th {\n        text-align: right;\n    }\n</style>\n<table border=\"1\" class=\"dataframe\">\n  <thead>\n    <tr style=\"text-align: right;\">\n      <th></th>\n      <th>Movie_ID</th>\n      <th>Title</th>\n      <th>Director</th>\n      <th>Stars</th>\n      <th>Category</th>\n      <th>Duration</th>\n      <th>Censor-board-rating</th>\n      <th>ReleaseYear</th>\n      <th>IMDb-Rating</th>\n    </tr>\n  </thead>\n  <tbody>\n    <tr>\n      <th>132</th>\n      <td>133</td>\n      <td>Toy Story</td>\n      <td>JohnLasseter</td>\n      <td>[TomHanks,  TimAllen]</td>\n      <td>Animation,Adventure,Comedy</td>\n      <td>81</td>\n      <td>U</td>\n      <td>1995</td>\n      <td>8.3</td>\n    </tr>\n  </tbody>\n</table>\n</div>"
          },
          "metadata": {}
        }
      ],
      "execution_count": 499
    },
    {
      "cell_type": "code",
      "source": "## RECOMMENDATION METHOD 2: Collaborative Filtering ##",
      "metadata": {
        "trusted": true
      },
      "outputs": [],
      "execution_count": null
    },
    {
      "cell_type": "code",
      "source": "#This method is based on having access to user data.\n#Movies are recommended to users based on what user with similar watch history have enjoyed or disliked\n#Since there was no used data and ratings on movies I created 10000 users and assigned randomly to them a 4 movie \n#watchlist from the original dataset alongside a random rating for each of those 4 movies from 1 to 3 (1:Bad 2:Okay 3:Good)\n\n#Total number of movies\ntotal_movies = 1000\n\n#Generate movie ids and ratings for the main user\nmain_user_movies = np.random.choice(range(0, total_movies), size=4, replace=False)\nmain_user_ratings = np.random.choice([1, 2, 3], size=4)\n\n# Store main user data as a dataframe\nmain_user_data = pd.DataFrame({'movie_id': main_user_movies, 'rating': main_user_ratings})\n\n# Generate random data for 10000 users\nusers = []\nfor user_id in range(10000):\n    movies_watched = np.random.choice(range(0, total_movies), size=4, replace=False)\n    ratings_given = np.random.choice([1, 2, 3], size=4)\n    users.append(pd.DataFrame({\n        'user_id': user_id,\n        'movie_id': movies_watched,\n        'rating': ratings_given\n    }))\n\n#Collect all the users in a dataframe\nall_users_data = pd.concat(users)",
      "metadata": {
        "trusted": true
      },
      "outputs": [],
      "execution_count": null
    },
    {
      "cell_type": "code",
      "source": "#Function to calculate similarity between two users\ndef calculate_similarity(main_user_data, other_user_data):\n    #Find common movies\n    common_movies = pd.merge(main_user_data, other_user_data, on='movie_id')\n    \n    if common_movies.empty:\n        return 0  # No common movies\n    \n    #Calculate cosine similarity between the ratings of common movies\n    similarity = cosine_similarity([common_movies['rating_x']], [common_movies['rating_y']])\n    return similarity[0][0]\n\n#Variable to store the most similar user and the highest similarity score\nmost_similar_user_id = None\nhighest_similarity = -1\n\n#Find the most similar user\nfor user_id in range(10000):\n    #Get data for current user\n    user_data = all_users_data[all_users_data['user_id'] == user_id]\n    \n    #Calculate similarity\n    similarity = calculate_similarity(main_user_data, user_data)\n    \n    #Check if this user is more similar than the previous users\n    if similarity > highest_similarity:\n        highest_similarity = similarity\n        most_similar_user_id = user_id\n\n#Get the most similar user's data\nmost_similar_user_data = all_users_data[all_users_data['user_id'] == most_similar_user_id]\n\n#Recommend a movie that the most similar user has seen but the main user hasn't\nrecommended_movie = set(most_similar_user_data['movie_id']) - set(main_user_data['movie_id'])\n\n# Print results\nprint(f\"Most similar user ID: {most_similar_user_id}\")\nprint(f\"Movies rated by the main user:\\n{main_user_data}\")\nprint(f\"Movies rated by the most similar user:\\n{most_similar_user_data}\")\nprint(f\"Recommended movie(s): {recommended_movie}\")",
      "metadata": {
        "trusted": true
      },
      "outputs": [
        {
          "name": "stdout",
          "text": "Most similar user ID: 18\nMovies rated by the main user:\n   movie_id  rating\n0       324       1\n1       201       3\n2       157       1\n3       501       2\nMovies rated by the most similar user:\n   user_id  movie_id  rating\n0       18       564       1\n1       18       501       2\n2       18       227       3\n3       18       629       3\nRecommended movie(s): {227, 564, 629}\n",
          "output_type": "stream"
        }
      ],
      "execution_count": 503
    }
  ]
}