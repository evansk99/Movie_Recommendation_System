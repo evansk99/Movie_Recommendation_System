{
  "metadata": {
    "kernelspec": {
      "name": "python",
      "display_name": "Python (Pyodide)",
      "language": "python"
    },
    "language_info": {
      "codemirror_mode": {
        "name": "python",
        "version": 3
      },
      "file_extension": ".py",
      "mimetype": "text/x-python",
      "name": "python",
      "nbconvert_exporter": "python",
      "pygments_lexer": "ipython3",
      "version": "3.8"
    }
  },
  "nbformat_minor": 4,
  "nbformat": 4,
  "cells": [
    {
      "cell_type": "code",
      "source": "import pandas as pd\nimport numpy as np\nimport copy\nimport random\nfrom sklearn.metrics.pairwise import cosine_similarity",
      "metadata": {
        "trusted": true
      },
      "outputs": [],
      "execution_count": 352
    },
    {
      "cell_type": "code",
      "source": "pd.set_option('display.max_rows', None)\npd.set_option('display.max_columns', None)",
      "metadata": {
        "trusted": true
      },
      "outputs": [],
      "execution_count": 394
    },
    {
      "cell_type": "code",
      "source": "#Load Dataset and Create a Backup (df2)\ndf = pd.read_csv('IMDb_Data_final.csv')\ndf2=copy.deepcopy(df)\ndf2.head(5) #Show Data",
      "metadata": {
        "trusted": true
      },
      "outputs": [
        {
          "execution_count": 353,
          "output_type": "execute_result",
          "data": {
            "text/plain": "                               Title            Director  \\\n0                  Top Gun: Maverick      JosephKosinski   \n1  Everything Everywhere All at Once            DanKwan,   \n2                         The Batman          MattReeves   \n3                      Jurassic Park     StevenSpielberg   \n4                      The Godfather  FrancisFordCoppola   \n\n                                               Stars  IMDb-Rating  \\\n0  TomCruise, JenniferConnelly, MilesTeller, ValK...          8.6   \n1  , MichelleYeoh, StephanieHsu, KeHuyQuan, James...          8.3   \n2  RobertPattinson, ZoëKravitz, JeffreyWright, Co...          7.9   \n3  SamNeill, LauraDern, JeffGoldblum, RichardAtte...          8.2   \n4     MarlonBrando, AlPacino, JamesCaan, DianeKeaton          9.2   \n\n                  Category Duration Censor-board-rating  ReleaseYear  \n0             Action,Drama   130min                  UA         2022  \n1  Action,Adventure,Comedy   139min                   R         2022  \n2       Action,Crime,Drama   176min                  UA         2022  \n3  Action,Adventure,Sci-Fi   127min                  UA         1993  \n4              Crime,Drama   175min                   A         1972  ",
            "text/html": "<div>\n<style scoped>\n    .dataframe tbody tr th:only-of-type {\n        vertical-align: middle;\n    }\n\n    .dataframe tbody tr th {\n        vertical-align: top;\n    }\n\n    .dataframe thead th {\n        text-align: right;\n    }\n</style>\n<table border=\"1\" class=\"dataframe\">\n  <thead>\n    <tr style=\"text-align: right;\">\n      <th></th>\n      <th>Title</th>\n      <th>Director</th>\n      <th>Stars</th>\n      <th>IMDb-Rating</th>\n      <th>Category</th>\n      <th>Duration</th>\n      <th>Censor-board-rating</th>\n      <th>ReleaseYear</th>\n    </tr>\n  </thead>\n  <tbody>\n    <tr>\n      <th>0</th>\n      <td>Top Gun: Maverick</td>\n      <td>JosephKosinski</td>\n      <td>TomCruise, JenniferConnelly, MilesTeller, ValK...</td>\n      <td>8.6</td>\n      <td>Action,Drama</td>\n      <td>130min</td>\n      <td>UA</td>\n      <td>2022</td>\n    </tr>\n    <tr>\n      <th>1</th>\n      <td>Everything Everywhere All at Once</td>\n      <td>DanKwan,</td>\n      <td>, MichelleYeoh, StephanieHsu, KeHuyQuan, James...</td>\n      <td>8.3</td>\n      <td>Action,Adventure,Comedy</td>\n      <td>139min</td>\n      <td>R</td>\n      <td>2022</td>\n    </tr>\n    <tr>\n      <th>2</th>\n      <td>The Batman</td>\n      <td>MattReeves</td>\n      <td>RobertPattinson, ZoëKravitz, JeffreyWright, Co...</td>\n      <td>7.9</td>\n      <td>Action,Crime,Drama</td>\n      <td>176min</td>\n      <td>UA</td>\n      <td>2022</td>\n    </tr>\n    <tr>\n      <th>3</th>\n      <td>Jurassic Park</td>\n      <td>StevenSpielberg</td>\n      <td>SamNeill, LauraDern, JeffGoldblum, RichardAtte...</td>\n      <td>8.2</td>\n      <td>Action,Adventure,Sci-Fi</td>\n      <td>127min</td>\n      <td>UA</td>\n      <td>1993</td>\n    </tr>\n    <tr>\n      <th>4</th>\n      <td>The Godfather</td>\n      <td>FrancisFordCoppola</td>\n      <td>MarlonBrando, AlPacino, JamesCaan, DianeKeaton</td>\n      <td>9.2</td>\n      <td>Crime,Drama</td>\n      <td>175min</td>\n      <td>A</td>\n      <td>1972</td>\n    </tr>\n  </tbody>\n</table>\n</div>"
          },
          "metadata": {}
        }
      ],
      "execution_count": 353
    },
    {
      "cell_type": "code",
      "source": "### Data Inspection and Preprocessing ###",
      "metadata": {
        "trusted": true
      },
      "outputs": [],
      "execution_count": 354
    },
    {
      "cell_type": "code",
      "source": "#Title Inspection\n#df2['Title'].value_counts(dropna=False) \n#Check Title Duplicates (Drishyam, Scarface 2 times)\n#title_counts=df2['Title'].value_counts()>1 #Check for duplicates",
      "metadata": {
        "trusted": true
      },
      "outputs": [
        {
          "execution_count": 357,
          "output_type": "execute_result",
          "data": {
            "text/plain": "Empty DataFrame\nColumns: [Title, Director, Stars, IMDb-Rating, Category, Duration, Censor-board-rating, ReleaseYear]\nIndex: []",
            "text/html": "<div>\n<style scoped>\n    .dataframe tbody tr th:only-of-type {\n        vertical-align: middle;\n    }\n\n    .dataframe tbody tr th {\n        vertical-align: top;\n    }\n\n    .dataframe thead th {\n        text-align: right;\n    }\n</style>\n<table border=\"1\" class=\"dataframe\">\n  <thead>\n    <tr style=\"text-align: right;\">\n      <th></th>\n      <th>Title</th>\n      <th>Director</th>\n      <th>Stars</th>\n      <th>IMDb-Rating</th>\n      <th>Category</th>\n      <th>Duration</th>\n      <th>Censor-board-rating</th>\n      <th>ReleaseYear</th>\n    </tr>\n  </thead>\n  <tbody>\n  </tbody>\n</table>\n</div>"
          },
          "metadata": {}
        }
      ],
      "execution_count": 357
    },
    {
      "cell_type": "code",
      "source": "#After inspection these are the original Malayalam version of 2013 and the Hindi remake of 2015 so both are valid\ndf2[df2['Title']=='Drishyam']",
      "metadata": {
        "trusted": true
      },
      "outputs": [
        {
          "execution_count": 358,
          "output_type": "execute_result",
          "data": {
            "text/plain": "        Title        Director                                      Stars  \\\n779  Drishyam  NishikantKamat  AjayDevgn, ShriyaSaran, Tabu, RajatKapoor   \n967  Drishyam    JeethuJoseph       Mohanlal, Meena, AshaSharath, Ansiba   \n\n     IMDb-Rating              Category Duration Censor-board-rating  \\\n779          8.2   Crime,Drama,Mystery   163min                  UA   \n967          8.3  Crime,Drama,Thriller   160min                   U   \n\n     ReleaseYear  \n779         2015  \n967         2013  ",
            "text/html": "<div>\n<style scoped>\n    .dataframe tbody tr th:only-of-type {\n        vertical-align: middle;\n    }\n\n    .dataframe tbody tr th {\n        vertical-align: top;\n    }\n\n    .dataframe thead th {\n        text-align: right;\n    }\n</style>\n<table border=\"1\" class=\"dataframe\">\n  <thead>\n    <tr style=\"text-align: right;\">\n      <th></th>\n      <th>Title</th>\n      <th>Director</th>\n      <th>Stars</th>\n      <th>IMDb-Rating</th>\n      <th>Category</th>\n      <th>Duration</th>\n      <th>Censor-board-rating</th>\n      <th>ReleaseYear</th>\n    </tr>\n  </thead>\n  <tbody>\n    <tr>\n      <th>779</th>\n      <td>Drishyam</td>\n      <td>NishikantKamat</td>\n      <td>AjayDevgn, ShriyaSaran, Tabu, RajatKapoor</td>\n      <td>8.2</td>\n      <td>Crime,Drama,Mystery</td>\n      <td>163min</td>\n      <td>UA</td>\n      <td>2015</td>\n    </tr>\n    <tr>\n      <th>967</th>\n      <td>Drishyam</td>\n      <td>JeethuJoseph</td>\n      <td>Mohanlal, Meena, AshaSharath, Ansiba</td>\n      <td>8.3</td>\n      <td>Crime,Drama,Thriller</td>\n      <td>160min</td>\n      <td>U</td>\n      <td>2013</td>\n    </tr>\n  </tbody>\n</table>\n</div>"
          },
          "metadata": {}
        }
      ],
      "execution_count": 358
    },
    {
      "cell_type": "code",
      "source": "df2[df2['Title']=='Scarface']\n#After inspection these are the original Scarface version of 1932 and the famous remake of 1983 so both are valid",
      "metadata": {
        "trusted": true
      },
      "outputs": [
        {
          "execution_count": 359,
          "output_type": "execute_result",
          "data": {
            "text/plain": "        Title      Director  \\\n96   Scarface  BrianDePalma   \n837  Scarface  HowardHawks,   \n\n                                                 Stars  IMDb-Rating  \\\n96   AlPacino, MichellePfeiffer, StevenBauer, MaryE...          8.3   \n837  , PaulMuni, AnnDvorak, KarenMorley, OsgoodPerkins          7.7   \n\n               Category Duration Censor-board-rating  ReleaseYear  \n96          Crime,Drama   170min                   A         1983  \n837  Action,Crime,Drama    93min                 NaN         1932  ",
            "text/html": "<div>\n<style scoped>\n    .dataframe tbody tr th:only-of-type {\n        vertical-align: middle;\n    }\n\n    .dataframe tbody tr th {\n        vertical-align: top;\n    }\n\n    .dataframe thead th {\n        text-align: right;\n    }\n</style>\n<table border=\"1\" class=\"dataframe\">\n  <thead>\n    <tr style=\"text-align: right;\">\n      <th></th>\n      <th>Title</th>\n      <th>Director</th>\n      <th>Stars</th>\n      <th>IMDb-Rating</th>\n      <th>Category</th>\n      <th>Duration</th>\n      <th>Censor-board-rating</th>\n      <th>ReleaseYear</th>\n    </tr>\n  </thead>\n  <tbody>\n    <tr>\n      <th>96</th>\n      <td>Scarface</td>\n      <td>BrianDePalma</td>\n      <td>AlPacino, MichellePfeiffer, StevenBauer, MaryE...</td>\n      <td>8.3</td>\n      <td>Crime,Drama</td>\n      <td>170min</td>\n      <td>A</td>\n      <td>1983</td>\n    </tr>\n    <tr>\n      <th>837</th>\n      <td>Scarface</td>\n      <td>HowardHawks,</td>\n      <td>, PaulMuni, AnnDvorak, KarenMorley, OsgoodPerkins</td>\n      <td>7.7</td>\n      <td>Action,Crime,Drama</td>\n      <td>93min</td>\n      <td>NaN</td>\n      <td>1932</td>\n    </tr>\n  </tbody>\n</table>\n</div>"
          },
          "metadata": {}
        }
      ],
      "execution_count": 359
    },
    {
      "cell_type": "code",
      "source": "#Creation of Processed Dataframe\nTitles=df2['Title'] #Correct Titles (no changes needed)\nMovie_ID = pd.Series(df2.index) #Creating a Movie_ID that corresponds to the row number\n#Movie_ID.head(5)\nProcessed_Dataframe=pd.concat([Movie_ID, Titles],axis=1)\nProcessed_Dataframe.rename(columns={0:'Movie_ID'},inplace=True)\nProcessed_Dataframe.head(5)",
      "metadata": {
        "trusted": true
      },
      "outputs": [
        {
          "execution_count": 360,
          "output_type": "execute_result",
          "data": {
            "text/plain": "   Movie_ID                              Title\n0         0                  Top Gun: Maverick\n1         1  Everything Everywhere All at Once\n2         2                         The Batman\n3         3                      Jurassic Park\n4         4                      The Godfather",
            "text/html": "<div>\n<style scoped>\n    .dataframe tbody tr th:only-of-type {\n        vertical-align: middle;\n    }\n\n    .dataframe tbody tr th {\n        vertical-align: top;\n    }\n\n    .dataframe thead th {\n        text-align: right;\n    }\n</style>\n<table border=\"1\" class=\"dataframe\">\n  <thead>\n    <tr style=\"text-align: right;\">\n      <th></th>\n      <th>Movie_ID</th>\n      <th>Title</th>\n    </tr>\n  </thead>\n  <tbody>\n    <tr>\n      <th>0</th>\n      <td>0</td>\n      <td>Top Gun: Maverick</td>\n    </tr>\n    <tr>\n      <th>1</th>\n      <td>1</td>\n      <td>Everything Everywhere All at Once</td>\n    </tr>\n    <tr>\n      <th>2</th>\n      <td>2</td>\n      <td>The Batman</td>\n    </tr>\n    <tr>\n      <th>3</th>\n      <td>3</td>\n      <td>Jurassic Park</td>\n    </tr>\n    <tr>\n      <th>4</th>\n      <td>4</td>\n      <td>The Godfather</td>\n    </tr>\n  </tbody>\n</table>\n</div>"
          },
          "metadata": {}
        }
      ],
      "execution_count": 360
    },
    {
      "cell_type": "code",
      "source": "#Director Inspection\n#df2['Director'].value_counts(dropna=False) \n#Multiple Directors with more than one entry but entries are correct",
      "metadata": {
        "trusted": true
      },
      "outputs": [
        {
          "execution_count": 364,
          "output_type": "execute_result",
          "data": {
            "text/plain": "Director\nStevenSpielberg    13\nAlfredHitchcock    13\nAkiraKurosawa      11\nHayaoMiyazaki      10\nMartinScorsese     10\nName: count, dtype: int64"
          },
          "metadata": {}
        }
      ],
      "execution_count": 364
    },
    {
      "cell_type": "code",
      "source": "#Stars Inspection\ndf2['Stars'].head(20) #Movie Stars are in lists and are numerous",
      "metadata": {
        "trusted": true
      },
      "outputs": [
        {
          "execution_count": 365,
          "output_type": "execute_result",
          "data": {
            "text/plain": "0     TomCruise, JenniferConnelly, MilesTeller, ValK...\n1     , MichelleYeoh, StephanieHsu, KeHuyQuan, James...\n2     RobertPattinson, ZoëKravitz, JeffreyWright, Co...\n3     SamNeill, LauraDern, JeffGoldblum, RichardAtte...\n4        MarlonBrando, AlPacino, JamesCaan, DianeKeaton\n5     TomHolland, Zendaya, BenedictCumberbatch, Jaco...\n6       N.T.RamaRaoJr., RamCharan, AjayDevgn, AliaBhatt\n7     JohnnyDepp, GeoffreyRush, OrlandoBloom, KeiraK...\n8     TimothéeChalamet, RebeccaFerguson, Zendaya, Os...\n9     RobertDeNiro, RayLiotta, JoePesci, LorraineBracco\n10    TimRobbins, MorganFreeman, BobGunton, WilliamS...\n11    MarkHamill, HarrisonFord, CarrieFisher, AlecGu...\n12    LeonardoDiCaprio, KateWinslet, BillyZane, Kath...\n13    DanielRadcliffe, RupertGrint, RichardHarris, M...\n14    LeonardoDiCaprio, BradPitt, MargotRobbie, Emil...\n15       SeanAstin, JoshBrolin, JeffCohen, CoreyFeldman\n16    ChristianBale, JustinTheroux, JoshLucas, BillSage\n17    , RobertDowneyJr., ChrisEvans, MarkRuffalo, Ch...\n18    HaydenChristensen, NataliePortman, EwanMcGrego...\n19    MatthewMcConaughey, CharlieHunnam, MichelleDoc...\nName: Stars, dtype: object"
          },
          "metadata": {}
        }
      ],
      "execution_count": 365
    },
    {
      "cell_type": "code",
      "source": "#People are probably interested in the leading actors so we keep the 2 protagonists and discard the rest\nLead_Actors=df2['Stars'].str.split(',', n=3).str[:3]\nfor Actor in range(len(Lead_Actors)): \n    Lead_Actors[Actor]=Lead_Actors[Actor][0:2] if Lead_Actors[Actor][0]!='' else Lead_Actors[Actor][1:3] #Some lists' first entry is blank so we skip it ",
      "metadata": {
        "trusted": true
      },
      "outputs": [],
      "execution_count": 366
    },
    {
      "cell_type": "code",
      "source": "Lead_Actors.head(5)",
      "metadata": {
        "trusted": true
      },
      "outputs": [
        {
          "execution_count": 367,
          "output_type": "execute_result",
          "data": {
            "text/plain": "0    [TomCruise,  JenniferConnelly]\n1    [ MichelleYeoh,  StephanieHsu]\n2    [RobertPattinson,  ZoëKravitz]\n3            [SamNeill,  LauraDern]\n4         [MarlonBrando,  AlPacino]\nName: Stars, dtype: object"
          },
          "metadata": {}
        }
      ],
      "execution_count": 367
    },
    {
      "cell_type": "code",
      "source": "Lead_Actors[0][0]",
      "metadata": {
        "trusted": true
      },
      "outputs": [
        {
          "execution_count": 368,
          "output_type": "execute_result",
          "data": {
            "text/plain": "'TomCruise'"
          },
          "metadata": {}
        }
      ],
      "execution_count": 368
    },
    {
      "cell_type": "code",
      "source": "Processed_Dataframe=pd.concat([Processed_Dataframe,df2['Director'],Lead_Actors],axis=1)\nProcessed_Dataframe.head(5)",
      "metadata": {
        "trusted": true
      },
      "outputs": [
        {
          "execution_count": 369,
          "output_type": "execute_result",
          "data": {
            "text/plain": "   Movie_ID                              Title            Director  \\\n0         0                  Top Gun: Maverick      JosephKosinski   \n1         1  Everything Everywhere All at Once            DanKwan,   \n2         2                         The Batman          MattReeves   \n3         3                      Jurassic Park     StevenSpielberg   \n4         4                      The Godfather  FrancisFordCoppola   \n\n                            Stars  \n0  [TomCruise,  JenniferConnelly]  \n1  [ MichelleYeoh,  StephanieHsu]  \n2  [RobertPattinson,  ZoëKravitz]  \n3          [SamNeill,  LauraDern]  \n4       [MarlonBrando,  AlPacino]  ",
            "text/html": "<div>\n<style scoped>\n    .dataframe tbody tr th:only-of-type {\n        vertical-align: middle;\n    }\n\n    .dataframe tbody tr th {\n        vertical-align: top;\n    }\n\n    .dataframe thead th {\n        text-align: right;\n    }\n</style>\n<table border=\"1\" class=\"dataframe\">\n  <thead>\n    <tr style=\"text-align: right;\">\n      <th></th>\n      <th>Movie_ID</th>\n      <th>Title</th>\n      <th>Director</th>\n      <th>Stars</th>\n    </tr>\n  </thead>\n  <tbody>\n    <tr>\n      <th>0</th>\n      <td>0</td>\n      <td>Top Gun: Maverick</td>\n      <td>JosephKosinski</td>\n      <td>[TomCruise,  JenniferConnelly]</td>\n    </tr>\n    <tr>\n      <th>1</th>\n      <td>1</td>\n      <td>Everything Everywhere All at Once</td>\n      <td>DanKwan,</td>\n      <td>[ MichelleYeoh,  StephanieHsu]</td>\n    </tr>\n    <tr>\n      <th>2</th>\n      <td>2</td>\n      <td>The Batman</td>\n      <td>MattReeves</td>\n      <td>[RobertPattinson,  ZoëKravitz]</td>\n    </tr>\n    <tr>\n      <th>3</th>\n      <td>3</td>\n      <td>Jurassic Park</td>\n      <td>StevenSpielberg</td>\n      <td>[SamNeill,  LauraDern]</td>\n    </tr>\n    <tr>\n      <th>4</th>\n      <td>4</td>\n      <td>The Godfather</td>\n      <td>FrancisFordCoppola</td>\n      <td>[MarlonBrando,  AlPacino]</td>\n    </tr>\n  </tbody>\n</table>\n</div>"
          },
          "metadata": {}
        }
      ],
      "execution_count": 369
    },
    {
      "cell_type": "code",
      "source": "#Check how many movies Tom Cruise has stared in...\nfor i in range(len(Lead_Actors)):\n    if('TomCruise' in Lead_Actors[i]):\n        print(Processed_Dataframe.iloc[i])",
      "metadata": {
        "trusted": true
      },
      "outputs": [],
      "execution_count": null
    },
    {
      "cell_type": "code",
      "source": "#Category Inspection\ndf2['Category'].head(10) #List of genres",
      "metadata": {
        "trusted": true
      },
      "outputs": [
        {
          "execution_count": 40,
          "output_type": "execute_result",
          "data": {
            "text/plain": "0                Action,Drama\n1     Action,Adventure,Comedy\n2          Action,Crime,Drama\n3     Action,Adventure,Sci-Fi\n4                 Crime,Drama\n5    Action,Adventure,Fantasy\n6                Action,Drama\n7    Action,Adventure,Fantasy\n8      Action,Adventure,Drama\n9       Biography,Crime,Drama\nName: Category, dtype: object"
          },
          "metadata": {}
        }
      ],
      "execution_count": 40
    },
    {
      "cell_type": "code",
      "source": "df2['Category'].value_counts(dropna=False) #NaN value noted",
      "metadata": {
        "trusted": true
      },
      "outputs": [],
      "execution_count": null
    },
    {
      "cell_type": "code",
      "source": "#Number of distinct categories in movies\nCategories=df2['Category'].str.split(',')\ngenres=[]\nfor movie in range(len(Categories)):\n    if(isinstance(Categories[movie], float)):\n        #print(Categories[movie])\n        continue\n    else:\n        for genre in Categories[movie]:\n            if(genre not in genres):\n                genres.append(genre)\ngenres=sorted(genres)",
      "metadata": {
        "trusted": true
      },
      "outputs": [],
      "execution_count": 376
    },
    {
      "cell_type": "code",
      "source": "#A nan value is included in categories so the movie is not categorised in terms of genre\nCategories[639]",
      "metadata": {
        "trusted": true
      },
      "outputs": [
        {
          "execution_count": 388,
          "output_type": "execute_result",
          "data": {
            "text/plain": "nan"
          },
          "metadata": {}
        }
      ],
      "execution_count": 388
    },
    {
      "cell_type": "code",
      "source": "genres\n#len(genres)",
      "metadata": {
        "trusted": true
      },
      "outputs": [],
      "execution_count": null
    },
    {
      "cell_type": "code",
      "source": "#One hot-Encoding Movie Categories \nCategories_Encoded = pd.DataFrame(hard_coded, columns=categories)\nCategories_Encoded=Categories_Encoded.astype(int)",
      "metadata": {
        "trusted": true
      },
      "outputs": [],
      "execution_count": 391
    },
    {
      "cell_type": "code",
      "source": "Categories_Encoded.head(10)",
      "metadata": {
        "trusted": true
      },
      "outputs": [
        {
          "execution_count": 380,
          "output_type": "execute_result",
          "data": {
            "text/plain": "   Action  Adventure  Animation  Biography  Comedy  Crime  Drama  Family  \\\n0       1          0          0          0       0      0      1       0   \n1       1          1          0          0       1      0      0       0   \n2       1          0          0          0       0      1      1       0   \n3       1          1          0          0       0      0      0       0   \n4       0          0          0          0       0      1      1       0   \n5       1          1          0          0       0      0      0       0   \n6       1          0          0          0       0      0      1       0   \n7       1          1          0          0       0      0      0       0   \n8       1          1          0          0       0      0      1       0   \n9       0          0          0          1       0      1      1       0   \n\n   Fantasy  Film-Noir  History  Horror  Music  Musical  Mystery  Romance  \\\n0        0          0        0       0      0        0        0        0   \n1        0          0        0       0      0        0        0        0   \n2        0          0        0       0      0        0        0        0   \n3        0          0        0       0      0        0        0        0   \n4        0          0        0       0      0        0        0        0   \n5        1          0        0       0      0        0        0        0   \n6        0          0        0       0      0        0        0        0   \n7        1          0        0       0      0        0        0        0   \n8        0          0        0       0      0        0        0        0   \n9        0          0        0       0      0        0        0        0   \n\n   Sci-Fi  Sport  Thriller  War  Western  \n0       0      0         0    0        0  \n1       0      0         0    0        0  \n2       0      0         0    0        0  \n3       1      0         0    0        0  \n4       0      0         0    0        0  \n5       0      0         0    0        0  \n6       0      0         0    0        0  \n7       0      0         0    0        0  \n8       0      0         0    0        0  \n9       0      0         0    0        0  ",
            "text/html": "<div>\n<style scoped>\n    .dataframe tbody tr th:only-of-type {\n        vertical-align: middle;\n    }\n\n    .dataframe tbody tr th {\n        vertical-align: top;\n    }\n\n    .dataframe thead th {\n        text-align: right;\n    }\n</style>\n<table border=\"1\" class=\"dataframe\">\n  <thead>\n    <tr style=\"text-align: right;\">\n      <th></th>\n      <th>Action</th>\n      <th>Adventure</th>\n      <th>Animation</th>\n      <th>Biography</th>\n      <th>Comedy</th>\n      <th>Crime</th>\n      <th>Drama</th>\n      <th>Family</th>\n      <th>Fantasy</th>\n      <th>Film-Noir</th>\n      <th>History</th>\n      <th>Horror</th>\n      <th>Music</th>\n      <th>Musical</th>\n      <th>Mystery</th>\n      <th>Romance</th>\n      <th>Sci-Fi</th>\n      <th>Sport</th>\n      <th>Thriller</th>\n      <th>War</th>\n      <th>Western</th>\n    </tr>\n  </thead>\n  <tbody>\n    <tr>\n      <th>0</th>\n      <td>1</td>\n      <td>0</td>\n      <td>0</td>\n      <td>0</td>\n      <td>0</td>\n      <td>0</td>\n      <td>1</td>\n      <td>0</td>\n      <td>0</td>\n      <td>0</td>\n      <td>0</td>\n      <td>0</td>\n      <td>0</td>\n      <td>0</td>\n      <td>0</td>\n      <td>0</td>\n      <td>0</td>\n      <td>0</td>\n      <td>0</td>\n      <td>0</td>\n      <td>0</td>\n    </tr>\n    <tr>\n      <th>1</th>\n      <td>1</td>\n      <td>1</td>\n      <td>0</td>\n      <td>0</td>\n      <td>1</td>\n      <td>0</td>\n      <td>0</td>\n      <td>0</td>\n      <td>0</td>\n      <td>0</td>\n      <td>0</td>\n      <td>0</td>\n      <td>0</td>\n      <td>0</td>\n      <td>0</td>\n      <td>0</td>\n      <td>0</td>\n      <td>0</td>\n      <td>0</td>\n      <td>0</td>\n      <td>0</td>\n    </tr>\n    <tr>\n      <th>2</th>\n      <td>1</td>\n      <td>0</td>\n      <td>0</td>\n      <td>0</td>\n      <td>0</td>\n      <td>1</td>\n      <td>1</td>\n      <td>0</td>\n      <td>0</td>\n      <td>0</td>\n      <td>0</td>\n      <td>0</td>\n      <td>0</td>\n      <td>0</td>\n      <td>0</td>\n      <td>0</td>\n      <td>0</td>\n      <td>0</td>\n      <td>0</td>\n      <td>0</td>\n      <td>0</td>\n    </tr>\n    <tr>\n      <th>3</th>\n      <td>1</td>\n      <td>1</td>\n      <td>0</td>\n      <td>0</td>\n      <td>0</td>\n      <td>0</td>\n      <td>0</td>\n      <td>0</td>\n      <td>0</td>\n      <td>0</td>\n      <td>0</td>\n      <td>0</td>\n      <td>0</td>\n      <td>0</td>\n      <td>0</td>\n      <td>0</td>\n      <td>1</td>\n      <td>0</td>\n      <td>0</td>\n      <td>0</td>\n      <td>0</td>\n    </tr>\n    <tr>\n      <th>4</th>\n      <td>0</td>\n      <td>0</td>\n      <td>0</td>\n      <td>0</td>\n      <td>0</td>\n      <td>1</td>\n      <td>1</td>\n      <td>0</td>\n      <td>0</td>\n      <td>0</td>\n      <td>0</td>\n      <td>0</td>\n      <td>0</td>\n      <td>0</td>\n      <td>0</td>\n      <td>0</td>\n      <td>0</td>\n      <td>0</td>\n      <td>0</td>\n      <td>0</td>\n      <td>0</td>\n    </tr>\n    <tr>\n      <th>5</th>\n      <td>1</td>\n      <td>1</td>\n      <td>0</td>\n      <td>0</td>\n      <td>0</td>\n      <td>0</td>\n      <td>0</td>\n      <td>0</td>\n      <td>1</td>\n      <td>0</td>\n      <td>0</td>\n      <td>0</td>\n      <td>0</td>\n      <td>0</td>\n      <td>0</td>\n      <td>0</td>\n      <td>0</td>\n      <td>0</td>\n      <td>0</td>\n      <td>0</td>\n      <td>0</td>\n    </tr>\n    <tr>\n      <th>6</th>\n      <td>1</td>\n      <td>0</td>\n      <td>0</td>\n      <td>0</td>\n      <td>0</td>\n      <td>0</td>\n      <td>1</td>\n      <td>0</td>\n      <td>0</td>\n      <td>0</td>\n      <td>0</td>\n      <td>0</td>\n      <td>0</td>\n      <td>0</td>\n      <td>0</td>\n      <td>0</td>\n      <td>0</td>\n      <td>0</td>\n      <td>0</td>\n      <td>0</td>\n      <td>0</td>\n    </tr>\n    <tr>\n      <th>7</th>\n      <td>1</td>\n      <td>1</td>\n      <td>0</td>\n      <td>0</td>\n      <td>0</td>\n      <td>0</td>\n      <td>0</td>\n      <td>0</td>\n      <td>1</td>\n      <td>0</td>\n      <td>0</td>\n      <td>0</td>\n      <td>0</td>\n      <td>0</td>\n      <td>0</td>\n      <td>0</td>\n      <td>0</td>\n      <td>0</td>\n      <td>0</td>\n      <td>0</td>\n      <td>0</td>\n    </tr>\n    <tr>\n      <th>8</th>\n      <td>1</td>\n      <td>1</td>\n      <td>0</td>\n      <td>0</td>\n      <td>0</td>\n      <td>0</td>\n      <td>1</td>\n      <td>0</td>\n      <td>0</td>\n      <td>0</td>\n      <td>0</td>\n      <td>0</td>\n      <td>0</td>\n      <td>0</td>\n      <td>0</td>\n      <td>0</td>\n      <td>0</td>\n      <td>0</td>\n      <td>0</td>\n      <td>0</td>\n      <td>0</td>\n    </tr>\n    <tr>\n      <th>9</th>\n      <td>0</td>\n      <td>0</td>\n      <td>0</td>\n      <td>1</td>\n      <td>0</td>\n      <td>1</td>\n      <td>1</td>\n      <td>0</td>\n      <td>0</td>\n      <td>0</td>\n      <td>0</td>\n      <td>0</td>\n      <td>0</td>\n      <td>0</td>\n      <td>0</td>\n      <td>0</td>\n      <td>0</td>\n      <td>0</td>\n      <td>0</td>\n      <td>0</td>\n      <td>0</td>\n    </tr>\n  </tbody>\n</table>\n</div>"
          },
          "metadata": {}
        }
      ],
      "execution_count": 380
    },
    {
      "cell_type": "code",
      "source": "#Locating where the NaN value is in the original dataset\nidx=df2[df2['Category'].isna()].index #RowNumber of NaN value\nCategories_Encoded.iloc[idx]=0 #Setting all genre values to 0 for that movie",
      "metadata": {
        "trusted": true
      },
      "outputs": [
        {
          "execution_count": 400,
          "output_type": "execute_result",
          "data": {
            "text/plain": "Index([639], dtype='int64')"
          },
          "metadata": {}
        }
      ],
      "execution_count": 400
    },
    {
      "cell_type": "code",
      "source": "Categories_Encoded.iloc[639] #Check Nan Values has been taken care of",
      "metadata": {
        "trusted": true
      },
      "outputs": [],
      "execution_count": null
    },
    {
      "cell_type": "code",
      "source": "Processed_Dataframe=pd.concat([Processed_Dataframe,Categories_Encoded],axis=1)\nProcessed_Dataframe.head(5)",
      "metadata": {
        "trusted": true
      },
      "outputs": [
        {
          "execution_count": 393,
          "output_type": "execute_result",
          "data": {
            "text/plain": "   Movie_ID                              Title            Director  \\\n0         0                  Top Gun: Maverick      JosephKosinski   \n1         1  Everything Everywhere All at Once            DanKwan,   \n2         2                         The Batman          MattReeves   \n3         3                      Jurassic Park     StevenSpielberg   \n4         4                      The Godfather  FrancisFordCoppola   \n\n                            Stars  Action  Adventure  Animation  Biography  \\\n0  [TomCruise,  JenniferConnelly]       1          0          0          0   \n1  [ MichelleYeoh,  StephanieHsu]       1          1          0          0   \n2  [RobertPattinson,  ZoëKravitz]       1          0          0          0   \n3          [SamNeill,  LauraDern]       1          1          0          0   \n4       [MarlonBrando,  AlPacino]       0          0          0          0   \n\n   Comedy  Crime  Drama  Family  Fantasy  Film-Noir  History  Horror  Music  \\\n0       0      0      1       0        0          0        0       0      0   \n1       1      0      0       0        0          0        0       0      0   \n2       0      1      1       0        0          0        0       0      0   \n3       0      0      0       0        0          0        0       0      0   \n4       0      1      1       0        0          0        0       0      0   \n\n   Musical  Mystery  Romance  Sci-Fi  Sport  Thriller  War  Western  \n0        0        0        0       0      0         0    0        0  \n1        0        0        0       0      0         0    0        0  \n2        0        0        0       0      0         0    0        0  \n3        0        0        0       1      0         0    0        0  \n4        0        0        0       0      0         0    0        0  ",
            "text/html": "<div>\n<style scoped>\n    .dataframe tbody tr th:only-of-type {\n        vertical-align: middle;\n    }\n\n    .dataframe tbody tr th {\n        vertical-align: top;\n    }\n\n    .dataframe thead th {\n        text-align: right;\n    }\n</style>\n<table border=\"1\" class=\"dataframe\">\n  <thead>\n    <tr style=\"text-align: right;\">\n      <th></th>\n      <th>Movie_ID</th>\n      <th>Title</th>\n      <th>Director</th>\n      <th>Stars</th>\n      <th>Action</th>\n      <th>Adventure</th>\n      <th>Animation</th>\n      <th>Biography</th>\n      <th>Comedy</th>\n      <th>Crime</th>\n      <th>Drama</th>\n      <th>Family</th>\n      <th>Fantasy</th>\n      <th>Film-Noir</th>\n      <th>History</th>\n      <th>Horror</th>\n      <th>Music</th>\n      <th>Musical</th>\n      <th>Mystery</th>\n      <th>Romance</th>\n      <th>Sci-Fi</th>\n      <th>Sport</th>\n      <th>Thriller</th>\n      <th>War</th>\n      <th>Western</th>\n    </tr>\n  </thead>\n  <tbody>\n    <tr>\n      <th>0</th>\n      <td>0</td>\n      <td>Top Gun: Maverick</td>\n      <td>JosephKosinski</td>\n      <td>[TomCruise,  JenniferConnelly]</td>\n      <td>1</td>\n      <td>0</td>\n      <td>0</td>\n      <td>0</td>\n      <td>0</td>\n      <td>0</td>\n      <td>1</td>\n      <td>0</td>\n      <td>0</td>\n      <td>0</td>\n      <td>0</td>\n      <td>0</td>\n      <td>0</td>\n      <td>0</td>\n      <td>0</td>\n      <td>0</td>\n      <td>0</td>\n      <td>0</td>\n      <td>0</td>\n      <td>0</td>\n      <td>0</td>\n    </tr>\n    <tr>\n      <th>1</th>\n      <td>1</td>\n      <td>Everything Everywhere All at Once</td>\n      <td>DanKwan,</td>\n      <td>[ MichelleYeoh,  StephanieHsu]</td>\n      <td>1</td>\n      <td>1</td>\n      <td>0</td>\n      <td>0</td>\n      <td>1</td>\n      <td>0</td>\n      <td>0</td>\n      <td>0</td>\n      <td>0</td>\n      <td>0</td>\n      <td>0</td>\n      <td>0</td>\n      <td>0</td>\n      <td>0</td>\n      <td>0</td>\n      <td>0</td>\n      <td>0</td>\n      <td>0</td>\n      <td>0</td>\n      <td>0</td>\n      <td>0</td>\n    </tr>\n    <tr>\n      <th>2</th>\n      <td>2</td>\n      <td>The Batman</td>\n      <td>MattReeves</td>\n      <td>[RobertPattinson,  ZoëKravitz]</td>\n      <td>1</td>\n      <td>0</td>\n      <td>0</td>\n      <td>0</td>\n      <td>0</td>\n      <td>1</td>\n      <td>1</td>\n      <td>0</td>\n      <td>0</td>\n      <td>0</td>\n      <td>0</td>\n      <td>0</td>\n      <td>0</td>\n      <td>0</td>\n      <td>0</td>\n      <td>0</td>\n      <td>0</td>\n      <td>0</td>\n      <td>0</td>\n      <td>0</td>\n      <td>0</td>\n    </tr>\n    <tr>\n      <th>3</th>\n      <td>3</td>\n      <td>Jurassic Park</td>\n      <td>StevenSpielberg</td>\n      <td>[SamNeill,  LauraDern]</td>\n      <td>1</td>\n      <td>1</td>\n      <td>0</td>\n      <td>0</td>\n      <td>0</td>\n      <td>0</td>\n      <td>0</td>\n      <td>0</td>\n      <td>0</td>\n      <td>0</td>\n      <td>0</td>\n      <td>0</td>\n      <td>0</td>\n      <td>0</td>\n      <td>0</td>\n      <td>0</td>\n      <td>1</td>\n      <td>0</td>\n      <td>0</td>\n      <td>0</td>\n      <td>0</td>\n    </tr>\n    <tr>\n      <th>4</th>\n      <td>4</td>\n      <td>The Godfather</td>\n      <td>FrancisFordCoppola</td>\n      <td>[MarlonBrando,  AlPacino]</td>\n      <td>0</td>\n      <td>0</td>\n      <td>0</td>\n      <td>0</td>\n      <td>0</td>\n      <td>1</td>\n      <td>1</td>\n      <td>0</td>\n      <td>0</td>\n      <td>0</td>\n      <td>0</td>\n      <td>0</td>\n      <td>0</td>\n      <td>0</td>\n      <td>0</td>\n      <td>0</td>\n      <td>0</td>\n      <td>0</td>\n      <td>0</td>\n      <td>0</td>\n      <td>0</td>\n    </tr>\n  </tbody>\n</table>\n</div>"
          },
          "metadata": {}
        }
      ],
      "execution_count": 393
    },
    {
      "cell_type": "code",
      "source": "#Duration Inspection\ndf2['Duration'].head(10)\n#df2['Duration'].value_counts(dropna=False) \n#1 NaN value and 1 Drama,Romance Value wrongly set \n#while the rest are durations in minutes followed by the ending mins which can be omitted",
      "metadata": {
        "trusted": true
      },
      "outputs": [
        {
          "execution_count": 397,
          "output_type": "execute_result",
          "data": {
            "text/plain": "Index([785], dtype='int64')"
          },
          "metadata": {}
        }
      ],
      "execution_count": 397
    },
    {
      "cell_type": "code",
      "source": "#Censor Rating Inspection \n#df2['Censor-board-rating'].value_counts(dropna=False) \n#df2['Censor-board-rating'].unique()\n\n#and Category inspection \n#df2['Category'].value_counts(dropna=False)\n\n#through these inspections and some internet search regarding the entries in lines 639 and 785 it was found that the data\n#were correct but were inserted in the wrong order in columns 'Category','Duration' and 'Censor-board-rating'",
      "metadata": {
        "trusted": true
      },
      "outputs": [],
      "execution_count": null
    },
    {
      "cell_type": "code",
      "source": "#Fixing data in rows 639 and 785 in the copy of the original dataframe\n#The two invalid entries have information that are misalligned\n#df2[639:640] #Initially\ndf2.loc[639,'Category']=df2.loc[639,'Duration']\ndf2.loc[639,'Duration']=df2.loc[639,'Censor-board-rating']\ndf2.loc[639,'Censor-board-rating']='Unrated'\n#df2[639:640] #check results\n\n#df2[785:786] #Initially\ndf2.loc[785,'Duration']=df2.loc[785,'Censor-board-rating']\ndf2.loc[785,'Censor-board-rating']='Unrated'\ndf2[785:786] #Check results",
      "metadata": {
        "trusted": true
      },
      "outputs": [
        {
          "execution_count": 401,
          "output_type": "execute_result",
          "data": {
            "text/plain": "                         Title   Director  \\\n785  Ayla: The Daughter of War  CanUlkay,   \n\n                                                 Stars  IMDb-Rating  \\\n785  , ÇetinTekindor, IsmailHacioglu, Kyung-jinLee,...          8.3   \n\n                    Category Duration Censor-board-rating  ReleaseYear  \n785  Biography,Drama,History   125min             Unrated         2017  ",
            "text/html": "<div>\n<style scoped>\n    .dataframe tbody tr th:only-of-type {\n        vertical-align: middle;\n    }\n\n    .dataframe tbody tr th {\n        vertical-align: top;\n    }\n\n    .dataframe thead th {\n        text-align: right;\n    }\n</style>\n<table border=\"1\" class=\"dataframe\">\n  <thead>\n    <tr style=\"text-align: right;\">\n      <th></th>\n      <th>Title</th>\n      <th>Director</th>\n      <th>Stars</th>\n      <th>IMDb-Rating</th>\n      <th>Category</th>\n      <th>Duration</th>\n      <th>Censor-board-rating</th>\n      <th>ReleaseYear</th>\n    </tr>\n  </thead>\n  <tbody>\n    <tr>\n      <th>785</th>\n      <td>Ayla: The Daughter of War</td>\n      <td>CanUlkay,</td>\n      <td>, ÇetinTekindor, IsmailHacioglu, Kyung-jinLee,...</td>\n      <td>8.3</td>\n      <td>Biography,Drama,History</td>\n      <td>125min</td>\n      <td>Unrated</td>\n      <td>2017</td>\n    </tr>\n  </tbody>\n</table>\n</div>"
          },
          "metadata": {}
        }
      ],
      "execution_count": 401
    },
    {
      "cell_type": "code",
      "source": "# Remove 'min' from all entries in the 'duration' column\ndf2['Duration'] = df2['Duration'].str.replace('min', '')\ndf2['Duration'].head(5)",
      "metadata": {
        "trusted": true
      },
      "outputs": [
        {
          "execution_count": 403,
          "output_type": "execute_result",
          "data": {
            "text/plain": "0    130\n1    139\n2    176\n3    127\n4    175\nName: Duration, dtype: object"
          },
          "metadata": {}
        }
      ],
      "execution_count": 403
    },
    {
      "cell_type": "code",
      "source": "#Now that the data have been correctly inserted\nDuration=df2['Duration']\n#Duration.head(5)",
      "metadata": {
        "trusted": true
      },
      "outputs": [],
      "execution_count": 404
    },
    {
      "cell_type": "code",
      "source": "Processed_Dataframe=pd.concat([Processed_Dataframe,Duration],axis=1)\n#Processed_Dataframe.head(5)",
      "metadata": {
        "trusted": true
      },
      "outputs": [
        {
          "execution_count": 413,
          "output_type": "execute_result",
          "data": {
            "text/plain": "   Movie_ID                              Title            Director  \\\n0         0                  Top Gun: Maverick      JosephKosinski   \n1         1  Everything Everywhere All at Once            DanKwan,   \n2         2                         The Batman          MattReeves   \n3         3                      Jurassic Park     StevenSpielberg   \n4         4                      The Godfather  FrancisFordCoppola   \n\n                            Stars  Action  Adventure  Animation  Biography  \\\n0  [TomCruise,  JenniferConnelly]       1          0          0          0   \n1  [ MichelleYeoh,  StephanieHsu]       1          1          0          0   \n2  [RobertPattinson,  ZoëKravitz]       1          0          0          0   \n3          [SamNeill,  LauraDern]       1          1          0          0   \n4       [MarlonBrando,  AlPacino]       0          0          0          0   \n\n   Comedy  Crime  Drama  Family  Fantasy  Film-Noir  History  Horror  Music  \\\n0       0      0      1       0        0          0        0       0      0   \n1       1      0      0       0        0          0        0       0      0   \n2       0      1      1       0        0          0        0       0      0   \n3       0      0      0       0        0          0        0       0      0   \n4       0      1      1       0        0          0        0       0      0   \n\n   Musical  Mystery  Romance  Sci-Fi  Sport  Thriller  War  Western Duration  \n0        0        0        0       0      0         0    0        0      130  \n1        0        0        0       0      0         0    0        0      139  \n2        0        0        0       0      0         0    0        0      176  \n3        0        0        0       1      0         0    0        0      127  \n4        0        0        0       0      0         0    0        0      175  ",
            "text/html": "<div>\n<style scoped>\n    .dataframe tbody tr th:only-of-type {\n        vertical-align: middle;\n    }\n\n    .dataframe tbody tr th {\n        vertical-align: top;\n    }\n\n    .dataframe thead th {\n        text-align: right;\n    }\n</style>\n<table border=\"1\" class=\"dataframe\">\n  <thead>\n    <tr style=\"text-align: right;\">\n      <th></th>\n      <th>Movie_ID</th>\n      <th>Title</th>\n      <th>Director</th>\n      <th>Stars</th>\n      <th>Action</th>\n      <th>Adventure</th>\n      <th>Animation</th>\n      <th>Biography</th>\n      <th>Comedy</th>\n      <th>Crime</th>\n      <th>Drama</th>\n      <th>Family</th>\n      <th>Fantasy</th>\n      <th>Film-Noir</th>\n      <th>History</th>\n      <th>Horror</th>\n      <th>Music</th>\n      <th>Musical</th>\n      <th>Mystery</th>\n      <th>Romance</th>\n      <th>Sci-Fi</th>\n      <th>Sport</th>\n      <th>Thriller</th>\n      <th>War</th>\n      <th>Western</th>\n      <th>Duration</th>\n    </tr>\n  </thead>\n  <tbody>\n    <tr>\n      <th>0</th>\n      <td>0</td>\n      <td>Top Gun: Maverick</td>\n      <td>JosephKosinski</td>\n      <td>[TomCruise,  JenniferConnelly]</td>\n      <td>1</td>\n      <td>0</td>\n      <td>0</td>\n      <td>0</td>\n      <td>0</td>\n      <td>0</td>\n      <td>1</td>\n      <td>0</td>\n      <td>0</td>\n      <td>0</td>\n      <td>0</td>\n      <td>0</td>\n      <td>0</td>\n      <td>0</td>\n      <td>0</td>\n      <td>0</td>\n      <td>0</td>\n      <td>0</td>\n      <td>0</td>\n      <td>0</td>\n      <td>0</td>\n      <td>130</td>\n    </tr>\n    <tr>\n      <th>1</th>\n      <td>1</td>\n      <td>Everything Everywhere All at Once</td>\n      <td>DanKwan,</td>\n      <td>[ MichelleYeoh,  StephanieHsu]</td>\n      <td>1</td>\n      <td>1</td>\n      <td>0</td>\n      <td>0</td>\n      <td>1</td>\n      <td>0</td>\n      <td>0</td>\n      <td>0</td>\n      <td>0</td>\n      <td>0</td>\n      <td>0</td>\n      <td>0</td>\n      <td>0</td>\n      <td>0</td>\n      <td>0</td>\n      <td>0</td>\n      <td>0</td>\n      <td>0</td>\n      <td>0</td>\n      <td>0</td>\n      <td>0</td>\n      <td>139</td>\n    </tr>\n    <tr>\n      <th>2</th>\n      <td>2</td>\n      <td>The Batman</td>\n      <td>MattReeves</td>\n      <td>[RobertPattinson,  ZoëKravitz]</td>\n      <td>1</td>\n      <td>0</td>\n      <td>0</td>\n      <td>0</td>\n      <td>0</td>\n      <td>1</td>\n      <td>1</td>\n      <td>0</td>\n      <td>0</td>\n      <td>0</td>\n      <td>0</td>\n      <td>0</td>\n      <td>0</td>\n      <td>0</td>\n      <td>0</td>\n      <td>0</td>\n      <td>0</td>\n      <td>0</td>\n      <td>0</td>\n      <td>0</td>\n      <td>0</td>\n      <td>176</td>\n    </tr>\n    <tr>\n      <th>3</th>\n      <td>3</td>\n      <td>Jurassic Park</td>\n      <td>StevenSpielberg</td>\n      <td>[SamNeill,  LauraDern]</td>\n      <td>1</td>\n      <td>1</td>\n      <td>0</td>\n      <td>0</td>\n      <td>0</td>\n      <td>0</td>\n      <td>0</td>\n      <td>0</td>\n      <td>0</td>\n      <td>0</td>\n      <td>0</td>\n      <td>0</td>\n      <td>0</td>\n      <td>0</td>\n      <td>0</td>\n      <td>0</td>\n      <td>1</td>\n      <td>0</td>\n      <td>0</td>\n      <td>0</td>\n      <td>0</td>\n      <td>127</td>\n    </tr>\n    <tr>\n      <th>4</th>\n      <td>4</td>\n      <td>The Godfather</td>\n      <td>FrancisFordCoppola</td>\n      <td>[MarlonBrando,  AlPacino]</td>\n      <td>0</td>\n      <td>0</td>\n      <td>0</td>\n      <td>0</td>\n      <td>0</td>\n      <td>1</td>\n      <td>1</td>\n      <td>0</td>\n      <td>0</td>\n      <td>0</td>\n      <td>0</td>\n      <td>0</td>\n      <td>0</td>\n      <td>0</td>\n      <td>0</td>\n      <td>0</td>\n      <td>0</td>\n      <td>0</td>\n      <td>0</td>\n      <td>0</td>\n      <td>0</td>\n      <td>175</td>\n    </tr>\n  </tbody>\n</table>\n</div>"
          },
          "metadata": {}
        }
      ],
      "execution_count": 413
    },
    {
      "cell_type": "code",
      "source": "df2['Censor-board-rating'].head(10) #NEED ENCODING",
      "metadata": {
        "trusted": true
      },
      "outputs": [
        {
          "execution_count": 406,
          "output_type": "execute_result",
          "data": {
            "text/plain": "0    UA\n1     R\n2    UA\n3    UA\n4     A\n5    UA\n6    UA\n7    UA\n8    UA\n9     A\nName: Censor-board-rating, dtype: object"
          },
          "metadata": {}
        }
      ],
      "execution_count": 406
    },
    {
      "cell_type": "code",
      "source": "#df2['Censor-board-rating'].any() #Check if there are NaN values\n#df2['Censor-board-rating'].unique() #Proof\n#df2['Censor-board-rating'].value_counts(dropna=False) #How many NaN values (154)",
      "metadata": {
        "trusted": true
      },
      "outputs": [
        {
          "execution_count": 418,
          "output_type": "execute_result",
          "data": {
            "text/plain": "Censor-board-rating\nU           270\nA           215\nUA          197\nNaN         154\nR            76\nPG-13        20\n18           13\nNotRated     11\nPG           10\n16            8\n13            6\n7             5\nUnrated       4\nG             2\n15+           2\nU/A           2\nUA13+         1\n12+           1\nAll           1\n(Banned)      1\nM/PG          1\nName: count, dtype: int64"
          },
          "metadata": {}
        }
      ],
      "execution_count": 418
    },
    {
      "cell_type": "code",
      "source": "#Set NaN values to Unrated because that is what not having a censorhip rating practically means\nCensor_Rating=df2['Censor-board-rating']\nCensor_Rating=Censor_Rating.fillna('Unrated')\nCensor_Rating.value_counts(dropna=False) #Check Results",
      "metadata": {
        "trusted": true
      },
      "outputs": [
        {
          "execution_count": 420,
          "output_type": "execute_result",
          "data": {
            "text/plain": "Censor-board-rating\nU           270\nA           215\nUA          197\nUnrated     158\nR            76\nPG-13        20\n18           13\nNotRated     11\nPG           10\n16            8\n13            6\n7             5\nG             2\nU/A           2\n15+           2\nUA13+         1\n12+           1\nAll           1\n(Banned)      1\nM/PG          1\nName: count, dtype: int64"
          },
          "metadata": {}
        }
      ],
      "execution_count": 420
    },
    {
      "cell_type": "code",
      "source": "#Encoding Censor Ratings\nCensor_rating_full=pd.get_dummies(Censor_Rating)\nCensor_rating_full=Censor_rating_full.astype(int)\nCensor_rating_full.head(5)",
      "metadata": {
        "trusted": true
      },
      "outputs": [
        {
          "execution_count": 422,
          "output_type": "execute_result",
          "data": {
            "text/plain": "   (Banned)  12+  13  15+  16  18  7  A  All  G  M/PG  NotRated  PG  PG-13  R  \\\n0         0    0   0    0   0   0  0  0    0  0     0         0   0      0  0   \n1         0    0   0    0   0   0  0  0    0  0     0         0   0      0  1   \n2         0    0   0    0   0   0  0  0    0  0     0         0   0      0  0   \n3         0    0   0    0   0   0  0  0    0  0     0         0   0      0  0   \n4         0    0   0    0   0   0  0  1    0  0     0         0   0      0  0   \n\n   U  U/A  UA  UA13+  Unrated  \n0  0    0   1      0        0  \n1  0    0   0      0        0  \n2  0    0   1      0        0  \n3  0    0   1      0        0  \n4  0    0   0      0        0  ",
            "text/html": "<div>\n<style scoped>\n    .dataframe tbody tr th:only-of-type {\n        vertical-align: middle;\n    }\n\n    .dataframe tbody tr th {\n        vertical-align: top;\n    }\n\n    .dataframe thead th {\n        text-align: right;\n    }\n</style>\n<table border=\"1\" class=\"dataframe\">\n  <thead>\n    <tr style=\"text-align: right;\">\n      <th></th>\n      <th>(Banned)</th>\n      <th>12+</th>\n      <th>13</th>\n      <th>15+</th>\n      <th>16</th>\n      <th>18</th>\n      <th>7</th>\n      <th>A</th>\n      <th>All</th>\n      <th>G</th>\n      <th>M/PG</th>\n      <th>NotRated</th>\n      <th>PG</th>\n      <th>PG-13</th>\n      <th>R</th>\n      <th>U</th>\n      <th>U/A</th>\n      <th>UA</th>\n      <th>UA13+</th>\n      <th>Unrated</th>\n    </tr>\n  </thead>\n  <tbody>\n    <tr>\n      <th>0</th>\n      <td>0</td>\n      <td>0</td>\n      <td>0</td>\n      <td>0</td>\n      <td>0</td>\n      <td>0</td>\n      <td>0</td>\n      <td>0</td>\n      <td>0</td>\n      <td>0</td>\n      <td>0</td>\n      <td>0</td>\n      <td>0</td>\n      <td>0</td>\n      <td>0</td>\n      <td>0</td>\n      <td>0</td>\n      <td>1</td>\n      <td>0</td>\n      <td>0</td>\n    </tr>\n    <tr>\n      <th>1</th>\n      <td>0</td>\n      <td>0</td>\n      <td>0</td>\n      <td>0</td>\n      <td>0</td>\n      <td>0</td>\n      <td>0</td>\n      <td>0</td>\n      <td>0</td>\n      <td>0</td>\n      <td>0</td>\n      <td>0</td>\n      <td>0</td>\n      <td>0</td>\n      <td>1</td>\n      <td>0</td>\n      <td>0</td>\n      <td>0</td>\n      <td>0</td>\n      <td>0</td>\n    </tr>\n    <tr>\n      <th>2</th>\n      <td>0</td>\n      <td>0</td>\n      <td>0</td>\n      <td>0</td>\n      <td>0</td>\n      <td>0</td>\n      <td>0</td>\n      <td>0</td>\n      <td>0</td>\n      <td>0</td>\n      <td>0</td>\n      <td>0</td>\n      <td>0</td>\n      <td>0</td>\n      <td>0</td>\n      <td>0</td>\n      <td>0</td>\n      <td>1</td>\n      <td>0</td>\n      <td>0</td>\n    </tr>\n    <tr>\n      <th>3</th>\n      <td>0</td>\n      <td>0</td>\n      <td>0</td>\n      <td>0</td>\n      <td>0</td>\n      <td>0</td>\n      <td>0</td>\n      <td>0</td>\n      <td>0</td>\n      <td>0</td>\n      <td>0</td>\n      <td>0</td>\n      <td>0</td>\n      <td>0</td>\n      <td>0</td>\n      <td>0</td>\n      <td>0</td>\n      <td>1</td>\n      <td>0</td>\n      <td>0</td>\n    </tr>\n    <tr>\n      <th>4</th>\n      <td>0</td>\n      <td>0</td>\n      <td>0</td>\n      <td>0</td>\n      <td>0</td>\n      <td>0</td>\n      <td>0</td>\n      <td>1</td>\n      <td>0</td>\n      <td>0</td>\n      <td>0</td>\n      <td>0</td>\n      <td>0</td>\n      <td>0</td>\n      <td>0</td>\n      <td>0</td>\n      <td>0</td>\n      <td>0</td>\n      <td>0</td>\n      <td>0</td>\n    </tr>\n  </tbody>\n</table>\n</div>"
          },
          "metadata": {}
        }
      ],
      "execution_count": 422
    },
    {
      "cell_type": "code",
      "source": "#Check Results\n#Censor_rating_full['Check']=censor_rating_full.sum(axis=1) #Sum needs to be 1 for each row because each movie has a single rating\n#Censor_rating_full=censor_rating_full.drop(axis=1,columns=['Check'])\n#Censor_rating_full.head(5)",
      "metadata": {
        "trusted": true
      },
      "outputs": [
        {
          "execution_count": 124,
          "output_type": "execute_result",
          "data": {
            "text/plain": "   (Banned)  12+  13  15+  16  18  7  A  All  G  M/PG  NotRated  PG  PG-13  R  \\\n0         0    0   0    0   0   0  0  0    0  0     0         0   0      0  0   \n1         0    0   0    0   0   0  0  0    0  0     0         0   0      0  1   \n2         0    0   0    0   0   0  0  0    0  0     0         0   0      0  0   \n3         0    0   0    0   0   0  0  0    0  0     0         0   0      0  0   \n4         0    0   0    0   0   0  0  1    0  0     0         0   0      0  0   \n\n   U  U/A  UA  UA13+  Unrated  \n0  0    0   1      0        0  \n1  0    0   0      0        0  \n2  0    0   1      0        0  \n3  0    0   1      0        0  \n4  0    0   0      0        0  ",
            "text/html": "<div>\n<style scoped>\n    .dataframe tbody tr th:only-of-type {\n        vertical-align: middle;\n    }\n\n    .dataframe tbody tr th {\n        vertical-align: top;\n    }\n\n    .dataframe thead th {\n        text-align: right;\n    }\n</style>\n<table border=\"1\" class=\"dataframe\">\n  <thead>\n    <tr style=\"text-align: right;\">\n      <th></th>\n      <th>(Banned)</th>\n      <th>12+</th>\n      <th>13</th>\n      <th>15+</th>\n      <th>16</th>\n      <th>18</th>\n      <th>7</th>\n      <th>A</th>\n      <th>All</th>\n      <th>G</th>\n      <th>M/PG</th>\n      <th>NotRated</th>\n      <th>PG</th>\n      <th>PG-13</th>\n      <th>R</th>\n      <th>U</th>\n      <th>U/A</th>\n      <th>UA</th>\n      <th>UA13+</th>\n      <th>Unrated</th>\n    </tr>\n  </thead>\n  <tbody>\n    <tr>\n      <th>0</th>\n      <td>0</td>\n      <td>0</td>\n      <td>0</td>\n      <td>0</td>\n      <td>0</td>\n      <td>0</td>\n      <td>0</td>\n      <td>0</td>\n      <td>0</td>\n      <td>0</td>\n      <td>0</td>\n      <td>0</td>\n      <td>0</td>\n      <td>0</td>\n      <td>0</td>\n      <td>0</td>\n      <td>0</td>\n      <td>1</td>\n      <td>0</td>\n      <td>0</td>\n    </tr>\n    <tr>\n      <th>1</th>\n      <td>0</td>\n      <td>0</td>\n      <td>0</td>\n      <td>0</td>\n      <td>0</td>\n      <td>0</td>\n      <td>0</td>\n      <td>0</td>\n      <td>0</td>\n      <td>0</td>\n      <td>0</td>\n      <td>0</td>\n      <td>0</td>\n      <td>0</td>\n      <td>1</td>\n      <td>0</td>\n      <td>0</td>\n      <td>0</td>\n      <td>0</td>\n      <td>0</td>\n    </tr>\n    <tr>\n      <th>2</th>\n      <td>0</td>\n      <td>0</td>\n      <td>0</td>\n      <td>0</td>\n      <td>0</td>\n      <td>0</td>\n      <td>0</td>\n      <td>0</td>\n      <td>0</td>\n      <td>0</td>\n      <td>0</td>\n      <td>0</td>\n      <td>0</td>\n      <td>0</td>\n      <td>0</td>\n      <td>0</td>\n      <td>0</td>\n      <td>1</td>\n      <td>0</td>\n      <td>0</td>\n    </tr>\n    <tr>\n      <th>3</th>\n      <td>0</td>\n      <td>0</td>\n      <td>0</td>\n      <td>0</td>\n      <td>0</td>\n      <td>0</td>\n      <td>0</td>\n      <td>0</td>\n      <td>0</td>\n      <td>0</td>\n      <td>0</td>\n      <td>0</td>\n      <td>0</td>\n      <td>0</td>\n      <td>0</td>\n      <td>0</td>\n      <td>0</td>\n      <td>1</td>\n      <td>0</td>\n      <td>0</td>\n    </tr>\n    <tr>\n      <th>4</th>\n      <td>0</td>\n      <td>0</td>\n      <td>0</td>\n      <td>0</td>\n      <td>0</td>\n      <td>0</td>\n      <td>0</td>\n      <td>1</td>\n      <td>0</td>\n      <td>0</td>\n      <td>0</td>\n      <td>0</td>\n      <td>0</td>\n      <td>0</td>\n      <td>0</td>\n      <td>0</td>\n      <td>0</td>\n      <td>0</td>\n      <td>0</td>\n      <td>0</td>\n    </tr>\n  </tbody>\n</table>\n</div>"
          },
          "metadata": {}
        }
      ],
      "execution_count": 124
    },
    {
      "cell_type": "code",
      "source": "#Grouping Ratings into 4 main categories\nCensor_rating_full['Everyone']=Censor_rating_full.loc[:,['G','U','All','7']].max(axis=1)\nCensor_rating_full['PG/13+']=Censor_rating_full.loc[:,['M/PG','PG','13','PG-13','12+','UA13+','UA']].max(axis=1)\nCensor_rating_full['Over15']=Censor_rating_full.loc[:,['15+','16','18','A','M/PG','R','(Banned)']].max(axis=1)\nCensor_rating_full['NO_RATING']=Censor_rating_full.loc[:,['Unrated','NotRated']].max(axis=1)\nCensor_rating_full.head(5)",
      "metadata": {
        "trusted": true
      },
      "outputs": [],
      "execution_count": null
    },
    {
      "cell_type": "code",
      "source": "Processed_Dataframe=pd.concat([Processed_Dataframe,Censor_rating_full['Everyone'],Censor_rating_full['PG/13+'],Censor_rating_full['Over15'],Censor_rating_full['NO_RATING']],axis=1)\nProcessed_Dataframe.head(5)",
      "metadata": {
        "trusted": true
      },
      "outputs": [
        {
          "execution_count": 424,
          "output_type": "execute_result",
          "data": {
            "text/plain": "   Movie_ID                              Title            Director  \\\n0         0                  Top Gun: Maverick      JosephKosinski   \n1         1  Everything Everywhere All at Once            DanKwan,   \n2         2                         The Batman          MattReeves   \n3         3                      Jurassic Park     StevenSpielberg   \n4         4                      The Godfather  FrancisFordCoppola   \n\n                            Stars  Action  Adventure  Animation  Biography  \\\n0  [TomCruise,  JenniferConnelly]       1          0          0          0   \n1  [ MichelleYeoh,  StephanieHsu]       1          1          0          0   \n2  [RobertPattinson,  ZoëKravitz]       1          0          0          0   \n3          [SamNeill,  LauraDern]       1          1          0          0   \n4       [MarlonBrando,  AlPacino]       0          0          0          0   \n\n   Comedy  Crime  Drama  Family  Fantasy  Film-Noir  History  Horror  Music  \\\n0       0      0      1       0        0          0        0       0      0   \n1       1      0      0       0        0          0        0       0      0   \n2       0      1      1       0        0          0        0       0      0   \n3       0      0      0       0        0          0        0       0      0   \n4       0      1      1       0        0          0        0       0      0   \n\n   Musical  Mystery  Romance  Sci-Fi  Sport  Thriller  War  Western Duration  \\\n0        0        0        0       0      0         0    0        0      130   \n1        0        0        0       0      0         0    0        0      139   \n2        0        0        0       0      0         0    0        0      176   \n3        0        0        0       1      0         0    0        0      127   \n4        0        0        0       0      0         0    0        0      175   \n\n   Everyone  PG/13+  Over15  NO_RATING  \n0         0       1       0          0  \n1         0       0       1          0  \n2         0       1       0          0  \n3         0       1       0          0  \n4         0       0       1          0  ",
            "text/html": "<div>\n<style scoped>\n    .dataframe tbody tr th:only-of-type {\n        vertical-align: middle;\n    }\n\n    .dataframe tbody tr th {\n        vertical-align: top;\n    }\n\n    .dataframe thead th {\n        text-align: right;\n    }\n</style>\n<table border=\"1\" class=\"dataframe\">\n  <thead>\n    <tr style=\"text-align: right;\">\n      <th></th>\n      <th>Movie_ID</th>\n      <th>Title</th>\n      <th>Director</th>\n      <th>Stars</th>\n      <th>Action</th>\n      <th>Adventure</th>\n      <th>Animation</th>\n      <th>Biography</th>\n      <th>Comedy</th>\n      <th>Crime</th>\n      <th>Drama</th>\n      <th>Family</th>\n      <th>Fantasy</th>\n      <th>Film-Noir</th>\n      <th>History</th>\n      <th>Horror</th>\n      <th>Music</th>\n      <th>Musical</th>\n      <th>Mystery</th>\n      <th>Romance</th>\n      <th>Sci-Fi</th>\n      <th>Sport</th>\n      <th>Thriller</th>\n      <th>War</th>\n      <th>Western</th>\n      <th>Duration</th>\n      <th>Everyone</th>\n      <th>PG/13+</th>\n      <th>Over15</th>\n      <th>NO_RATING</th>\n    </tr>\n  </thead>\n  <tbody>\n    <tr>\n      <th>0</th>\n      <td>0</td>\n      <td>Top Gun: Maverick</td>\n      <td>JosephKosinski</td>\n      <td>[TomCruise,  JenniferConnelly]</td>\n      <td>1</td>\n      <td>0</td>\n      <td>0</td>\n      <td>0</td>\n      <td>0</td>\n      <td>0</td>\n      <td>1</td>\n      <td>0</td>\n      <td>0</td>\n      <td>0</td>\n      <td>0</td>\n      <td>0</td>\n      <td>0</td>\n      <td>0</td>\n      <td>0</td>\n      <td>0</td>\n      <td>0</td>\n      <td>0</td>\n      <td>0</td>\n      <td>0</td>\n      <td>0</td>\n      <td>130</td>\n      <td>0</td>\n      <td>1</td>\n      <td>0</td>\n      <td>0</td>\n    </tr>\n    <tr>\n      <th>1</th>\n      <td>1</td>\n      <td>Everything Everywhere All at Once</td>\n      <td>DanKwan,</td>\n      <td>[ MichelleYeoh,  StephanieHsu]</td>\n      <td>1</td>\n      <td>1</td>\n      <td>0</td>\n      <td>0</td>\n      <td>1</td>\n      <td>0</td>\n      <td>0</td>\n      <td>0</td>\n      <td>0</td>\n      <td>0</td>\n      <td>0</td>\n      <td>0</td>\n      <td>0</td>\n      <td>0</td>\n      <td>0</td>\n      <td>0</td>\n      <td>0</td>\n      <td>0</td>\n      <td>0</td>\n      <td>0</td>\n      <td>0</td>\n      <td>139</td>\n      <td>0</td>\n      <td>0</td>\n      <td>1</td>\n      <td>0</td>\n    </tr>\n    <tr>\n      <th>2</th>\n      <td>2</td>\n      <td>The Batman</td>\n      <td>MattReeves</td>\n      <td>[RobertPattinson,  ZoëKravitz]</td>\n      <td>1</td>\n      <td>0</td>\n      <td>0</td>\n      <td>0</td>\n      <td>0</td>\n      <td>1</td>\n      <td>1</td>\n      <td>0</td>\n      <td>0</td>\n      <td>0</td>\n      <td>0</td>\n      <td>0</td>\n      <td>0</td>\n      <td>0</td>\n      <td>0</td>\n      <td>0</td>\n      <td>0</td>\n      <td>0</td>\n      <td>0</td>\n      <td>0</td>\n      <td>0</td>\n      <td>176</td>\n      <td>0</td>\n      <td>1</td>\n      <td>0</td>\n      <td>0</td>\n    </tr>\n    <tr>\n      <th>3</th>\n      <td>3</td>\n      <td>Jurassic Park</td>\n      <td>StevenSpielberg</td>\n      <td>[SamNeill,  LauraDern]</td>\n      <td>1</td>\n      <td>1</td>\n      <td>0</td>\n      <td>0</td>\n      <td>0</td>\n      <td>0</td>\n      <td>0</td>\n      <td>0</td>\n      <td>0</td>\n      <td>0</td>\n      <td>0</td>\n      <td>0</td>\n      <td>0</td>\n      <td>0</td>\n      <td>0</td>\n      <td>0</td>\n      <td>1</td>\n      <td>0</td>\n      <td>0</td>\n      <td>0</td>\n      <td>0</td>\n      <td>127</td>\n      <td>0</td>\n      <td>1</td>\n      <td>0</td>\n      <td>0</td>\n    </tr>\n    <tr>\n      <th>4</th>\n      <td>4</td>\n      <td>The Godfather</td>\n      <td>FrancisFordCoppola</td>\n      <td>[MarlonBrando,  AlPacino]</td>\n      <td>0</td>\n      <td>0</td>\n      <td>0</td>\n      <td>0</td>\n      <td>0</td>\n      <td>1</td>\n      <td>1</td>\n      <td>0</td>\n      <td>0</td>\n      <td>0</td>\n      <td>0</td>\n      <td>0</td>\n      <td>0</td>\n      <td>0</td>\n      <td>0</td>\n      <td>0</td>\n      <td>0</td>\n      <td>0</td>\n      <td>0</td>\n      <td>0</td>\n      <td>0</td>\n      <td>175</td>\n      <td>0</td>\n      <td>0</td>\n      <td>1</td>\n      <td>0</td>\n    </tr>\n  </tbody>\n</table>\n</div>"
          },
          "metadata": {}
        }
      ],
      "execution_count": 424
    },
    {
      "cell_type": "code",
      "source": "#ReleaseYear Inspection\n#df2['ReleaseYear'].value_counts(dropna=False).head(10)\n#df2['ReleaseYear'].unique()\n#The movies are going to be split into eras\n#Each era is going to have a similar amount of movies (circa 200)",
      "metadata": {
        "trusted": true
      },
      "outputs": [],
      "execution_count": null
    },
    {
      "cell_type": "code",
      "source": "len(df2[df2['ReleaseYear']<=1950]) #Count movie released until 1950",
      "metadata": {
        "trusted": true
      },
      "outputs": [
        {
          "execution_count": 425,
          "output_type": "execute_result",
          "data": {
            "text/plain": "81"
          },
          "metadata": {}
        }
      ],
      "execution_count": 425
    },
    {
      "cell_type": "code",
      "source": "len(df[(df['ReleaseYear']>2000) & (df['ReleaseYear']<=2010)]) #Count movie released after 2000 until 2010",
      "metadata": {
        "trusted": true
      },
      "outputs": [],
      "execution_count": null
    },
    {
      "cell_type": "code",
      "source": "#Era 1:1960 or earlier\ndf2['Till60']=(df2['ReleaseYear']<=1960).astype(int) \ndf2['Till60'].head(5)",
      "metadata": {
        "trusted": true
      },
      "outputs": [
        {
          "execution_count": 427,
          "output_type": "execute_result",
          "data": {
            "text/plain": "0    0\n1    0\n2    0\n3    0\n4    0\nName: Till60s, dtype: int32"
          },
          "metadata": {}
        }
      ],
      "execution_count": 427
    },
    {
      "cell_type": "code",
      "source": "#Era 2:After 1960 till 1980 \ndf2['Till80']=((df2['ReleaseYear']>1960) & (df2['ReleaseYear']<=1980)).astype(int)",
      "metadata": {
        "trusted": true
      },
      "outputs": [],
      "execution_count": 428
    },
    {
      "cell_type": "code",
      "source": "#Era 3:After 1980 till 2000 \ndf2['Till00']=((df2['ReleaseYear']>1980) & (df2['ReleaseYear']<=2000)).astype(int)",
      "metadata": {
        "trusted": true
      },
      "outputs": [],
      "execution_count": 429
    },
    {
      "cell_type": "code",
      "source": "#Era 4:After 2000 till 2010 \ndf2['Till10']=((df2['ReleaseYear']>2000) & (df2['ReleaseYear']<=2010)).astype(int)",
      "metadata": {
        "trusted": true
      },
      "outputs": [],
      "execution_count": 171
    },
    {
      "cell_type": "code",
      "source": "#Era 5:After 2010 till today\ndf2['Till20']=(df2['ReleaseYear']>2010).astype(int)",
      "metadata": {
        "trusted": true
      },
      "outputs": [],
      "execution_count": 430
    },
    {
      "cell_type": "code",
      "source": "ReleaseYears=df2.loc[:,'Till60':'Till20']\nReleaseYears.head(5)",
      "metadata": {
        "trusted": true
      },
      "outputs": [
        {
          "execution_count": 431,
          "output_type": "execute_result",
          "data": {
            "text/plain": "   Till60  Till60s  Till80  Till00  Till20\n0       0        0       0       0       1\n1       0        0       0       0       1\n2       0        0       0       0       1\n3       0        0       0       1       0\n4       0        0       1       0       0",
            "text/html": "<div>\n<style scoped>\n    .dataframe tbody tr th:only-of-type {\n        vertical-align: middle;\n    }\n\n    .dataframe tbody tr th {\n        vertical-align: top;\n    }\n\n    .dataframe thead th {\n        text-align: right;\n    }\n</style>\n<table border=\"1\" class=\"dataframe\">\n  <thead>\n    <tr style=\"text-align: right;\">\n      <th></th>\n      <th>Till60</th>\n      <th>Till60s</th>\n      <th>Till80</th>\n      <th>Till00</th>\n      <th>Till20</th>\n    </tr>\n  </thead>\n  <tbody>\n    <tr>\n      <th>0</th>\n      <td>0</td>\n      <td>0</td>\n      <td>0</td>\n      <td>0</td>\n      <td>1</td>\n    </tr>\n    <tr>\n      <th>1</th>\n      <td>0</td>\n      <td>0</td>\n      <td>0</td>\n      <td>0</td>\n      <td>1</td>\n    </tr>\n    <tr>\n      <th>2</th>\n      <td>0</td>\n      <td>0</td>\n      <td>0</td>\n      <td>0</td>\n      <td>1</td>\n    </tr>\n    <tr>\n      <th>3</th>\n      <td>0</td>\n      <td>0</td>\n      <td>0</td>\n      <td>1</td>\n      <td>0</td>\n    </tr>\n    <tr>\n      <th>4</th>\n      <td>0</td>\n      <td>0</td>\n      <td>1</td>\n      <td>0</td>\n      <td>0</td>\n    </tr>\n  </tbody>\n</table>\n</div>"
          },
          "metadata": {}
        }
      ],
      "execution_count": 431
    },
    {
      "cell_type": "code",
      "source": "df2.head(5)",
      "metadata": {
        "trusted": true
      },
      "outputs": [
        {
          "execution_count": 173,
          "output_type": "execute_result",
          "data": {
            "text/plain": "                               Title            Director  \\\n0                  Top Gun: Maverick      JosephKosinski   \n1  Everything Everywhere All at Once            DanKwan,   \n2                         The Batman          MattReeves   \n3                      Jurassic Park     StevenSpielberg   \n4                      The Godfather  FrancisFordCoppola   \n\n                                               Stars  IMDb-Rating  \\\n0  TomCruise, JenniferConnelly, MilesTeller, ValK...          8.6   \n1  , MichelleYeoh, StephanieHsu, KeHuyQuan, James...          8.3   \n2  RobertPattinson, ZoëKravitz, JeffreyWright, Co...          7.9   \n3  SamNeill, LauraDern, JeffGoldblum, RichardAtte...          8.2   \n4     MarlonBrando, AlPacino, JamesCaan, DianeKeaton          9.2   \n\n                  Category Duration Censor-board-rating  ReleaseYear  Till60  \\\n0             Action,Drama      130                  UA         2022       0   \n1  Action,Adventure,Comedy      139                   R         2022       0   \n2       Action,Crime,Drama      176                  UA         2022       0   \n3  Action,Adventure,Sci-Fi      127                  UA         1993       0   \n4              Crime,Drama      175                   A         1972       0   \n\n   Till80s  Till00s  Till10s  Till20s  \n0        0        0        0        1  \n1        0        0        0        1  \n2        0        0        0        1  \n3        0        1        0        0  \n4        1        0        0        0  ",
            "text/html": "<div>\n<style scoped>\n    .dataframe tbody tr th:only-of-type {\n        vertical-align: middle;\n    }\n\n    .dataframe tbody tr th {\n        vertical-align: top;\n    }\n\n    .dataframe thead th {\n        text-align: right;\n    }\n</style>\n<table border=\"1\" class=\"dataframe\">\n  <thead>\n    <tr style=\"text-align: right;\">\n      <th></th>\n      <th>Title</th>\n      <th>Director</th>\n      <th>Stars</th>\n      <th>IMDb-Rating</th>\n      <th>Category</th>\n      <th>Duration</th>\n      <th>Censor-board-rating</th>\n      <th>ReleaseYear</th>\n      <th>Till60</th>\n      <th>Till80s</th>\n      <th>Till00s</th>\n      <th>Till10s</th>\n      <th>Till20s</th>\n    </tr>\n  </thead>\n  <tbody>\n    <tr>\n      <th>0</th>\n      <td>Top Gun: Maverick</td>\n      <td>JosephKosinski</td>\n      <td>TomCruise, JenniferConnelly, MilesTeller, ValK...</td>\n      <td>8.6</td>\n      <td>Action,Drama</td>\n      <td>130</td>\n      <td>UA</td>\n      <td>2022</td>\n      <td>0</td>\n      <td>0</td>\n      <td>0</td>\n      <td>0</td>\n      <td>1</td>\n    </tr>\n    <tr>\n      <th>1</th>\n      <td>Everything Everywhere All at Once</td>\n      <td>DanKwan,</td>\n      <td>, MichelleYeoh, StephanieHsu, KeHuyQuan, James...</td>\n      <td>8.3</td>\n      <td>Action,Adventure,Comedy</td>\n      <td>139</td>\n      <td>R</td>\n      <td>2022</td>\n      <td>0</td>\n      <td>0</td>\n      <td>0</td>\n      <td>0</td>\n      <td>1</td>\n    </tr>\n    <tr>\n      <th>2</th>\n      <td>The Batman</td>\n      <td>MattReeves</td>\n      <td>RobertPattinson, ZoëKravitz, JeffreyWright, Co...</td>\n      <td>7.9</td>\n      <td>Action,Crime,Drama</td>\n      <td>176</td>\n      <td>UA</td>\n      <td>2022</td>\n      <td>0</td>\n      <td>0</td>\n      <td>0</td>\n      <td>0</td>\n      <td>1</td>\n    </tr>\n    <tr>\n      <th>3</th>\n      <td>Jurassic Park</td>\n      <td>StevenSpielberg</td>\n      <td>SamNeill, LauraDern, JeffGoldblum, RichardAtte...</td>\n      <td>8.2</td>\n      <td>Action,Adventure,Sci-Fi</td>\n      <td>127</td>\n      <td>UA</td>\n      <td>1993</td>\n      <td>0</td>\n      <td>0</td>\n      <td>1</td>\n      <td>0</td>\n      <td>0</td>\n    </tr>\n    <tr>\n      <th>4</th>\n      <td>The Godfather</td>\n      <td>FrancisFordCoppola</td>\n      <td>MarlonBrando, AlPacino, JamesCaan, DianeKeaton</td>\n      <td>9.2</td>\n      <td>Crime,Drama</td>\n      <td>175</td>\n      <td>A</td>\n      <td>1972</td>\n      <td>0</td>\n      <td>1</td>\n      <td>0</td>\n      <td>0</td>\n      <td>0</td>\n    </tr>\n  </tbody>\n</table>\n</div>"
          },
          "metadata": {}
        }
      ],
      "execution_count": 173
    },
    {
      "cell_type": "code",
      "source": "#Final Table with Ratings Included\nProcessed_Dataframe=pd.concat([Processed_Dataframe,ReleaseYears,df2['IMDb-Rating']],axis=1)\nProcessed_Dataframe.head(5)",
      "metadata": {
        "trusted": true
      },
      "outputs": [
        {
          "execution_count": 432,
          "output_type": "execute_result",
          "data": {
            "text/plain": "   Movie_ID                              Title            Director  \\\n0         0                  Top Gun: Maverick      JosephKosinski   \n1         1  Everything Everywhere All at Once            DanKwan,   \n2         2                         The Batman          MattReeves   \n3         3                      Jurassic Park     StevenSpielberg   \n4         4                      The Godfather  FrancisFordCoppola   \n\n                            Stars  Action  Adventure  Animation  Biography  \\\n0  [TomCruise,  JenniferConnelly]       1          0          0          0   \n1  [ MichelleYeoh,  StephanieHsu]       1          1          0          0   \n2  [RobertPattinson,  ZoëKravitz]       1          0          0          0   \n3          [SamNeill,  LauraDern]       1          1          0          0   \n4       [MarlonBrando,  AlPacino]       0          0          0          0   \n\n   Comedy  Crime  Drama  Family  Fantasy  Film-Noir  History  Horror  Music  \\\n0       0      0      1       0        0          0        0       0      0   \n1       1      0      0       0        0          0        0       0      0   \n2       0      1      1       0        0          0        0       0      0   \n3       0      0      0       0        0          0        0       0      0   \n4       0      1      1       0        0          0        0       0      0   \n\n   Musical  Mystery  Romance  Sci-Fi  Sport  Thriller  War  Western Duration  \\\n0        0        0        0       0      0         0    0        0      130   \n1        0        0        0       0      0         0    0        0      139   \n2        0        0        0       0      0         0    0        0      176   \n3        0        0        0       1      0         0    0        0      127   \n4        0        0        0       0      0         0    0        0      175   \n\n   Everyone  PG/13+  Over15  NO_RATING  Till60  Till60s  Till80  Till00  \\\n0         0       1       0          0       0        0       0       0   \n1         0       0       1          0       0        0       0       0   \n2         0       1       0          0       0        0       0       0   \n3         0       1       0          0       0        0       0       1   \n4         0       0       1          0       0        0       1       0   \n\n   Till20  \n0       1  \n1       1  \n2       1  \n3       0  \n4       0  ",
            "text/html": "<div>\n<style scoped>\n    .dataframe tbody tr th:only-of-type {\n        vertical-align: middle;\n    }\n\n    .dataframe tbody tr th {\n        vertical-align: top;\n    }\n\n    .dataframe thead th {\n        text-align: right;\n    }\n</style>\n<table border=\"1\" class=\"dataframe\">\n  <thead>\n    <tr style=\"text-align: right;\">\n      <th></th>\n      <th>Movie_ID</th>\n      <th>Title</th>\n      <th>Director</th>\n      <th>Stars</th>\n      <th>Action</th>\n      <th>Adventure</th>\n      <th>Animation</th>\n      <th>Biography</th>\n      <th>Comedy</th>\n      <th>Crime</th>\n      <th>Drama</th>\n      <th>Family</th>\n      <th>Fantasy</th>\n      <th>Film-Noir</th>\n      <th>History</th>\n      <th>Horror</th>\n      <th>Music</th>\n      <th>Musical</th>\n      <th>Mystery</th>\n      <th>Romance</th>\n      <th>Sci-Fi</th>\n      <th>Sport</th>\n      <th>Thriller</th>\n      <th>War</th>\n      <th>Western</th>\n      <th>Duration</th>\n      <th>Everyone</th>\n      <th>PG/13+</th>\n      <th>Over15</th>\n      <th>NO_RATING</th>\n      <th>Till60</th>\n      <th>Till60s</th>\n      <th>Till80</th>\n      <th>Till00</th>\n      <th>Till20</th>\n    </tr>\n  </thead>\n  <tbody>\n    <tr>\n      <th>0</th>\n      <td>0</td>\n      <td>Top Gun: Maverick</td>\n      <td>JosephKosinski</td>\n      <td>[TomCruise,  JenniferConnelly]</td>\n      <td>1</td>\n      <td>0</td>\n      <td>0</td>\n      <td>0</td>\n      <td>0</td>\n      <td>0</td>\n      <td>1</td>\n      <td>0</td>\n      <td>0</td>\n      <td>0</td>\n      <td>0</td>\n      <td>0</td>\n      <td>0</td>\n      <td>0</td>\n      <td>0</td>\n      <td>0</td>\n      <td>0</td>\n      <td>0</td>\n      <td>0</td>\n      <td>0</td>\n      <td>0</td>\n      <td>130</td>\n      <td>0</td>\n      <td>1</td>\n      <td>0</td>\n      <td>0</td>\n      <td>0</td>\n      <td>0</td>\n      <td>0</td>\n      <td>0</td>\n      <td>1</td>\n    </tr>\n    <tr>\n      <th>1</th>\n      <td>1</td>\n      <td>Everything Everywhere All at Once</td>\n      <td>DanKwan,</td>\n      <td>[ MichelleYeoh,  StephanieHsu]</td>\n      <td>1</td>\n      <td>1</td>\n      <td>0</td>\n      <td>0</td>\n      <td>1</td>\n      <td>0</td>\n      <td>0</td>\n      <td>0</td>\n      <td>0</td>\n      <td>0</td>\n      <td>0</td>\n      <td>0</td>\n      <td>0</td>\n      <td>0</td>\n      <td>0</td>\n      <td>0</td>\n      <td>0</td>\n      <td>0</td>\n      <td>0</td>\n      <td>0</td>\n      <td>0</td>\n      <td>139</td>\n      <td>0</td>\n      <td>0</td>\n      <td>1</td>\n      <td>0</td>\n      <td>0</td>\n      <td>0</td>\n      <td>0</td>\n      <td>0</td>\n      <td>1</td>\n    </tr>\n    <tr>\n      <th>2</th>\n      <td>2</td>\n      <td>The Batman</td>\n      <td>MattReeves</td>\n      <td>[RobertPattinson,  ZoëKravitz]</td>\n      <td>1</td>\n      <td>0</td>\n      <td>0</td>\n      <td>0</td>\n      <td>0</td>\n      <td>1</td>\n      <td>1</td>\n      <td>0</td>\n      <td>0</td>\n      <td>0</td>\n      <td>0</td>\n      <td>0</td>\n      <td>0</td>\n      <td>0</td>\n      <td>0</td>\n      <td>0</td>\n      <td>0</td>\n      <td>0</td>\n      <td>0</td>\n      <td>0</td>\n      <td>0</td>\n      <td>176</td>\n      <td>0</td>\n      <td>1</td>\n      <td>0</td>\n      <td>0</td>\n      <td>0</td>\n      <td>0</td>\n      <td>0</td>\n      <td>0</td>\n      <td>1</td>\n    </tr>\n    <tr>\n      <th>3</th>\n      <td>3</td>\n      <td>Jurassic Park</td>\n      <td>StevenSpielberg</td>\n      <td>[SamNeill,  LauraDern]</td>\n      <td>1</td>\n      <td>1</td>\n      <td>0</td>\n      <td>0</td>\n      <td>0</td>\n      <td>0</td>\n      <td>0</td>\n      <td>0</td>\n      <td>0</td>\n      <td>0</td>\n      <td>0</td>\n      <td>0</td>\n      <td>0</td>\n      <td>0</td>\n      <td>0</td>\n      <td>0</td>\n      <td>1</td>\n      <td>0</td>\n      <td>0</td>\n      <td>0</td>\n      <td>0</td>\n      <td>127</td>\n      <td>0</td>\n      <td>1</td>\n      <td>0</td>\n      <td>0</td>\n      <td>0</td>\n      <td>0</td>\n      <td>0</td>\n      <td>1</td>\n      <td>0</td>\n    </tr>\n    <tr>\n      <th>4</th>\n      <td>4</td>\n      <td>The Godfather</td>\n      <td>FrancisFordCoppola</td>\n      <td>[MarlonBrando,  AlPacino]</td>\n      <td>0</td>\n      <td>0</td>\n      <td>0</td>\n      <td>0</td>\n      <td>0</td>\n      <td>1</td>\n      <td>1</td>\n      <td>0</td>\n      <td>0</td>\n      <td>0</td>\n      <td>0</td>\n      <td>0</td>\n      <td>0</td>\n      <td>0</td>\n      <td>0</td>\n      <td>0</td>\n      <td>0</td>\n      <td>0</td>\n      <td>0</td>\n      <td>0</td>\n      <td>0</td>\n      <td>175</td>\n      <td>0</td>\n      <td>0</td>\n      <td>1</td>\n      <td>0</td>\n      <td>0</td>\n      <td>0</td>\n      <td>1</td>\n      <td>0</td>\n      <td>0</td>\n    </tr>\n  </tbody>\n</table>\n</div>"
          },
          "metadata": {}
        }
      ],
      "execution_count": 432
    },
    {
      "cell_type": "code",
      "source": "#Non-encoded Data (Duration and Rating not included)\nTitleTable=dataframe.iloc[:,0:4]\nTitleTable.head(5)",
      "metadata": {
        "trusted": true
      },
      "outputs": [
        {
          "execution_count": 242,
          "output_type": "execute_result",
          "data": {
            "text/plain": "   Movie_ID                              Title            Director  \\\n0         1                  Top Gun: Maverick      JosephKosinski   \n1         2  Everything Everywhere All at Once            DanKwan,   \n2         3                         The Batman          MattReeves   \n3         4                      Jurassic Park     StevenSpielberg   \n4         5                      The Godfather  FrancisFordCoppola   \n\n                            Stars  \n0  [TomCruise,  JenniferConnelly]  \n1  [ MichelleYeoh,  StephanieHsu]  \n2  [RobertPattinson,  ZoëKravitz]  \n3          [SamNeill,  LauraDern]  \n4       [MarlonBrando,  AlPacino]  ",
            "text/html": "<div>\n<style scoped>\n    .dataframe tbody tr th:only-of-type {\n        vertical-align: middle;\n    }\n\n    .dataframe tbody tr th {\n        vertical-align: top;\n    }\n\n    .dataframe thead th {\n        text-align: right;\n    }\n</style>\n<table border=\"1\" class=\"dataframe\">\n  <thead>\n    <tr style=\"text-align: right;\">\n      <th></th>\n      <th>Movie_ID</th>\n      <th>Title</th>\n      <th>Director</th>\n      <th>Stars</th>\n    </tr>\n  </thead>\n  <tbody>\n    <tr>\n      <th>0</th>\n      <td>1</td>\n      <td>Top Gun: Maverick</td>\n      <td>JosephKosinski</td>\n      <td>[TomCruise,  JenniferConnelly]</td>\n    </tr>\n    <tr>\n      <th>1</th>\n      <td>2</td>\n      <td>Everything Everywhere All at Once</td>\n      <td>DanKwan,</td>\n      <td>[ MichelleYeoh,  StephanieHsu]</td>\n    </tr>\n    <tr>\n      <th>2</th>\n      <td>3</td>\n      <td>The Batman</td>\n      <td>MattReeves</td>\n      <td>[RobertPattinson,  ZoëKravitz]</td>\n    </tr>\n    <tr>\n      <th>3</th>\n      <td>4</td>\n      <td>Jurassic Park</td>\n      <td>StevenSpielberg</td>\n      <td>[SamNeill,  LauraDern]</td>\n    </tr>\n    <tr>\n      <th>4</th>\n      <td>5</td>\n      <td>The Godfather</td>\n      <td>FrancisFordCoppola</td>\n      <td>[MarlonBrando,  AlPacino]</td>\n    </tr>\n  </tbody>\n</table>\n</div>"
          },
          "metadata": {}
        }
      ],
      "execution_count": 242
    },
    {
      "cell_type": "code",
      "source": "TitleTable=pd.concat([TitleTable,df2['IMDb-Rating']],axis=1) #Non-encoded Data (Duration not included)\nTitleTable.head(5)",
      "metadata": {
        "trusted": true
      },
      "outputs": [
        {
          "execution_count": 289,
          "output_type": "execute_result",
          "data": {
            "text/plain": "   Movie_ID                              Title            Director  \\\n0         1                  Top Gun: Maverick      JosephKosinski   \n1         2  Everything Everywhere All at Once            DanKwan,   \n2         3                         The Batman          MattReeves   \n3         4                      Jurassic Park     StevenSpielberg   \n4         5                      The Godfather  FrancisFordCoppola   \n\n                            Stars  IMDb-Rating  \n0  [TomCruise,  JenniferConnelly]          8.6  \n1  [ MichelleYeoh,  StephanieHsu]          8.3  \n2  [RobertPattinson,  ZoëKravitz]          7.9  \n3          [SamNeill,  LauraDern]          8.2  \n4       [MarlonBrando,  AlPacino]          9.2  ",
            "text/html": "<div>\n<style scoped>\n    .dataframe tbody tr th:only-of-type {\n        vertical-align: middle;\n    }\n\n    .dataframe tbody tr th {\n        vertical-align: top;\n    }\n\n    .dataframe thead th {\n        text-align: right;\n    }\n</style>\n<table border=\"1\" class=\"dataframe\">\n  <thead>\n    <tr style=\"text-align: right;\">\n      <th></th>\n      <th>Movie_ID</th>\n      <th>Title</th>\n      <th>Director</th>\n      <th>Stars</th>\n      <th>IMDb-Rating</th>\n    </tr>\n  </thead>\n  <tbody>\n    <tr>\n      <th>0</th>\n      <td>1</td>\n      <td>Top Gun: Maverick</td>\n      <td>JosephKosinski</td>\n      <td>[TomCruise,  JenniferConnelly]</td>\n      <td>8.6</td>\n    </tr>\n    <tr>\n      <th>1</th>\n      <td>2</td>\n      <td>Everything Everywhere All at Once</td>\n      <td>DanKwan,</td>\n      <td>[ MichelleYeoh,  StephanieHsu]</td>\n      <td>8.3</td>\n    </tr>\n    <tr>\n      <th>2</th>\n      <td>3</td>\n      <td>The Batman</td>\n      <td>MattReeves</td>\n      <td>[RobertPattinson,  ZoëKravitz]</td>\n      <td>7.9</td>\n    </tr>\n    <tr>\n      <th>3</th>\n      <td>4</td>\n      <td>Jurassic Park</td>\n      <td>StevenSpielberg</td>\n      <td>[SamNeill,  LauraDern]</td>\n      <td>8.2</td>\n    </tr>\n    <tr>\n      <th>4</th>\n      <td>5</td>\n      <td>The Godfather</td>\n      <td>FrancisFordCoppola</td>\n      <td>[MarlonBrando,  AlPacino]</td>\n      <td>9.2</td>\n    </tr>\n  </tbody>\n</table>\n</div>"
          },
          "metadata": {}
        }
      ],
      "execution_count": 289
    },
    {
      "cell_type": "code",
      "source": "#Encoded Data that will be used to make recommendations to users\nEncoded_Data=dataframe.iloc[:,4:]\nVectors=Vectors.drop(['Duration'],axis=1)\nVectors.head(5)",
      "metadata": {
        "trusted": true
      },
      "outputs": [
        {
          "execution_count": 243,
          "output_type": "execute_result",
          "data": {
            "text/plain": "   Action  Adventure  Animation  Biography  Comedy  Crime  Drama  Family  \\\n0       1          0          0          0       0      0      1       0   \n1       1          1          0          0       1      0      0       0   \n2       1          0          0          0       0      1      1       0   \n3       1          1          0          0       0      0      0       0   \n4       0          0          0          0       0      1      1       0   \n\n   Fantasy  Film-Noir  History  Horror  Music  Musical  Mystery  Romance  \\\n0        0          0        0       0      0        0        0        0   \n1        0          0        0       0      0        0        0        0   \n2        0          0        0       0      0        0        0        0   \n3        0          0        0       0      0        0        0        0   \n4        0          0        0       0      0        0        0        0   \n\n   Sci-Fi  Sport  Thriller  War  Western  Everyone  PG/13+  Over15  NO_RATING  \\\n0       0      0         0    0        0         0       1       0          0   \n1       0      0         0    0        0         0       0       1          0   \n2       0      0         0    0        0         0       1       0          0   \n3       1      0         0    0        0         0       1       0          0   \n4       0      0         0    0        0         0       0       1          0   \n\n   Till60  Till80s  Till00s  Till10s  Till20s  \n0       0        0        0        0        1  \n1       0        0        0        0        1  \n2       0        0        0        0        1  \n3       0        0        1        0        0  \n4       0        1        0        0        0  ",
            "text/html": "<div>\n<style scoped>\n    .dataframe tbody tr th:only-of-type {\n        vertical-align: middle;\n    }\n\n    .dataframe tbody tr th {\n        vertical-align: top;\n    }\n\n    .dataframe thead th {\n        text-align: right;\n    }\n</style>\n<table border=\"1\" class=\"dataframe\">\n  <thead>\n    <tr style=\"text-align: right;\">\n      <th></th>\n      <th>Action</th>\n      <th>Adventure</th>\n      <th>Animation</th>\n      <th>Biography</th>\n      <th>Comedy</th>\n      <th>Crime</th>\n      <th>Drama</th>\n      <th>Family</th>\n      <th>Fantasy</th>\n      <th>Film-Noir</th>\n      <th>History</th>\n      <th>Horror</th>\n      <th>Music</th>\n      <th>Musical</th>\n      <th>Mystery</th>\n      <th>Romance</th>\n      <th>Sci-Fi</th>\n      <th>Sport</th>\n      <th>Thriller</th>\n      <th>War</th>\n      <th>Western</th>\n      <th>Everyone</th>\n      <th>PG/13+</th>\n      <th>Over15</th>\n      <th>NO_RATING</th>\n      <th>Till60</th>\n      <th>Till80s</th>\n      <th>Till00s</th>\n      <th>Till10s</th>\n      <th>Till20s</th>\n    </tr>\n  </thead>\n  <tbody>\n    <tr>\n      <th>0</th>\n      <td>1</td>\n      <td>0</td>\n      <td>0</td>\n      <td>0</td>\n      <td>0</td>\n      <td>0</td>\n      <td>1</td>\n      <td>0</td>\n      <td>0</td>\n      <td>0</td>\n      <td>0</td>\n      <td>0</td>\n      <td>0</td>\n      <td>0</td>\n      <td>0</td>\n      <td>0</td>\n      <td>0</td>\n      <td>0</td>\n      <td>0</td>\n      <td>0</td>\n      <td>0</td>\n      <td>0</td>\n      <td>1</td>\n      <td>0</td>\n      <td>0</td>\n      <td>0</td>\n      <td>0</td>\n      <td>0</td>\n      <td>0</td>\n      <td>1</td>\n    </tr>\n    <tr>\n      <th>1</th>\n      <td>1</td>\n      <td>1</td>\n      <td>0</td>\n      <td>0</td>\n      <td>1</td>\n      <td>0</td>\n      <td>0</td>\n      <td>0</td>\n      <td>0</td>\n      <td>0</td>\n      <td>0</td>\n      <td>0</td>\n      <td>0</td>\n      <td>0</td>\n      <td>0</td>\n      <td>0</td>\n      <td>0</td>\n      <td>0</td>\n      <td>0</td>\n      <td>0</td>\n      <td>0</td>\n      <td>0</td>\n      <td>0</td>\n      <td>1</td>\n      <td>0</td>\n      <td>0</td>\n      <td>0</td>\n      <td>0</td>\n      <td>0</td>\n      <td>1</td>\n    </tr>\n    <tr>\n      <th>2</th>\n      <td>1</td>\n      <td>0</td>\n      <td>0</td>\n      <td>0</td>\n      <td>0</td>\n      <td>1</td>\n      <td>1</td>\n      <td>0</td>\n      <td>0</td>\n      <td>0</td>\n      <td>0</td>\n      <td>0</td>\n      <td>0</td>\n      <td>0</td>\n      <td>0</td>\n      <td>0</td>\n      <td>0</td>\n      <td>0</td>\n      <td>0</td>\n      <td>0</td>\n      <td>0</td>\n      <td>0</td>\n      <td>1</td>\n      <td>0</td>\n      <td>0</td>\n      <td>0</td>\n      <td>0</td>\n      <td>0</td>\n      <td>0</td>\n      <td>1</td>\n    </tr>\n    <tr>\n      <th>3</th>\n      <td>1</td>\n      <td>1</td>\n      <td>0</td>\n      <td>0</td>\n      <td>0</td>\n      <td>0</td>\n      <td>0</td>\n      <td>0</td>\n      <td>0</td>\n      <td>0</td>\n      <td>0</td>\n      <td>0</td>\n      <td>0</td>\n      <td>0</td>\n      <td>0</td>\n      <td>0</td>\n      <td>1</td>\n      <td>0</td>\n      <td>0</td>\n      <td>0</td>\n      <td>0</td>\n      <td>0</td>\n      <td>1</td>\n      <td>0</td>\n      <td>0</td>\n      <td>0</td>\n      <td>0</td>\n      <td>1</td>\n      <td>0</td>\n      <td>0</td>\n    </tr>\n    <tr>\n      <th>4</th>\n      <td>0</td>\n      <td>0</td>\n      <td>0</td>\n      <td>0</td>\n      <td>0</td>\n      <td>1</td>\n      <td>1</td>\n      <td>0</td>\n      <td>0</td>\n      <td>0</td>\n      <td>0</td>\n      <td>0</td>\n      <td>0</td>\n      <td>0</td>\n      <td>0</td>\n      <td>0</td>\n      <td>0</td>\n      <td>0</td>\n      <td>0</td>\n      <td>0</td>\n      <td>0</td>\n      <td>0</td>\n      <td>0</td>\n      <td>1</td>\n      <td>0</td>\n      <td>0</td>\n      <td>1</td>\n      <td>0</td>\n      <td>0</td>\n      <td>0</td>\n    </tr>\n  </tbody>\n</table>\n</div>"
          },
          "metadata": {}
        }
      ],
      "execution_count": 243
    },
    {
      "cell_type": "code",
      "source": "Vectors=pd.concat([Vectors,df2['IMDb-Rating']],axis=1)",
      "metadata": {
        "trusted": true
      },
      "outputs": [],
      "execution_count": 310
    },
    {
      "cell_type": "code",
      "source": "### END OF: Data Inspection and Preprocessing ###",
      "metadata": {
        "trusted": true
      },
      "outputs": [],
      "execution_count": null
    },
    {
      "cell_type": "code",
      "source": "### RECOMMENDATION SYSTEMS ###",
      "metadata": {
        "trusted": true
      },
      "outputs": [],
      "execution_count": null
    },
    {
      "cell_type": "code",
      "source": "## RECOMMENDATION METHOD 1: MOVIE SIMILARITY ##",
      "metadata": {
        "trusted": true
      },
      "outputs": [],
      "execution_count": null
    },
    {
      "cell_type": "code",
      "source": "MovieID=random.randint(1,1000)",
      "metadata": {
        "trusted": true
      },
      "outputs": [],
      "execution_count": 245
    },
    {
      "cell_type": "code",
      "source": "MovieID",
      "metadata": {
        "trusted": true
      },
      "outputs": [
        {
          "execution_count": 246,
          "output_type": "execute_result",
          "data": {
            "text/plain": "61"
          },
          "metadata": {}
        }
      ],
      "execution_count": 246
    },
    {
      "cell_type": "code",
      "source": "from sklearn.metrics.pairwise import cosine_similarity",
      "metadata": {
        "trusted": true
      },
      "outputs": [],
      "execution_count": 247
    },
    {
      "cell_type": "code",
      "source": "similarities=cosine_similarity(Vectors)\nmatrix=similarities[MovieID-1,:]",
      "metadata": {
        "trusted": true
      },
      "outputs": [],
      "execution_count": 253
    },
    {
      "cell_type": "code",
      "source": "# Finding the index of the second highest value in each row\nindices = np.argsort(matrix, axis=0)\n\n# Getting the index of the second highest value\nsecond_highest_indices = indices[-2] #check -1 to see that it is the same \n\nprint(\"Indices of the second highest values in each row:\")\nprint(second_highest_indices)",
      "metadata": {
        "trusted": true
      },
      "outputs": [
        {
          "name": "stdout",
          "text": "Indices of the second highest values in each row:\n76\n",
          "output_type": "stream"
        }
      ],
      "execution_count": 258
    },
    {
      "cell_type": "code",
      "source": "MostSimilarMovieID=second_highest_indices+1\nMostSimilarMovieID",
      "metadata": {
        "trusted": true
      },
      "outputs": [
        {
          "execution_count": 267,
          "output_type": "execute_result",
          "data": {
            "text/plain": "77"
          },
          "metadata": {}
        }
      ],
      "execution_count": 267
    },
    {
      "cell_type": "code",
      "source": "TitleTable.iloc[60]",
      "metadata": {
        "trusted": true
      },
      "outputs": [
        {
          "execution_count": 269,
          "output_type": "execute_result",
          "data": {
            "text/plain": "Movie_ID                             61\nTitle       Zack Snyders Justice League\nDirector                     ZackSnyder\nStars        [HenryCavill,  BenAffleck]\nName: 60, dtype: object"
          },
          "metadata": {}
        }
      ],
      "execution_count": 269
    },
    {
      "cell_type": "code",
      "source": "TitleTable.iloc[MostSimilarMovieID-1]",
      "metadata": {
        "trusted": true
      },
      "outputs": [
        {
          "execution_count": 270,
          "output_type": "execute_result",
          "data": {
            "text/plain": "Movie_ID                              77\nTitle       Kingsman: The Secret Service\nDirector                   MatthewVaughn\nStars        [ColinFirth,  TaronEgerton]\nName: 76, dtype: object"
          },
          "metadata": {}
        }
      ],
      "execution_count": 270
    },
    {
      "cell_type": "code",
      "source": "df2.iloc[60]",
      "metadata": {
        "trusted": true
      },
      "outputs": [
        {
          "execution_count": 271,
          "output_type": "execute_result",
          "data": {
            "text/plain": "Title                                  Zack Snyders Justice League\nDirector                                                ZackSnyder\nStars                  HenryCavill, BenAffleck, GalGadot, AmyAdams\nIMDb-Rating                                                    8.0\nCategory                                  Action,Adventure,Fantasy\nDuration                                                       242\nCensor-board-rating                                             18\nReleaseYear                                                   2021\nTill60                                                           0\nTill80s                                                          0\nTill00s                                                          0\nTill10s                                                          0\nTill20s                                                          1\nName: 60, dtype: object"
          },
          "metadata": {}
        }
      ],
      "execution_count": 271
    },
    {
      "cell_type": "code",
      "source": "df2.iloc[76]",
      "metadata": {
        "trusted": true
      },
      "outputs": [
        {
          "execution_count": 272,
          "output_type": "execute_result",
          "data": {
            "text/plain": "Title                                       Kingsman: The Secret Service\nDirector                                                   MatthewVaughn\nStars                  ColinFirth, TaronEgerton, SamuelL.Jackson, Mic...\nIMDb-Rating                                                          7.7\nCategory                                         Action,Adventure,Comedy\nDuration                                                             129\nCensor-board-rating                                                    A\nReleaseYear                                                         2014\nTill60                                                                 0\nTill80s                                                                0\nTill00s                                                                0\nTill10s                                                                0\nTill20s                                                                1\nName: 76, dtype: object"
          },
          "metadata": {}
        }
      ],
      "execution_count": 272
    },
    {
      "cell_type": "code",
      "source": "#Function of similarity\n#3 points if genre is same, 1 if 1 element is same, 1 for era of movie same, 1 for Censor-board-rating --> Full is 5 star rating\nMovieID4=random.randint(1,1000)\nprint(MovieID4)\n#Vectors\ndef rate_movie(Vectors,MovieID4,TitleTable):\n    vec=Vectors.to_numpy()\n    past_movie=vec[MovieID4-1:MovieID4]\n    positions=[]\n    \n    for i in range(past_movie.shape[1]):\n        if(past_movie[0,i]==1):\n            positions.append(i)\n    #print(past_movie)    \n    print(positions)\n    categories=0\n    for j in positions:\n        if(j<21):\n            categories=categories+1\n    print(categories)\n    best_score=0\n    num_rows = vec.shape[0]\n    #print(num_rows)\n    best_rating=0\n    for row in range(num_rows):\n        score=0\n        count1s=0\n        count_extra=0\n        if row==MovieID4-1:\n            continue\n        else:\n            for index in positions: \n                if(index<21):\n                    if(past_movie[0][index]==vec[row][index]):\n                        count1s=count1s+1\n                elif(index>=21 and past_movie[0][index]==vec[row][index]):\n                    count_extra=count_extra+1\n        if(categories==1 and count1s==1):\n            score=3+count_extra\n        elif(categories>1 and count1s==categories-1):\n            score=2+count_extra\n        elif(categories>1 and count1s==categories):\n            score=3+count_extra\n        if score>best_score:\n            best_score=score\n            best_movie=row\n            best_rating=vec[row][-1]\n            print(\"Good\",best_score)\n        elif score==best_score and vec[row][-1]>best_rating:\n            best_score=score\n            best_movie=row\n            best_rating=vec[row][-1]\n            print(\"Best\",best_score)\n    return best_movie,best_score\n\nbest_movie,best_score=rate_movie(Vectors,MovieID4,TitleTable)\nprint(\"Best Movie is...\",best_movie)\nprint(\"With a cummulative score of \"+ str(best_score) + \"/5!\")\n\ndf2.iloc[MovieID4-1:MovieID4,:]",
      "metadata": {
        "trusted": true
      },
      "outputs": [
        {
          "name": "stdout",
          "text": "763\n[6, 8, 12, 23, 27]\n3\nBest 0\nBest 0\nBest 0\nGood 3\nBest 3\nGood 4\nGood 5\nBest Movie is... 600\nWith a cummulative score of 5/5!\n",
          "output_type": "stream"
        },
        {
          "execution_count": 347,
          "output_type": "execute_result",
          "data": {
            "text/plain": "                          Title             Director  \\\n762  La double vie de Véronique  KrzysztofKieslowski   \n\n                                                 Stars  IMDb-Rating  \\\n762  IrèneJacob, WladyslawKowalski, HalinaGryglasze...          7.7   \n\n                Category Duration Censor-board-rating  ReleaseYear  Till60  \\\n762  Drama,Fantasy,Music       98                   R         1991       0   \n\n     Till80s  Till00s  Till10s  Till20s  \n762        0        1        0        0  ",
            "text/html": "<div>\n<style scoped>\n    .dataframe tbody tr th:only-of-type {\n        vertical-align: middle;\n    }\n\n    .dataframe tbody tr th {\n        vertical-align: top;\n    }\n\n    .dataframe thead th {\n        text-align: right;\n    }\n</style>\n<table border=\"1\" class=\"dataframe\">\n  <thead>\n    <tr style=\"text-align: right;\">\n      <th></th>\n      <th>Title</th>\n      <th>Director</th>\n      <th>Stars</th>\n      <th>IMDb-Rating</th>\n      <th>Category</th>\n      <th>Duration</th>\n      <th>Censor-board-rating</th>\n      <th>ReleaseYear</th>\n      <th>Till60</th>\n      <th>Till80s</th>\n      <th>Till00s</th>\n      <th>Till10s</th>\n      <th>Till20s</th>\n    </tr>\n  </thead>\n  <tbody>\n    <tr>\n      <th>762</th>\n      <td>La double vie de Véronique</td>\n      <td>KrzysztofKieslowski</td>\n      <td>IrèneJacob, WladyslawKowalski, HalinaGryglasze...</td>\n      <td>7.7</td>\n      <td>Drama,Fantasy,Music</td>\n      <td>98</td>\n      <td>R</td>\n      <td>1991</td>\n      <td>0</td>\n      <td>0</td>\n      <td>1</td>\n      <td>0</td>\n      <td>0</td>\n    </tr>\n  </tbody>\n</table>\n</div>"
          },
          "metadata": {}
        }
      ],
      "execution_count": 347
    },
    {
      "cell_type": "code",
      "source": "df2.iloc[best_movie:best_movie+1,:]",
      "metadata": {
        "trusted": true
      },
      "outputs": [
        {
          "execution_count": 348,
          "output_type": "execute_result",
          "data": {
            "text/plain": "                    Title    Director  \\\n600  Pink Floyd: The Wall  AlanParker   \n\n                                                 Stars  IMDb-Rating  \\\n600  BobGeldof, ChristineHargreaves, JamesLaurenson...          8.0   \n\n                Category Duration Censor-board-rating  ReleaseYear  Till60  \\\n600  Drama,Fantasy,Music       95                   A         1982       0   \n\n     Till80s  Till00s  Till10s  Till20s  \n600        0        1        0        0  ",
            "text/html": "<div>\n<style scoped>\n    .dataframe tbody tr th:only-of-type {\n        vertical-align: middle;\n    }\n\n    .dataframe tbody tr th {\n        vertical-align: top;\n    }\n\n    .dataframe thead th {\n        text-align: right;\n    }\n</style>\n<table border=\"1\" class=\"dataframe\">\n  <thead>\n    <tr style=\"text-align: right;\">\n      <th></th>\n      <th>Title</th>\n      <th>Director</th>\n      <th>Stars</th>\n      <th>IMDb-Rating</th>\n      <th>Category</th>\n      <th>Duration</th>\n      <th>Censor-board-rating</th>\n      <th>ReleaseYear</th>\n      <th>Till60</th>\n      <th>Till80s</th>\n      <th>Till00s</th>\n      <th>Till10s</th>\n      <th>Till20s</th>\n    </tr>\n  </thead>\n  <tbody>\n    <tr>\n      <th>600</th>\n      <td>Pink Floyd: The Wall</td>\n      <td>AlanParker</td>\n      <td>BobGeldof, ChristineHargreaves, JamesLaurenson...</td>\n      <td>8.0</td>\n      <td>Drama,Fantasy,Music</td>\n      <td>95</td>\n      <td>A</td>\n      <td>1982</td>\n      <td>0</td>\n      <td>0</td>\n      <td>1</td>\n      <td>0</td>\n      <td>0</td>\n    </tr>\n  </tbody>\n</table>\n</div>"
          },
          "metadata": {}
        }
      ],
      "execution_count": 348
    },
    {
      "cell_type": "code",
      "source": "# ONLY BASED ON GENRE\n#MovieID2=1\nMovieID2=random.randint(1,1000)\nprint(MovieID2)\nsimilarities=cosine_similarity(Categories_Encoded)\nmatrix2=similarities[MovieID2-1,:]\n#print(matrix2)\n# Finding the index of the second highest value in each row\nindices2 = np.argsort(matrix2, axis=0)\nprint(indices2)\n# Getting the index of the second highest value\nsecond_highest_indices2 = indices2[-12:-1]\n\nremove_list=[MovieID2-1]    \nfiltered_list = [num for num in second_highest_indices2 if num not in remove_list]    \nprint(filtered_list)\n\nprint(\"Indices of the second highest values in each row:\")\nprint(filtered_list)\n",
      "metadata": {
        "trusted": true
      },
      "outputs": [
        {
          "name": "stdout",
          "text": "698\n[353 291 142 143 688 147 148 506 150 689 504 288 691 773 500 771 159 824\n 889 163 693 165 166 401 511 695 393 137 781 111 777 300 114 668 298 922\n 526 297 244 919 524 523 125 294 909 130 131 132 678 517 136 513 386 885\n 354 835 858 857 262 212 260 723 456 853 219 258 417 419 223 448 444 428\n 249 247 235 237 238 437 462 278 464 866 705 828 178 275 180 481 183 184\n 272 187 188 874 709 710 409 195 196 197 268 414 265 715 264 717 108 121\n 304 334 582 333 625 579 578 367  41 974 973  45 634 330  48 969 929 327\n 326  54 325  56  57  58 335 586  30  29   1   3 356   5   7 359 361  11\n 343  13 342 324  15  18 364 593 616 617 986 621 793  26 337  28 362  60\n 433 372  77 556 318 650 376  83 314 952 312 380  76  91 543  95 309 308\n  98 384 101 102 104 537 937  75 551 322 965  65  64  69  70  66  62 960\n 562 763 389 421 783 420 762 396 744 360 742 358 741 398 385 430 355 432\n 747 404 794 395 755 790 410 753 375 758 787 792 412 392 374 770 378 373\n 785 369 391 776 784 415 759 751 788 303 435 561 647 648 558 555 651 552\n 549 653 547 546 545 655 656 657 658 659 538 660 535 534 662 666 644 669\n 566 568 604 603 607 609 600 610 612 597 614 615 594 588 587 622 623 583\n 624 627 631 637 641 571 569 643 673 525 675 471 469 468 466 461 460 459\n 720 455 454 453 452 451 728 729 446 445 731 733 441 734 438 737 712 473\n 474 475 676 520 680 512 684 686 687 690 501 998 692 738 497 494 492 696\n 700 701 702 484 483 706 479 478 496 486 606 796 199 198 194  51 191 190\n 875 352  49  52 181 877 968 879 175  55  59 172 182 869 868 867 229 228\n  94  38 851 977 222 221 220 854 855 856 214 213 211 207 972 971 970  61\n 169 886 888 959 916  80 123 920  81 117 958 116 923 112 954 106 931  87\n 100 951  97 935 911 230  78 135 164 161 891 157 895 155 896  63 152 900\n 901 964 145 963 141 904 905 906  72 907 848 849 233 315   8 311 993 815\n 992 306 305 605 302 301 991 821 295 293 292 990 822 846 811 287 317 808\n 797 349 348 996 799 346 801 344 803 804 339 338 332 331 806 994 328 323\n 807 319 285 289 282 254 283  27 984 252 982 251 250 840 836 980 245 243\n 242 241 240 843 979  36 234  34 256  25 987 825  17 279  19 988 829 271\n 270 269 939 261 266 257 259  22 645 989 978 961 649 619 652 646 957 639\n 642 995 975 953 985 876 934 852 850 730 736 844 740 842 743 745 746 839\n 750 752 834 833 827 760 826 823 775 816 782 814 813 789 805 795 862 940\n 718 865 933 928 927 661 926 670 921 917 914 908 679 681 682 903 902 897\n 894 883 698 882 880 878 708 873 872 714 870 863   0 999 447 156 487  90\n 489 382 381 495 377 371 160 507 508 154 509 365  89 515 516 518 363 357\n 127 351  82  79 528 162  93  99 480 423 124 429 422 128 434 416 122 120\n 413 442 411 443 408 450 134 405 110 402 458 139 399 149 472 394 390 103\n  74 530  86 531 570  35  33 202 277 174 206 267 263 208  20 281  14 253\n 580 239 591 592   6 596 598 226 599 225  12 286 276 424 290 185 321 186\n 320 310 307 536 550 532 602 336  67 541 845 236 173 847 129 841 860 168\n 406 232 177 859 893 403 387 780 379 820 871 818 189 898 761 890 167 899\n 812 861 769 767 766 838 831 810 608 918 493 694 502 947 685 677 665 966\n 544 548  44 559 976 699  39 567 638 983 628 626 581 584 585  10 620 618\n 611 997 565 704 672 217 719 724 463 465 725 924 716 216 118 930 721 470\n 739 713 436   9 109 913 912 215 201 209   2 981 925  32 204 205 119 864\n  31  24  23 200  16 133 115 910  21  92 138 932 941 943 944 105 892 946\n 151 948 949 950  88 146 955 956 884 171 193 938  46  50  53 179  40 967\n  71 962 176  73 881 126 144  42 341 499 529 431 667 426 664 425 663 533\n 735 539 756 757 542 764 765 553 400 772 540 397 671 449 503 490 505 510\n 485 482 683 514 732 707 476 711 519 521 522 218 726 527 477 554 774 633\n 313 632 576 817 819 296 630 280 274 577 832 255 837 595 231 613 601 809\n 329 491 802 557 564 383 370 640 340 573 574 791 798 347 575 345 350 636\n 629  84 589  37  47   4 560  43 498 457 887 778 192 407 754 800 749 203\n 368 915 427 439 768 440 113 158 786 107 467  96 936 210 227 727 945 635\n 170 697 299 284 273 590 248 246 316 830 388 572 942 488 703  85 722 674\n 366 748 418 654 140 153 779 563  68 224]\n[722, 674, 366, 748, 418, 654, 140, 153, 779, 563, 68]\nIndices of the second highest values in each row:\n[722, 674, 366, 748, 418, 654, 140, 153, 779, 563, 68]\n",
          "output_type": "stream"
        }
      ],
      "execution_count": 346
    },
    {
      "cell_type": "code",
      "source": "df2.iloc[MovieID2-1]",
      "metadata": {
        "trusted": true
      },
      "outputs": [
        {
          "execution_count": 286,
          "output_type": "execute_result",
          "data": {
            "text/plain": "Title                                                           Jai Bhim\nDirector                                                    T.J.Gnanavel\nStars                  Suriya, LijoMolJose, ManikandanK., RajishaVijayan\nIMDb-Rating                                                          8.9\nCategory                                             Crime,Drama,Mystery\nDuration                                                             164\nCensor-board-rating                                                    A\nReleaseYear                                                         2021\nTill60                                                                 0\nTill80s                                                                0\nTill00s                                                                0\nTill10s                                                                0\nTill20s                                                                1\nName: 563, dtype: object"
          },
          "metadata": {}
        }
      ],
      "execution_count": 286
    },
    {
      "cell_type": "code",
      "source": "df2.iloc[563]",
      "metadata": {
        "trusted": true
      },
      "outputs": [
        {
          "execution_count": 288,
          "output_type": "execute_result",
          "data": {
            "text/plain": "Title                                                           Jai Bhim\nDirector                                                    T.J.Gnanavel\nStars                  Suriya, LijoMolJose, ManikandanK., RajishaVijayan\nIMDb-Rating                                                          8.9\nCategory                                             Crime,Drama,Mystery\nDuration                                                             164\nCensor-board-rating                                                    A\nReleaseYear                                                         2021\nTill60                                                                 0\nTill80s                                                                0\nTill00s                                                                0\nTill10s                                                                0\nTill20s                                                                1\nName: 563, dtype: object"
          },
          "metadata": {}
        }
      ],
      "execution_count": 288
    },
    {
      "cell_type": "code",
      "source": "TitleTable=pd.concat([TitleTable,df2['Category']],axis=1)\nTitleTable.head(5)",
      "metadata": {
        "trusted": true
      },
      "outputs": [
        {
          "execution_count": 298,
          "output_type": "execute_result",
          "data": {
            "text/plain": "   Movie_ID                              Title            Director  \\\n0         1                  Top Gun: Maverick      JosephKosinski   \n1         2  Everything Everywhere All at Once            DanKwan,   \n2         3                         The Batman          MattReeves   \n3         4                      Jurassic Park     StevenSpielberg   \n4         5                      The Godfather  FrancisFordCoppola   \n\n                            Stars  IMDb-Rating                 Category  \n0  [TomCruise,  JenniferConnelly]          8.6             Action,Drama  \n1  [ MichelleYeoh,  StephanieHsu]          8.3  Action,Adventure,Comedy  \n2  [RobertPattinson,  ZoëKravitz]          7.9       Action,Crime,Drama  \n3          [SamNeill,  LauraDern]          8.2  Action,Adventure,Sci-Fi  \n4       [MarlonBrando,  AlPacino]          9.2              Crime,Drama  ",
            "text/html": "<div>\n<style scoped>\n    .dataframe tbody tr th:only-of-type {\n        vertical-align: middle;\n    }\n\n    .dataframe tbody tr th {\n        vertical-align: top;\n    }\n\n    .dataframe thead th {\n        text-align: right;\n    }\n</style>\n<table border=\"1\" class=\"dataframe\">\n  <thead>\n    <tr style=\"text-align: right;\">\n      <th></th>\n      <th>Movie_ID</th>\n      <th>Title</th>\n      <th>Director</th>\n      <th>Stars</th>\n      <th>IMDb-Rating</th>\n      <th>Category</th>\n    </tr>\n  </thead>\n  <tbody>\n    <tr>\n      <th>0</th>\n      <td>1</td>\n      <td>Top Gun: Maverick</td>\n      <td>JosephKosinski</td>\n      <td>[TomCruise,  JenniferConnelly]</td>\n      <td>8.6</td>\n      <td>Action,Drama</td>\n    </tr>\n    <tr>\n      <th>1</th>\n      <td>2</td>\n      <td>Everything Everywhere All at Once</td>\n      <td>DanKwan,</td>\n      <td>[ MichelleYeoh,  StephanieHsu]</td>\n      <td>8.3</td>\n      <td>Action,Adventure,Comedy</td>\n    </tr>\n    <tr>\n      <th>2</th>\n      <td>3</td>\n      <td>The Batman</td>\n      <td>MattReeves</td>\n      <td>[RobertPattinson,  ZoëKravitz]</td>\n      <td>7.9</td>\n      <td>Action,Crime,Drama</td>\n    </tr>\n    <tr>\n      <th>3</th>\n      <td>4</td>\n      <td>Jurassic Park</td>\n      <td>StevenSpielberg</td>\n      <td>[SamNeill,  LauraDern]</td>\n      <td>8.2</td>\n      <td>Action,Adventure,Sci-Fi</td>\n    </tr>\n    <tr>\n      <th>4</th>\n      <td>5</td>\n      <td>The Godfather</td>\n      <td>FrancisFordCoppola</td>\n      <td>[MarlonBrando,  AlPacino]</td>\n      <td>9.2</td>\n      <td>Crime,Drama</td>\n    </tr>\n  </tbody>\n</table>\n</div>"
          },
          "metadata": {}
        }
      ],
      "execution_count": 298
    },
    {
      "cell_type": "code",
      "source": "## Movie with highest rating and weighted \nResults=TitleTable.iloc[filtered_list,:]\nResults.sort_values(by='IMDb-Rating',ascending=False)\n",
      "metadata": {
        "trusted": true
      },
      "outputs": [
        {
          "execution_count": 300,
          "output_type": "execute_result",
          "data": {
            "text/plain": "     Movie_ID                                            Title  \\\n307       308                                         3 Idiots   \n120       121                               Dead Poets Society   \n961       962                                  La règle du jeu   \n718       719                      Guess Whos Coming to Dinner   \n79         80                               The Breakfast Club   \n371       372  Birdman or (The Unexpected Virtue of Ignorance)   \n377       378                              Lost in Translation   \n670       671                                       Short Cuts   \n434       435                                            Naked   \n852       853                                The Station Agent   \n408       409                             The Royal Tenenbaums   \n\n                Director                                Stars  IMDb-Rating  \\\n307       RajkumarHirani               [AamirKhan,  Madhavan]          8.4   \n120            PeterWeir  [RobinWilliams,  RobertSeanLeonard]          8.1   \n961           JeanRenoir           [MarcelDalio,  NoraGregor]          7.9   \n718        StanleyKramer       [SpencerTracy,  SidneyPoitier]          7.8   \n79            JohnHughes         [EmilioEstevez,  JuddNelson]          7.8   \n371  AlejandroG.Iñárritu   [MichaelKeaton,  ZachGalifianakis]          7.7   \n377         SofiaCoppola     [BillMurray,  ScarlettJohansson]          7.7   \n670         RobertAltman     [AndieMacDowell,  JulianneMoore]          7.7   \n434            MikeLeigh         [DavidThewlis,  LesleySharp]          7.7   \n852          TomMcCarthy   [PeterDinklage,  PatriciaClarkson]          7.6   \n408          WesAnderson       [GeneHackman,  GwynethPaltrow]          7.6   \n\n         Category  \n307  Comedy,Drama  \n120  Comedy,Drama  \n961  Comedy,Drama  \n718  Comedy,Drama  \n79   Comedy,Drama  \n371  Comedy,Drama  \n377  Comedy,Drama  \n670  Comedy,Drama  \n434  Comedy,Drama  \n852  Comedy,Drama  \n408  Comedy,Drama  ",
            "text/html": "<div>\n<style scoped>\n    .dataframe tbody tr th:only-of-type {\n        vertical-align: middle;\n    }\n\n    .dataframe tbody tr th {\n        vertical-align: top;\n    }\n\n    .dataframe thead th {\n        text-align: right;\n    }\n</style>\n<table border=\"1\" class=\"dataframe\">\n  <thead>\n    <tr style=\"text-align: right;\">\n      <th></th>\n      <th>Movie_ID</th>\n      <th>Title</th>\n      <th>Director</th>\n      <th>Stars</th>\n      <th>IMDb-Rating</th>\n      <th>Category</th>\n    </tr>\n  </thead>\n  <tbody>\n    <tr>\n      <th>307</th>\n      <td>308</td>\n      <td>3 Idiots</td>\n      <td>RajkumarHirani</td>\n      <td>[AamirKhan,  Madhavan]</td>\n      <td>8.4</td>\n      <td>Comedy,Drama</td>\n    </tr>\n    <tr>\n      <th>120</th>\n      <td>121</td>\n      <td>Dead Poets Society</td>\n      <td>PeterWeir</td>\n      <td>[RobinWilliams,  RobertSeanLeonard]</td>\n      <td>8.1</td>\n      <td>Comedy,Drama</td>\n    </tr>\n    <tr>\n      <th>961</th>\n      <td>962</td>\n      <td>La règle du jeu</td>\n      <td>JeanRenoir</td>\n      <td>[MarcelDalio,  NoraGregor]</td>\n      <td>7.9</td>\n      <td>Comedy,Drama</td>\n    </tr>\n    <tr>\n      <th>718</th>\n      <td>719</td>\n      <td>Guess Whos Coming to Dinner</td>\n      <td>StanleyKramer</td>\n      <td>[SpencerTracy,  SidneyPoitier]</td>\n      <td>7.8</td>\n      <td>Comedy,Drama</td>\n    </tr>\n    <tr>\n      <th>79</th>\n      <td>80</td>\n      <td>The Breakfast Club</td>\n      <td>JohnHughes</td>\n      <td>[EmilioEstevez,  JuddNelson]</td>\n      <td>7.8</td>\n      <td>Comedy,Drama</td>\n    </tr>\n    <tr>\n      <th>371</th>\n      <td>372</td>\n      <td>Birdman or (The Unexpected Virtue of Ignorance)</td>\n      <td>AlejandroG.Iñárritu</td>\n      <td>[MichaelKeaton,  ZachGalifianakis]</td>\n      <td>7.7</td>\n      <td>Comedy,Drama</td>\n    </tr>\n    <tr>\n      <th>377</th>\n      <td>378</td>\n      <td>Lost in Translation</td>\n      <td>SofiaCoppola</td>\n      <td>[BillMurray,  ScarlettJohansson]</td>\n      <td>7.7</td>\n      <td>Comedy,Drama</td>\n    </tr>\n    <tr>\n      <th>670</th>\n      <td>671</td>\n      <td>Short Cuts</td>\n      <td>RobertAltman</td>\n      <td>[AndieMacDowell,  JulianneMoore]</td>\n      <td>7.7</td>\n      <td>Comedy,Drama</td>\n    </tr>\n    <tr>\n      <th>434</th>\n      <td>435</td>\n      <td>Naked</td>\n      <td>MikeLeigh</td>\n      <td>[DavidThewlis,  LesleySharp]</td>\n      <td>7.7</td>\n      <td>Comedy,Drama</td>\n    </tr>\n    <tr>\n      <th>852</th>\n      <td>853</td>\n      <td>The Station Agent</td>\n      <td>TomMcCarthy</td>\n      <td>[PeterDinklage,  PatriciaClarkson]</td>\n      <td>7.6</td>\n      <td>Comedy,Drama</td>\n    </tr>\n    <tr>\n      <th>408</th>\n      <td>409</td>\n      <td>The Royal Tenenbaums</td>\n      <td>WesAnderson</td>\n      <td>[GeneHackman,  GwynethPaltrow]</td>\n      <td>7.6</td>\n      <td>Comedy,Drama</td>\n    </tr>\n  </tbody>\n</table>\n</div>"
          },
          "metadata": {}
        }
      ],
      "execution_count": 300
    },
    {
      "cell_type": "code",
      "source": "df2.iloc[MovieID2-1]",
      "metadata": {
        "trusted": true
      },
      "outputs": [
        {
          "execution_count": 297,
          "output_type": "execute_result",
          "data": {
            "text/plain": "Title                                   Once Upon a Time in... Hollywood\nDirector                                                QuentinTarantino\nStars                  LeonardoDiCaprio, BradPitt, MargotRobbie, Emil...\nIMDb-Rating                                                          7.6\nCategory                                                    Comedy,Drama\nDuration                                                             161\nCensor-board-rating                                                    A\nReleaseYear                                                         2019\nTill60                                                                 0\nTill80s                                                                0\nTill00s                                                                0\nTill10s                                                                0\nTill20s                                                                1\nName: 14, dtype: object"
          },
          "metadata": {}
        }
      ],
      "execution_count": 297
    },
    {
      "cell_type": "code",
      "source": "##Create users and compare",
      "metadata": {
        "trusted": true
      },
      "outputs": [],
      "execution_count": null
    },
    {
      "cell_type": "code",
      "source": "# Step 2: Create the Users DataFrame\nnum_users = 10000\nuser_ids = np.arange(1, num_users + 1)  # User IDs from 1 to 10000\nusers_df = pd.DataFrame({'User_ID': user_ids})\n\n# Step 3: Generate Watch History for Each User\n# Function to randomly select 4 unique movie IDs for a user\ndef select_movies():\n    return np.random.choice(TitleTable['Movie_ID'], size=4, replace=False).tolist()\n\n# Create a new column 'Watch_History' in users_df\nusers_df['Watch_History'] = [select_movies() for _ in range(num_users)]\n\n# Display the first few rows of the Users DataFrame\nprint(users_df.tail(6))",
      "metadata": {
        "trusted": true
      },
      "outputs": [
        {
          "name": "stdout",
          "text": "      User_ID         Watch_History\n9994     9995  [630, 729, 761, 593]\n9995     9996  [130, 562, 845, 139]\n9996     9997   [925, 908, 967, 72]\n9997     9998  [498, 122, 739, 726]\n9998     9999     [702, 67, 6, 224]\n9999    10000  [867, 699, 386, 358]\n",
          "output_type": "stream"
        }
      ],
      "execution_count": 302
    },
    {
      "cell_type": "code",
      "source": "# Step 1: Convert the column to a NumPy array\nnp_array = users_df['Watch_History'].to_numpy()\n\n# Step 2: Sort the lists in each row\nsorted_array = np.array([sorted(row) for row in np_array])\n\ntest = pd.dataframe(sorted_array.tolist() # back to dataframe",
      "metadata": {
        "trusted": true
      },
      "outputs": [
        {
          "ename": "<class 'NameError'>",
          "evalue": "name 'test' is not defined",
          "traceback": [
            "\u001b[0;31m---------------------------------------------------------------------------\u001b[0m",
            "\u001b[0;31mNameError\u001b[0m                                 Traceback (most recent call last)",
            "Cell \u001b[0;32mIn[308], line 7\u001b[0m\n\u001b[1;32m      4\u001b[0m \u001b[38;5;66;03m# Step 2: Sort the lists in each row\u001b[39;00m\n\u001b[1;32m      5\u001b[0m sorted_array \u001b[38;5;241m=\u001b[39m np\u001b[38;5;241m.\u001b[39marray([\u001b[38;5;28msorted\u001b[39m(row) \u001b[38;5;28;01mfor\u001b[39;00m row \u001b[38;5;129;01min\u001b[39;00m np_array])\n\u001b[0;32m----> 7\u001b[0m \u001b[43mtest\u001b[49m[\u001b[38;5;124m'\u001b[39m\u001b[38;5;124msorted_column\u001b[39m\u001b[38;5;124m'\u001b[39m] \u001b[38;5;241m=\u001b[39m sorted_array\u001b[38;5;241m.\u001b[39mtolist() \u001b[38;5;66;03m# back to dataframe\u001b[39;00m\n",
            "\u001b[0;31mNameError\u001b[0m: name 'test' is not defined"
          ],
          "output_type": "error"
        }
      ],
      "execution_count": 308
    },
    {
      "cell_type": "code",
      "source": "## RECOMMENDATION METHOD 2: Collaborative Filtering ##",
      "metadata": {
        "trusted": true
      },
      "outputs": [],
      "execution_count": null
    },
    {
      "cell_type": "code",
      "source": "# Total number of movies\ntotal_movies = 1000\n\n# Randomly generate movie ids and ratings for the main user\nmain_user_movies = np.random.choice(range(1, total_movies + 1), size=4, replace=False)\nmain_user_ratings = np.random.choice([1, 2, 3], size=4)\n\n# Store main user data\nmain_user_data = pd.DataFrame({'movie_id': main_user_movies, 'rating': main_user_ratings})\n\n# Generate random data for 10000 users\nusers = []\nfor user_id in range(10000):\n    movies_watched = np.random.choice(range(1, total_movies + 1), size=4, replace=False)\n    ratings_given = np.random.choice([1, 2, 3], size=4)\n    users.append(pd.DataFrame({\n        'user_id': user_id,\n        'movie_id': movies_watched,\n        'rating': ratings_given\n    }))\n\n# Concatenate the list of user dataframes into one\nall_users_data = pd.concat(users)\n\n# Function to calculate similarity between two users\ndef calculate_similarity(main_user_data, other_user_data):\n    # Find common movies\n    common_movies = pd.merge(main_user_data, other_user_data, on='movie_id')\n    \n    if common_movies.empty:\n        return 0  # No common movies\n    \n    # Calculate cosine similarity between the ratings of common movies\n    similarity = cosine_similarity([common_movies['rating_x']], [common_movies['rating_y']])\n    return similarity[0][0]\n\n# Variable to store the most similar user and the highest similarity score\nmost_similar_user_id = None\nhighest_similarity = -1\n\n# Loop through all users and find the most similar user\nfor user_id in range(10000):\n    # Get data for current user\n    user_data = all_users_data[all_users_data['user_id'] == user_id]\n    \n    # Calculate similarity\n    similarity = calculate_similarity(main_user_data, user_data)\n    \n    # Check if this user is more similar than the previous users\n    if similarity > highest_similarity:\n        highest_similarity = similarity\n        most_similar_user_id = user_id\n\n# Get the most similar user's data\nmost_similar_user_data = all_users_data[all_users_data['user_id'] == most_similar_user_id]\n\n# Recommend a movie that the most similar user has seen but the main user hasn't\nrecommended_movie = set(most_similar_user_data['movie_id']) - set(main_user_data['movie_id'])\n\n# Print results\nprint(f\"Most similar user ID: {most_similar_user_id}\")\nprint(f\"Movies rated by the main user:\\n{main_user_data}\")\nprint(f\"Movies rated by the most similar user:\\n{most_similar_user_data}\")\nprint(f\"Recommended movie(s): {recommended_movie}\")",
      "metadata": {
        "trusted": true
      },
      "outputs": [
        {
          "name": "stdout",
          "text": "Most similar user ID: 23\nMovies rated by the main user:\n   movie_id  rating\n0       330       1\n1       107       3\n2        16       3\n3        50       1\nMovies rated by the most similar user:\n   user_id  movie_id  rating\n0       23       821       3\n1       23       131       3\n2       23       609       2\n3       23       330       1\nRecommended movie(s): {609, 131, 821}\n",
          "output_type": "stream"
        }
      ],
      "execution_count": 349
    },
    {
      "cell_type": "code",
      "source": "#Create Function of liking ",
      "metadata": {
        "trusted": true
      },
      "outputs": [],
      "execution_count": null
    }
  ]
}